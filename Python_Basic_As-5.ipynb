{
 "cells": [
  {
   "cell_type": "markdown",
   "id": "03e190e1",
   "metadata": {},
   "source": [
    "1. An empty dictionary in Python is defined using curly braces {}. An empty dictionary contains no key-value pairs. Below is the examples of it."
   ]
  },
  {
   "cell_type": "code",
   "execution_count": 3,
   "id": "3e40e8d3",
   "metadata": {},
   "outputs": [],
   "source": [
    "dict_new = {}  # empty dictionary"
   ]
  },
  {
   "cell_type": "markdown",
   "id": "c8564a30",
   "metadata": {},
   "source": [
    "2. The value associated with the key 'foo' in a dictionary with the value 42 would be 42.Below is the example of it."
   ]
  },
  {
   "cell_type": "code",
   "execution_count": 4,
   "id": "239957c9",
   "metadata": {},
   "outputs": [
    {
     "name": "stdout",
     "output_type": "stream",
     "text": [
      "42\n"
     ]
    }
   ],
   "source": [
    "dict_new = {'foo':42}\n",
    "value_of_dict_foo = dict_new['foo']\n",
    "print(value_of_dict_foo)"
   ]
  },
  {
   "cell_type": "markdown",
   "id": "c59a468d",
   "metadata": {},
   "source": [
    "3. The most significant distinction between a dictionary and a list in Python is the way they store and organize data:\n",
    "\n",
    "-> A dictionary stores data as key-value pairs. Each key is a unique identifier associated with a value. This allows you to access values using their keys rather than using numerical indices whereas a list stores data as an ordered collection of indexed values. Each element in a list is accessed using its position (index) in the list."
   ]
  },
  {
   "cell_type": "markdown",
   "id": "f94d512e",
   "metadata": {},
   "source": [
    "4. If you try to access spam['foo'] and spam is a dictionary with the key 'bar' and the value 100, you will encounter a KeyError. The KeyError is raised because the key 'foo' does not exist in the dictionary spam."
   ]
  },
  {
   "cell_type": "markdown",
   "id": "53890528",
   "metadata": {},
   "source": [
    "5. Both expressions 'cat' in spam and 'cat' in spam.keys() are used to check whether the key 'cat' exists in the dictionary stored in the variable spam. However, there is a slight difference in their behavior:\n",
    "\n",
    "-> 'cat' in spam:\n",
    "This expression checks if the string 'cat' is a key present in the dictionary spam. If the key 'cat' exists as a key in spam, this expression will evaluate to True; otherwise, it will evaluate to False.\n",
    "\n",
    "-> 'cat' in spam.keys():\n",
    "This expression checks if the string 'cat' is present in the list of keys obtained from the keys() method of the dictionary spam. The keys() method returns a view of all the keys in the dictionary. If 'cat' is one of the keys, the expression will evaluate to True; otherwise, it will evaluate to False."
   ]
  },
  {
   "cell_type": "markdown",
   "id": "05d50896",
   "metadata": {},
   "source": [
    "6. \n",
    "\n",
    "-> 'cat' in spam:\n",
    "This expression checks if the string 'cat' is a key present in the dictionary spam. It does not check the values associated with the keys. If the key 'cat' exists as a key in spam, this expression will evaluate to True; otherwise, it will evaluate to False.\n",
    "\n",
    "-> 'cat' in spam.values():\n",
    "This expression checks if the value 'cat' is present in the list of values obtained from the values() method of the dictionary spam. The values() method returns a view of all the values in the dictionary. If 'cat' is one of the values, the expression will evaluate to True; otherwise, it will evaluate to False."
   ]
  },
  {
   "cell_type": "markdown",
   "id": "d6246a64",
   "metadata": {},
   "source": [
    "7. We can use a shorcut using setdefault().\n",
    "\n",
    "spam.setdefault('color', 'black')"
   ]
  },
  {
   "cell_type": "code",
   "execution_count": 7,
   "id": "13700eb4",
   "metadata": {},
   "outputs": [
    {
     "name": "stdout",
     "output_type": "stream",
     "text": [
      "{'age': 30,\n",
      " 'city': 'New York',\n",
      " 'contacts': {'email': 'alice@example.com', 'phone': '123-456-7890'},\n",
      " 'hobbies': ['reading', 'hiking', 'cooking'],\n",
      " 'name': 'Alice'}\n"
     ]
    }
   ],
   "source": [
    "# 8. we are using pprint module inside which we used pprint function to print our dictionary\n",
    "\n",
    "import pprint\n",
    "\n",
    "my_dict = {\n",
    "    'name': 'Alice',\n",
    "    'age': 30,\n",
    "    'city': 'New York',\n",
    "    'hobbies': ['reading', 'hiking', 'cooking'],\n",
    "    'contacts': {\n",
    "        'email': 'alice@example.com',\n",
    "        'phone': '123-456-7890'\n",
    "    }\n",
    "}\n",
    "\n",
    "pprint.pprint(my_dict)"
   ]
  }
 ],
 "metadata": {
  "kernelspec": {
   "display_name": "Python 3 (ipykernel)",
   "language": "python",
   "name": "python3"
  },
  "language_info": {
   "codemirror_mode": {
    "name": "ipython",
    "version": 3
   },
   "file_extension": ".py",
   "mimetype": "text/x-python",
   "name": "python",
   "nbconvert_exporter": "python",
   "pygments_lexer": "ipython3",
   "version": "3.9.13"
  }
 },
 "nbformat": 4,
 "nbformat_minor": 5
}
