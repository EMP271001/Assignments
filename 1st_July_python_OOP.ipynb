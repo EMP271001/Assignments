{
 "cells": [
  {
   "cell_type": "markdown",
   "id": "eef42fed",
   "metadata": {},
   "source": [
    "1. The primary goal of OOP(Object oriented programming) is to model real-world entities and their interactions in a way that promotes code organization, reusability, and maintainability. "
   ]
  },
  {
   "cell_type": "markdown",
   "id": "5ee737d6",
   "metadata": {},
   "source": [
    "2. In Python, an object is a fundamental concept of Object-Oriented Programming (OOP). An object is an instance of a class, and it encapsulates both data (attributes) and behavior (methods) related to a particular entity or concept. Objects are used to model real-world entities or abstract concepts in a program."
   ]
  },
  {
   "cell_type": "markdown",
   "id": "7b2ab1e4",
   "metadata": {},
   "source": [
    "3. In Python,a class is a blueprint or template that defines the structure and behavior of objects. It serves as a template for creating objects with specific attributes and methods."
   ]
  },
  {
   "cell_type": "markdown",
   "id": "8dfec3af",
   "metadata": {},
   "source": [
    "4. Attributes are variables that store data within an object. They represent the characteristics or properties of the object.\n",
    "\n",
    "   Methods are functions defined within a class that define the behavior or actions that objects of that class can perform."
   ]
  },
  {
   "cell_type": "markdown",
   "id": "7430a9ca",
   "metadata": {},
   "source": [
    "5. \n",
    "\n",
    " Here's a breakdown of the differences between class variables and instance variables:\n",
    "\n",
    "-> Scope:\n",
    "\n",
    "Class Variables: Class variables are shared among all instances of a class. They are defined within the class but outside of any methods. Changes made to a class variable will affect all instances of the class.\n",
    "\n",
    "Instance Variables: Instance variables are unique to each instance of a class. They are defined within the __init__ method and are specific to an individual object created from the class.\n",
    "\n",
    "\n",
    "-> Access:\n",
    "\n",
    "Class Variables: Class variables can be accessed using the class name or an instance of the class. If accessed using an instance, any changes to the class variable through that instance will affect all instances.\n",
    "\n",
    "Instance Variables: Instance variables are accessed using the instance name and are specific to that particular instance.\n",
    "\n",
    "\n",
    "-> Modification:\n",
    "\n",
    "Class Variables: Class variables can be modified using the class name. Changes will affect all instances of the class.\n",
    "\n",
    "Instance Variables: Instance variables can be modified using the instance name. Changes will affect only that specific instance."
   ]
  },
  {
   "cell_type": "markdown",
   "id": "83a53b7d",
   "metadata": {},
   "source": [
    "6. In Python, the self parameter in class methods serves as a reference to the instance of the class on which the method is called. It allows methods to access and manipulate the instance's attributes and other methods. When you call an instance method, Python automatically passes the instance as the first argument (conventionally named self) to the method. This allows the method to interact with the specific instance's data and behavior. Without self, methods wouldn't have a way to differentiate between different instances of the same class."
   ]
  },
  {
   "cell_type": "code",
   "execution_count": 5,
   "id": "1eb6a988",
   "metadata": {},
   "outputs": [
    {
     "name": "stdout",
     "output_type": "stream",
     "text": [
      "Book 'Free to Focus' has been checked out.\n",
      "Title: Free to Focus\n",
      "Author: Michael Hyatt\n",
      "ISBN: 978-0-316-76948-2\n",
      "Publication Year: 2019\n",
      "Available Copies: 6\n",
      "Book 'Free to Focus' has been returned.\n",
      "Book ' A Brief History of Time' has been checked out.\n",
      "Title:  A Brief History of Time\n",
      "Author: Stephen Hawking\n",
      "ISBN: 978-0-06-112008-4\n",
      "Publication Year: 1970\n",
      "Available Copies: 3\n",
      "Book ' A Brief History of Time' has been returned.\n"
     ]
    }
   ],
   "source": [
    "# 7\n",
    "\n",
    "class Book:\n",
    "    def __init__(self, title, author, isbn, publication_year, available_copies):\n",
    "        self.title = title\n",
    "        self.author = author\n",
    "        self.isbn = isbn\n",
    "        self.publication_year = publication_year\n",
    "        self.available_copies = available_copies\n",
    "    \n",
    "    def check_out(self):\n",
    "        if self.available_copies > 0:\n",
    "            self.available_copies -= 1\n",
    "            print(f\"Book '{self.title}' has been checked out.\")\n",
    "        else:\n",
    "            print(f\"No available copies of '{self.title}' for checkout.\")\n",
    "    \n",
    "    def return_book(self):\n",
    "        self.available_copies += 1\n",
    "        print(f\"Book '{self.title}' has been returned.\")\n",
    "    \n",
    "    def display_book_info(self):\n",
    "        print(\"Title:\", self.title)\n",
    "        print(\"Author:\", self.author)\n",
    "        print(\"ISBN:\", self.isbn)\n",
    "        print(\"Publication Year:\", self.publication_year)\n",
    "        print(\"Available Copies:\", self.available_copies)\n",
    "\n",
    "# Creating instances of the Book class\n",
    "book1 = Book(\"Free to Focus\", \"Michael Hyatt\", \"978-0-316-76948-2\", 2019, 7)\n",
    "book2 = Book(\" A Brief History of Time\", \"Stephen Hawking\", \"978-0-06-112008-4\", 1970, 4)\n",
    "\n",
    "# Performing book checkout and checkin, and displaying book info\n",
    "book1.check_out()\n",
    "book1.display_book_info()\n",
    "book1.return_book()\n",
    "book2.check_out()\n",
    "book2.display_book_info()\n",
    "book2.return_book()"
   ]
  },
  {
   "cell_type": "code",
   "execution_count": 6,
   "id": "91d651cb",
   "metadata": {},
   "outputs": [
    {
     "name": "stdout",
     "output_type": "stream",
     "text": [
      "Ticket 1 has been reserved.\n",
      "Ticket ID: 1\n",
      "Event Name: Concert\n",
      "Event Date: 2023-08-15\n",
      "Venue: Stadium\n",
      "Seat Number: A-101\n",
      "Price: 50\n",
      "Reservation Status: Reserved\n",
      "Reservation for ticket 1 has been canceled.\n",
      "Ticket 2 has been reserved.\n",
      "Ticket ID: 2\n",
      "Event Name: Theater\n",
      "Event Date: 2023-09-10\n",
      "Venue: Theater Hall\n",
      "Seat Number: B-202\n",
      "Price: 30\n",
      "Reservation Status: Reserved\n",
      "Reservation for ticket 2 has been canceled.\n"
     ]
    }
   ],
   "source": [
    "# 8 \n",
    "\n",
    "class Ticket:\n",
    "    def __init__(self, ticket_id, event_name, event_date, venue, seat_number, price):\n",
    "        self.ticket_id = ticket_id\n",
    "        self.event_name = event_name\n",
    "        self.event_date = event_date\n",
    "        self.venue = venue\n",
    "        self.seat_number = seat_number\n",
    "        self.price = price\n",
    "        self.is_reserved = False\n",
    "    \n",
    "    def reserve_ticket(self):\n",
    "        if not self.is_reserved:\n",
    "            self.is_reserved = True\n",
    "            print(f\"Ticket {self.ticket_id} has been reserved.\")\n",
    "        else:\n",
    "            print(f\"Ticket {self.ticket_id} is already reserved.\")\n",
    "    \n",
    "    def cancel_reservation(self):\n",
    "        if self.is_reserved:\n",
    "            self.is_reserved = False\n",
    "            print(f\"Reservation for ticket {self.ticket_id} has been canceled.\")\n",
    "        else:\n",
    "            print(f\"Ticket {self.ticket_id} is not reserved.\")\n",
    "    \n",
    "    def display_ticket_info(self):\n",
    "        print(\"Ticket ID:\", self.ticket_id)\n",
    "        print(\"Event Name:\", self.event_name)\n",
    "        print(\"Event Date:\", self.event_date)\n",
    "        print(\"Venue:\", self.venue)\n",
    "        print(\"Seat Number:\", self.seat_number)\n",
    "        print(\"Price:\", self.price)\n",
    "        print(\"Reservation Status:\", \"Reserved\" if self.is_reserved else \"Not Reserved\")\n",
    "\n",
    "# Creating instances of the Ticket class\n",
    "ticket1 = Ticket(1, \"Concert\", \"2023-08-15\", \"Stadium\", \"A-101\", 50)\n",
    "ticket2 = Ticket(2, \"Theater\", \"2023-09-10\", \"Theater Hall\", \"B-202\", 30)\n",
    "\n",
    "# Performing ticket reservation and cancellation, and displaying ticket info\n",
    "ticket1.reserve_ticket()\n",
    "ticket1.display_ticket_info()\n",
    "ticket1.cancel_reservation()\n",
    "ticket2.reserve_ticket()\n",
    "ticket2.display_ticket_info()\n",
    "ticket2.cancel_reservation()\n"
   ]
  },
  {
   "cell_type": "code",
   "execution_count": 8,
   "id": "a5da169f",
   "metadata": {},
   "outputs": [
    {
     "name": "stdout",
     "output_type": "stream",
     "text": [
      "Item 'Tshirt' added to the shopping cart.\n",
      "Item 'Toys' added to the shopping cart.\n",
      "Items in the shopping cart:\n",
      "- Tshirt\n",
      "- Toys\n",
      "Item 'Toys' removed from the shopping cart.\n",
      "Items in the shopping cart:\n",
      "- Tshirt\n",
      "Shopping cart cleared.\n",
      "The shopping cart is empty.\n"
     ]
    }
   ],
   "source": [
    "# 9 \n",
    "\n",
    "\n",
    "class ShoppingCart:\n",
    "    def __init__(self):\n",
    "        self.items = []\n",
    "    \n",
    "    def add_item(self, item):\n",
    "        self.items.append(item)\n",
    "        print(f\"Item '{item}' added to the shopping cart.\")\n",
    "    \n",
    "    def remove_item(self, item):\n",
    "        if item in self.items:\n",
    "            self.items.remove(item)\n",
    "            print(f\"Item '{item}' removed from the shopping cart.\")\n",
    "        else:\n",
    "            print(f\"Item '{item}' is not in the shopping cart.\")\n",
    "    \n",
    "    def view_cart(self):\n",
    "        if self.items:\n",
    "            print(\"Items in the shopping cart:\")\n",
    "            for item in self.items:\n",
    "                print(\"-\", item)\n",
    "        else:\n",
    "            print(\"The shopping cart is empty.\")\n",
    "    \n",
    "    def clear_cart(self):\n",
    "        self.items = []\n",
    "        print(\"Shopping cart cleared.\")\n",
    "\n",
    "# Creating an instance of the ShoppingCart class\n",
    "cart = ShoppingCart()\n",
    "\n",
    "# Adding and removing items from the cart, and viewing the cart\n",
    "cart.add_item(\"Tshirt\")\n",
    "cart.add_item(\"Toys\")\n",
    "cart.view_cart()\n",
    "\n",
    "cart.remove_item(\"Toys\")\n",
    "cart.view_cart()\n",
    "\n",
    "cart.clear_cart()\n",
    "cart.view_cart()\n"
   ]
  },
  {
   "cell_type": "code",
   "execution_count": 9,
   "id": "56a293bd",
   "metadata": {},
   "outputs": [
    {
     "name": "stdout",
     "output_type": "stream",
     "text": [
      "Attendance for Akash on 2023-08-01 updated to 'present'.\n",
      "Attendance for Akash on 2023-08-02 updated to 'absent'.\n",
      "Attendance for Saumalya on 2023-08-01 updated to 'present'.\n",
      "{'2023-08-01': 'present', '2023-08-02': 'absent'}\n",
      "Average attendance for Akash: 50.00%\n",
      "{'2023-08-01': 'present'}\n",
      "Average attendance for Saumalya: 100.00%\n"
     ]
    }
   ],
   "source": [
    "# 10\n",
    "\n",
    "class Student:\n",
    "    def __init__(self, name, age, grade, student_id):\n",
    "        self.name = name\n",
    "        self.age = age\n",
    "        self.grade = grade\n",
    "        self.student_id = student_id\n",
    "        self.attendance = {}\n",
    "    \n",
    "    def update_attendance(self, date, status):\n",
    "        self.attendance[date] = status\n",
    "        print(f\"Attendance for {self.name} on {date} updated to '{status}'.\")\n",
    "    \n",
    "    def get_attendance(self):\n",
    "        return self.attendance\n",
    "    \n",
    "    def get_average_attendance(self):\n",
    "        total_days = len(self.attendance)\n",
    "        if total_days == 0:\n",
    "            return 0.0\n",
    "        \n",
    "        present_days = sum(status == \"present\" for status in self.attendance.values())\n",
    "        average_attendance = (present_days / total_days) * 100\n",
    "        return average_attendance\n",
    "\n",
    "# Creating instances of the Student class\n",
    "student1 = Student(\"Akash\", 15, \"10th\", \"S1001\")\n",
    "student2 = Student(\"Saumalya\", 16, \"11th\", \"S1002\")\n",
    "\n",
    "# Updating attendance and calculating average attendance\n",
    "student1.update_attendance(\"2023-08-01\", \"present\")\n",
    "student1.update_attendance(\"2023-08-02\", \"absent\")\n",
    "student2.update_attendance(\"2023-08-01\", \"present\")\n",
    "\n",
    "print(student1.get_attendance())\n",
    "print(f\"Average attendance for {student1.name}: {student1.get_average_attendance():.2f}%\")\n",
    "print(student2.get_attendance())\n",
    "print(f\"Average attendance for {student2.name}: {student2.get_average_attendance():.2f}%\")\n"
   ]
  }
 ],
 "metadata": {
  "kernelspec": {
   "display_name": "Python 3 (ipykernel)",
   "language": "python",
   "name": "python3"
  },
  "language_info": {
   "codemirror_mode": {
    "name": "ipython",
    "version": 3
   },
   "file_extension": ".py",
   "mimetype": "text/x-python",
   "name": "python",
   "nbconvert_exporter": "python",
   "pygments_lexer": "ipython3",
   "version": "3.9.13"
  }
 },
 "nbformat": 4,
 "nbformat_minor": 5
}
