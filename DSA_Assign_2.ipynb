{
 "cells": [
  {
   "cell_type": "markdown",
   "id": "af56b738",
   "metadata": {},
   "source": [
    "1. Given an integer array nums of 2n integers, group these integers into n pairs (a1, b1), (a2, b2),..., \n",
    "   (an, bn) such that the sum of min(ai, bi) for all i is maximized. Return the maximized sum.\n",
    "\n",
    "Example 1:\n",
    "Input: nums = [1,4,3,2]\n",
    "Output: 4"
   ]
  },
  {
   "cell_type": "code",
   "execution_count": 4,
   "id": "f8fa86ab",
   "metadata": {},
   "outputs": [
    {
     "name": "stdout",
     "output_type": "stream",
     "text": [
      "4\n"
     ]
    }
   ],
   "source": [
    "def array_sum(nums):\n",
    "    nums.sort()\n",
    "    max_sum = 0\n",
    "\n",
    "    for i in range(0, len(nums), 2):\n",
    "        max_sum += nums[i]\n",
    "\n",
    "    return max_sum\n",
    "\n",
    "# Example taken from the question \n",
    "\n",
    "nums = [1, 4, 3, 2]\n",
    "result = arrayPairSum(nums)\n",
    "print(result)\n"
   ]
  },
  {
   "cell_type": "markdown",
   "id": "eeb2bf59",
   "metadata": {},
   "source": [
    "2. Alice has n candies, where the ith candy is of type candyType[i]. Alice noticed that she started to \n",
    "gain weight, so she visited a doctor. The doctor advised Alice to only eat n / 2 of the candies she \n",
    "has (n is always even). Alice likes her candies very much, and she wants to eat the maximum number of \n",
    "different types of candies while still following the doctor's advice. Given the integer array \n",
    "candyType of length n, return the maximum number of different types of candies she can eat if she \n",
    "only eats n / 2 of them.\n",
    "\n",
    "Example 1:\n",
    "Input: candyType = [1,1,2,2,3,3]\n",
    "Output: 3"
   ]
  },
  {
   "cell_type": "code",
   "execution_count": 8,
   "id": "8dff97b0",
   "metadata": {},
   "outputs": [
    {
     "name": "stdout",
     "output_type": "stream",
     "text": [
      "3\n"
     ]
    }
   ],
   "source": [
    "def alice_need_candy(candyType):\n",
    "    unique_candy = set(candyType)\n",
    "    max_candy = min(len(candyType) // 2, len(unique_candy))\n",
    "    return max_candy\n",
    "\n",
    "\n",
    "# Example taken from the question\n",
    "\n",
    "candyType = [1, 1, 2, 2, 3, 3]\n",
    "result = alice_need_candy(candyType)\n",
    "print(result)\n"
   ]
  },
  {
   "cell_type": "markdown",
   "id": "420e5cb9",
   "metadata": {},
   "source": [
    "4. You have a long flowerbed in which some of the plots are planted, and some are not.However, flowers \n",
    "cannot be planted in adjacent plots.Given an integer array flowerbed containing 0's and 1's, \n",
    "where 0 means empty and 1 means not empty, and an integer n, return true if n new flowers can be \n",
    "planted in the flowerbed without violating the no-adjacent-flowers rule and false otherwise.\n",
    "\n",
    "Example 1:\n",
    "Input: flowerbed = [1,0,0,0,1], n = 1\n",
    "Output: true"
   ]
  },
  {
   "cell_type": "code",
   "execution_count": 9,
   "id": "ab6c5f96",
   "metadata": {},
   "outputs": [
    {
     "name": "stdout",
     "output_type": "stream",
     "text": [
      "True\n"
     ]
    }
   ],
   "source": [
    "def place_flowers_without_rules(flowerbed, n):\n",
    "    count = 0\n",
    "    i = 0\n",
    "    while i < len(flowerbed):\n",
    "        if flowerbed[i] == 0:\n",
    "            if i == 0 or flowerbed[i - 1] == 0:\n",
    "                if i == len(flowerbed) - 1 or flowerbed[i + 1] == 0:\n",
    "                    count += 1\n",
    "                    flowerbed[i] = 1\n",
    "                    if count >= n:\n",
    "                        return True\n",
    "        i += 1\n",
    "\n",
    "    return False\n",
    "\n",
    "# Example taken from the question\n",
    "\n",
    "flowerbed = [1, 0, 0, 0, 1]\n",
    "n = 1\n",
    "result = place_flowers_without_rules(flowerbed, n)\n",
    "print(result)\n"
   ]
  },
  {
   "cell_type": "markdown",
   "id": "a2cf75ae",
   "metadata": {},
   "source": [
    "5. Given an integer array nums, find three numbers whose product is maximum and return the maximum \n",
    "product.\n",
    "\n",
    "Example 1:\n",
    "Input: nums = [1,2,3]\n",
    "Output: 6"
   ]
  },
  {
   "cell_type": "code",
   "execution_count": 11,
   "id": "e46c8f96",
   "metadata": {},
   "outputs": [
    {
     "name": "stdout",
     "output_type": "stream",
     "text": [
      "6\n"
     ]
    }
   ],
   "source": [
    "def max_prod(nums):\n",
    "    nums.sort()\n",
    "    n = len(nums)\n",
    "    return max(nums[n - 1] * nums[n - 2] * nums[n - 3], nums[0] * nums[1] * nums[n - 1])\n",
    "\n",
    "\n",
    "# Example taken from the question\n",
    "\n",
    "nums = [1, 2, 3]\n",
    "result = max_prod(nums)\n",
    "print(result)"
   ]
  },
  {
   "cell_type": "markdown",
   "id": "624aaf82",
   "metadata": {},
   "source": [
    "6. Given an array of integers nums which is sorted in ascending order, and an integer target,\n",
    "write a function to search target in nums. If target exists, then return its index. Otherwise,\n",
    "return -1.\n",
    "\n",
    "You must write an algorithm with O(log n) runtime complexity.\n",
    "\n",
    "Input: nums = [-1,0,3,5,9,12], target = 9\n",
    "Output: 4\n"
   ]
  },
  {
   "cell_type": "code",
   "execution_count": 12,
   "id": "2468d83f",
   "metadata": {},
   "outputs": [
    {
     "name": "stdout",
     "output_type": "stream",
     "text": [
      "4\n"
     ]
    }
   ],
   "source": [
    "def search(nums, target):\n",
    "    left = 0\n",
    "    right = len(nums) - 1\n",
    "\n",
    "    while left <= right:\n",
    "        mid = (left + right) // 2\n",
    "        if nums[mid] == target:\n",
    "            return mid\n",
    "        elif nums[mid] < target:\n",
    "            left = mid + 1\n",
    "        else:\n",
    "            right = mid - 1\n",
    "\n",
    "    return -1\n",
    "\n",
    "# Example taken from the question\n",
    "\n",
    "nums = [-1, 0, 3, 5, 9, 12]\n",
    "target = 9\n",
    "result = search(nums, target)\n",
    "print(result)"
   ]
  },
  {
   "cell_type": "markdown",
   "id": "9a70bf79",
   "metadata": {},
   "source": [
    "7. An array is monotonic if it is either monotone increasing or monotone decreasing.\n",
    "\n",
    "An array nums is monotone increasing if for all i <= j, nums[i] <= nums[j]. An array nums is\n",
    "monotone decreasing if for all i <= j, nums[i] >= nums[j].\n",
    "\n",
    "Given an integer array nums, return true if the given array is monotonic, or false otherwise.\n",
    "\n",
    "Example 1:\n",
    "Input: nums = [1,2,2,3]\n",
    "Output: true "
   ]
  },
  {
   "cell_type": "code",
   "execution_count": 14,
   "id": "8371daf2",
   "metadata": {},
   "outputs": [
    {
     "name": "stdout",
     "output_type": "stream",
     "text": [
      "True\n"
     ]
    }
   ],
   "source": [
    "def monotonic(nums):\n",
    "    Increasing = True\n",
    "    Decreasing = True\n",
    "\n",
    "    for i in range(1, len(nums)):\n",
    "        if nums[i] > nums[i - 1]:\n",
    "            Decreasing = False\n",
    "        if nums[i] < nums[i - 1]:\n",
    "            Increasing = False\n",
    "\n",
    "    return Increasing or Decreasing\n",
    "\n",
    "\n",
    "# Example taken from the question\n",
    "\n",
    "nums = [1, 2, 2, 3]\n",
    "result = monotonic(nums)\n",
    "print(result)\n"
   ]
  },
  {
   "cell_type": "markdown",
   "id": "3e3f557c",
   "metadata": {},
   "source": [
    "8. You are given an integer array nums and an integer k.\n",
    "\n",
    "In one operation, you can choose any index i where 0 <= i < nums.length and change nums[i] to nums[i] + x where x is an integer from the range [-k, k]. You can apply this operation at most once for each index i.\n",
    "\n",
    "The score of nums is the difference between the maximum and minimum elements in nums.\n",
    "\n",
    "Return the minimum score of nums after applying the mentioned operation at most once for each index in it.\n",
    "\n",
    "Example 1:\n",
    "Input: nums = [1], k = 0\n",
    "Output: 0\n"
   ]
  },
  {
   "cell_type": "code",
   "execution_count": 16,
   "id": "1f0c6ec8",
   "metadata": {},
   "outputs": [
    {
     "name": "stdout",
     "output_type": "stream",
     "text": [
      "0\n"
     ]
    }
   ],
   "source": [
    "def minimum_ccore(nums, k):\n",
    "    min_score = float('inf')\n",
    "    max_score = float('-inf')\n",
    "\n",
    "    for num in nums:\n",
    "        min_score = min(min_score, num)\n",
    "        max_score = max(max_score, num)\n",
    "\n",
    "    if max_score - min_score <= 2 * k:\n",
    "        return 0\n",
    "\n",
    "    for num in nums:\n",
    "        poss_min = num - k\n",
    "        min_score = min(min_score, poss_min)\n",
    "\n",
    "    for num in nums:\n",
    "        poss_max = num + k\n",
    "        max_score = max(max_score, poss_max)\n",
    "\n",
    "    return max_score - min_score\n",
    "\n",
    "\n",
    "# Example taken from the question\n",
    "\n",
    "nums = [1]\n",
    "k = 0\n",
    "result = minimumScore(nums, k)\n",
    "print(result)\n"
   ]
  }
 ],
 "metadata": {
  "kernelspec": {
   "display_name": "Python 3 (ipykernel)",
   "language": "python",
   "name": "python3"
  },
  "language_info": {
   "codemirror_mode": {
    "name": "ipython",
    "version": 3
   },
   "file_extension": ".py",
   "mimetype": "text/x-python",
   "name": "python",
   "nbconvert_exporter": "python",
   "pygments_lexer": "ipython3",
   "version": "3.9.13"
  }
 },
 "nbformat": 4,
 "nbformat_minor": 5
}
