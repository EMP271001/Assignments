{
 "cells": [
  {
   "cell_type": "markdown",
   "id": "d57e29ba",
   "metadata": {},
   "source": [
    "1. Keywords in Python are reserved words that have predefined meanings and cannot be used as identifiers (variable names, function names, etc.). \n",
    "Below is the examples of all the keywords"
   ]
  },
  {
   "cell_type": "code",
   "execution_count": 1,
   "id": "d8a51bd6",
   "metadata": {},
   "outputs": [
    {
     "name": "stdout",
     "output_type": "stream",
     "text": [
      "['False', 'None', 'True', '__peg_parser__', 'and', 'as', 'assert', 'async', 'await', 'break', 'class', 'continue', 'def', 'del', 'elif', 'else', 'except', 'finally', 'for', 'from', 'global', 'if', 'import', 'in', 'is', 'lambda', 'nonlocal', 'not', 'or', 'pass', 'raise', 'return', 'try', 'while', 'with', 'yield']\n"
     ]
    }
   ],
   "source": [
    "import keyword\n",
    "\n",
    "all_keywords = keyword.kwlist\n",
    "print(all_keywords)"
   ]
  },
  {
   "cell_type": "markdown",
   "id": "669339dc",
   "metadata": {},
   "source": [
    "2. The rules to create variables in python are:\n",
    "\n",
    "-> Variable names must start with a letter (a-z, A-Z) or an underscore ( _ ).\n",
    "\n",
    "-> Variable names are case-sensitive (my_var is different from My_Var).\n",
    "\n",
    "-> You cannot use Python reserved words (keywords) as variable names. Examples of reserved words include if, else, while, for, def, class, and others.\n",
    "\n",
    "-> Special characters like !, @, $, %, etc., are not allowed in variable names"
   ]
  },
  {
   "cell_type": "markdown",
   "id": "9fc1b48b",
   "metadata": {},
   "source": [
    "3. Here are some of the widely used conventions and standards :\n",
    "\n",
    "-> Snake Case:\n",
    "Use lowercase letters for variable names. Use separate words with underscores (_).Example: my_variable, total_amount, user_input\n",
    "\n",
    "-> Avoid Reserved Words:\n",
    "Never use Python keywords or reserved words as variable names.Avoid reusing the names of built-in functions, classes, or modules.\n",
    "\n",
    "-> Class Names (CamelCase):\n",
    "Use CamelCase for class names, where each word starts with a capital letter and has no spaces or underscores.\n",
    "Example: Person, StudentRecord, DataProcessor."
   ]
  },
  {
   "cell_type": "markdown",
   "id": "0f07e649",
   "metadata": {},
   "source": [
    "4. If you use a Python keyword as a variable name, you will encounter a Syntax Error. "
   ]
  },
  {
   "cell_type": "markdown",
   "id": "b9a39415",
   "metadata": {},
   "source": [
    "5. The def keyword in Python is used to create and define functions."
   ]
  },
  {
   "cell_type": "markdown",
   "id": "6887785d",
   "metadata": {},
   "source": [
    "6. The special character '\\', known as the backslash, is used as an escape character in Python.  It is used to indicate that the character following it has a special meaning. Some use cases are :\n",
    "\n",
    "-> Backslash is used to escape special characters within strings. For example:\n",
    "\n",
    "'\\n': Represents a newline character.\n",
    "'\\t': Represents a tab character.\n",
    "'\\\\\"': Represents a double quote (\") character.\n",
    "\\': Represents a single quote (') character.\n",
    "\n",
    "-> Line Continuation:\n",
    "You can use a backslash at the end of a line to continue a statement to the next line. This is useful for long lines of code that you want to break into multiple lines."
   ]
  },
  {
   "cell_type": "markdown",
   "id": "907539ef",
   "metadata": {},
   "source": [
    "7. \n",
    "(i) Homogeneous List: A homogeneous list contains elements of the same data type.\n",
    "\n",
    "(ii) Heterogeneous Set: A heterogeneous set contains elements of different data types.\n",
    "\n",
    "(iii) Homogeneous Tuple: A homogeneous tuple contains elements of the same data type. \n",
    "\n",
    "Below are the examples of my statements."
   ]
  },
  {
   "cell_type": "code",
   "execution_count": 2,
   "id": "7277217a",
   "metadata": {},
   "outputs": [],
   "source": [
    "homogeneous_list = [1, 2, 3, 4, 5]\n",
    "heterogeneous_set = {'apple', 42, 'banana', 3.14}\n",
    "homogeneous_tuple = (3.14, 2.71, 1.618, 0.577)"
   ]
  },
  {
   "cell_type": "markdown",
   "id": "c94d3286",
   "metadata": {},
   "source": [
    "8. Immutable Data types: An immutable data type is one whose value cannot be changed after it is created. In other words, once    an immutable object is created, you cannot modify its content. Instead, if you want to change the value of an immutable object, you create a new object with the modified value. This property provides stability and safety to these data types.\n",
    "\n",
    "Example: \n",
    "\n",
    "-> Integers (int): Once you create an integer, you cannot change its value. \n",
    "\n",
    "-> Strings (str): Strings cannot be changed after creation. Any manipulation of strings creates new strings. \n",
    "\n",
    "-> Tuples: Tuples are collections of items, and their elements cannot be modified. You can create new tuples by combining or  modifying existing ones.\n",
    "\n",
    "\n",
    "========================================================================================================================\n",
    "\n",
    "\n",
    "Mutable Data types: A mutable data type is one whose value can be changed after it is created. This means you can modify the object in place without creating a new one. This property allows you to perform in-place modifications efficiently.\n",
    "\n",
    "Example:\n",
    "\n",
    "-> Lists: Lists are collections of items, and you can modify their contents by adding, removing, or changing elements in place. \n",
    "\n",
    "-> Dictionaries: Dictionaries consist of key-value pairs. You can add, modify, or remove key-value pairs within a dictionary. \n",
    "\n",
    "-> Sets: Sets are collections of unique items, and you can add or remove items from them."
   ]
  },
  {
   "cell_type": "code",
   "execution_count": 4,
   "id": "21bd4bc5",
   "metadata": {},
   "outputs": [
    {
     "name": "stdout",
     "output_type": "stream",
     "text": [
      "    *\n",
      "   ***\n",
      "  *****\n",
      " *******\n",
      "*********\n"
     ]
    }
   ],
   "source": [
    "# 9. prinitng a pattern\n",
    "\n",
    "rows = 5\n",
    "for i in range(1, rows + 1):\n",
    "    # Print spaces for left alignment\n",
    "    print(\" \" * (rows - i), end=\"\")\n",
    "    \n",
    "    # Print asterisks\n",
    "    print(\"*\" * (2 * i - 1))\n"
   ]
  },
  {
   "cell_type": "code",
   "execution_count": 5,
   "id": "3c3db296",
   "metadata": {},
   "outputs": [
    {
     "name": "stdout",
     "output_type": "stream",
     "text": [
      "|||||||||\n",
      " |||||||\n",
      "  |||||\n",
      "   |||\n",
      "    |\n"
     ]
    }
   ],
   "source": [
    "# 10. printing a pattern\n",
    "rows = 5\n",
    "i = 0\n",
    "\n",
    "while i < rows:\n",
    "    # Print spaces for left alignment\n",
    "    print(\" \" * i, end=\"\")\n",
    "    \n",
    "    # Print pipes\n",
    "    print(\"|\" * (2 * (rows - i) - 1))\n",
    "    \n",
    "    i += 1\n"
   ]
  }
 ],
 "metadata": {
  "kernelspec": {
   "display_name": "Python 3 (ipykernel)",
   "language": "python",
   "name": "python3"
  },
  "language_info": {
   "codemirror_mode": {
    "name": "ipython",
    "version": 3
   },
   "file_extension": ".py",
   "mimetype": "text/x-python",
   "name": "python",
   "nbconvert_exporter": "python",
   "pygments_lexer": "ipython3",
   "version": "3.9.13"
  }
 },
 "nbformat": 4,
 "nbformat_minor": 5
}
