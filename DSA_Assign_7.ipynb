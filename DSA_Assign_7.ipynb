{
 "cells": [
  {
   "cell_type": "markdown",
   "id": "26738062",
   "metadata": {},
   "source": [
    "1. Given two strings s and t, determine if they are isomorphic.\n",
    "Two strings s and t are isomorphic if the characters in s can be replaced to get t.\n",
    "All occurrences of a character must be replaced with another character while preserving the order of \n",
    "characters. No two characters may map to the same character, but a character may map to itself.\n",
    "\n",
    "Example 1:\n",
    "\n",
    "Input:  s = \"egg\", t = \"add\"\n",
    "\n",
    "Output: true"
   ]
  },
  {
   "cell_type": "code",
   "execution_count": 3,
   "id": "5f7a3627",
   "metadata": {},
   "outputs": [
    {
     "name": "stdout",
     "output_type": "stream",
     "text": [
      "True\n"
     ]
    }
   ],
   "source": [
    "def is_isomorphic(s, t):\n",
    "    if len(s) != len(t):\n",
    "        return False\n",
    "\n",
    "    char_map_st = {}\n",
    "    char_map_ts = {}\n",
    "\n",
    "    for i in range(len(s)):\n",
    "        char_s = s[i]\n",
    "        char_t = t[i]\n",
    "\n",
    "        if char_s in char_map_st:\n",
    "            if char_map_st[char_s] != char_t:\n",
    "                return False\n",
    "        else:\n",
    "            char_map_st[char_s] = char_t\n",
    "\n",
    "        if char_t in char_map_ts:\n",
    "            if char_map_ts[char_t] != char_s:\n",
    "                return False\n",
    "        else:\n",
    "            char_map_ts[char_t] = char_s\n",
    "\n",
    "    return True\n",
    "\n",
    "# Example taken from the question\n",
    "\n",
    "s = \"egg\"\n",
    "t = \"add\"\n",
    "isomorphic = is_isomorphic(s, t)\n",
    "print(isomorphic)"
   ]
  },
  {
   "cell_type": "markdown",
   "id": "d5a7d380",
   "metadata": {},
   "source": [
    "2. Given a string num which represents an integer, return true if num is a strobogrammatic number.\n",
    "A strobogrammatic number is a number that looks the same when rotated 180 degrees (looked at upside \n",
    "down).\n",
    "\n",
    "Example 1:\n",
    "\n",
    "Input:  num = \"69\"\n",
    "\n",
    "Output: true"
   ]
  },
  {
   "cell_type": "code",
   "execution_count": 5,
   "id": "735270b3",
   "metadata": {},
   "outputs": [
    {
     "name": "stdout",
     "output_type": "stream",
     "text": [
      "True\n"
     ]
    }
   ],
   "source": [
    "def is_strobogrammatic(num):\n",
    "    strobogrammatic_pairs = {\n",
    "        \"0\": \"0\",\n",
    "        \"1\": \"1\",\n",
    "        \"6\": \"9\",\n",
    "        \"8\": \"8\",\n",
    "        \"9\": \"6\"\n",
    "    }\n",
    "\n",
    "    left = 0\n",
    "    right = len(num) - 1\n",
    "\n",
    "    while left <= right:\n",
    "        if num[left] not in strobogrammatic_pairs or strobogrammatic_pairs[num[left]] != num[right]:\n",
    "            return False\n",
    "\n",
    "        left += 1\n",
    "        right -= 1\n",
    "\n",
    "    return True\n",
    "\n",
    "# Example taken from the question \n",
    "\n",
    "num = \"69\"\n",
    "is_strobogrammatic = is_strobogrammatic(num)\n",
    "print(is_strobogrammatic)"
   ]
  },
  {
   "cell_type": "markdown",
   "id": "96619a1f",
   "metadata": {},
   "source": [
    "3. Given two non-negative integers, num1 and num2 represented as string, return the sum of num1 and num2 as a string.\n",
    "You must solve the problem without using any built-in library for handling large integers (such as BigInteger). You must also not convert the inputs to integers directly.\n",
    "\n",
    "Example 1:\n",
    "\n",
    "Input:    num1 = \"11\", num2 = \"123\"\n",
    "\n",
    "Output:   \"134\""
   ]
  },
  {
   "cell_type": "code",
   "execution_count": 7,
   "id": "aed8e46a",
   "metadata": {},
   "outputs": [
    {
     "name": "stdout",
     "output_type": "stream",
     "text": [
      "134\n"
     ]
    }
   ],
   "source": [
    "def sum_strings(num1, num2):\n",
    "    result = []\n",
    "    carry = 0\n",
    "    i = len(num1) - 1\n",
    "    j = len(num2) - 1\n",
    "\n",
    "    while i >= 0 or j >= 0 or carry > 0:\n",
    "        digit1 = int(num1[i]) if i >= 0 else 0\n",
    "        digit2 = int(num2[j]) if j >= 0 else 0\n",
    "\n",
    "        digit_sum = digit1 + digit2 + carry\n",
    "        carry = digit_sum // 10\n",
    "        digit_sum %= 10\n",
    "        \n",
    "        result.insert(0, str(digit_sum))\n",
    "\n",
    "        i -= 1\n",
    "        j -= 1\n",
    "\n",
    "    return \"\".join(result)\n",
    "\n",
    "# Example taken from the question\n",
    "\n",
    "num1 = \"11\"\n",
    "num2 = \"123\"\n",
    "sum_str = sum_strings(num1, num2)\n",
    "print(sum_str)"
   ]
  },
  {
   "cell_type": "markdown",
   "id": "c97c1106",
   "metadata": {},
   "source": [
    "4. Given a string s, reverse the order of characters in each word within a sentence while still preserving whitespace and initial word order.\n",
    "\n",
    "Example 1:\n",
    "\n",
    "Input:   s = \"Let's take LeetCode contest\"\n",
    "\n",
    "Output: \"s'teL ekat edoCteeL tsetnoc\""
   ]
  },
  {
   "cell_type": "code",
   "execution_count": 8,
   "id": "b00023c5",
   "metadata": {},
   "outputs": [
    {
     "name": "stdout",
     "output_type": "stream",
     "text": [
      "s'teL ekat edoCteeL tsetnoc\n"
     ]
    }
   ],
   "source": [
    "def reverseWords(s):\n",
    "    words = s.split() \n",
    "    reversed_words = [word[::-1] for word in words]  \n",
    "    reversed_sentence = \" \".join(reversed_words) \n",
    "    return reversed_sentence\n",
    "\n",
    "\n",
    "# Example taken from the question\n",
    "\n",
    "s = \"Let's take LeetCode contest\"\n",
    "reversed_s = reverseWords(s)\n",
    "print(reversed_s)"
   ]
  },
  {
   "cell_type": "markdown",
   "id": "0374c349",
   "metadata": {},
   "source": [
    "5. Given a string s and an integer k, reverse the first k characters for every 2k characters counting from the start of the string.If there are fewer than k characters left, reverse all of them. If there are less than 2k but greater than or equal to k characters, then reverse the first k characters and leave the other as original.\n",
    "\n",
    "Example 1:\n",
    "\n",
    "Input:   s = \"abcdefg\", k = 2\n",
    "\n",
    "Output:  \"bacdfeg\""
   ]
  },
  {
   "cell_type": "code",
   "execution_count": 10,
   "id": "960bac02",
   "metadata": {},
   "outputs": [
    {
     "name": "stdout",
     "output_type": "stream",
     "text": [
      "bacdfeg\n"
     ]
    }
   ],
   "source": [
    "def reverse_str(s, k):\n",
    "    result = \"\"\n",
    "    n = len(s)\n",
    "    i = 0\n",
    "\n",
    "    while i < n:\n",
    "        reversed_chunk = s[i:i+k][::-1]\n",
    "        result += reversed_chunk + s[i+k:i+2*k]\n",
    "        i += 2*k\n",
    "\n",
    "    return result\n",
    "\n",
    "# Example taken from the question\n",
    "\n",
    "s = \"abcdefg\"\n",
    "k = 2\n",
    "reversed_s = reverse_str(s, k)\n",
    "print(reversed_s)"
   ]
  },
  {
   "cell_type": "markdown",
   "id": "b8fcb359",
   "metadata": {},
   "source": [
    "6. Given two strings s and goal, return true if and only if s can become goal after some number of shifts on s.\n",
    "A shift on s consists of moving the leftmost character of s to the rightmost position.\n",
    "- For example, if s = \"abcde\", then it will be \"bcdea\" after one shift.\n",
    "\n",
    "Example 1:\n",
    "\n",
    "Input:   s = \"abcde\", goal = \"cdeab\"\n",
    "\n",
    "Output:  true"
   ]
  },
  {
   "cell_type": "code",
   "execution_count": 11,
   "id": "fac66c7c",
   "metadata": {},
   "outputs": [
    {
     "name": "stdout",
     "output_type": "stream",
     "text": [
      "True\n"
     ]
    }
   ],
   "source": [
    "def rotate_string(s, goal):\n",
    "    if len(s) != len(goal):\n",
    "        return False\n",
    "    if len(s) == 0:\n",
    "        return True\n",
    "    concatenated = s + s\n",
    "    return goal in concatenated\n",
    "\n",
    "\n",
    "# Example taken from the question\n",
    "\n",
    "s = \"abcde\"\n",
    "goal = \"cdeab\"\n",
    "result = rotate_string(s, goal)\n",
    "print(result)\n"
   ]
  },
  {
   "cell_type": "markdown",
   "id": "a604785b",
   "metadata": {},
   "source": [
    "8. You are given an array coordinates, coordinates[i] = [x, y], where [x, y] represents the coordinate of a point. Check if these points make a straight line in the XY plane.\n",
    "\n",
    "Example 1:\n",
    "\n",
    "Input:  coordinates = [[1,2],[2,3],[3,4],[4,5],[5,6],[6,7]]\n",
    "\n",
    "Output: true"
   ]
  },
  {
   "cell_type": "code",
   "execution_count": 18,
   "id": "38a062ac",
   "metadata": {},
   "outputs": [
    {
     "name": "stdout",
     "output_type": "stream",
     "text": [
      "True\n"
     ]
    }
   ],
   "source": [
    "def check_straight_line(coordinates):\n",
    "    if len(coordinates) <= 2:\n",
    "        return True\n",
    "\n",
    "    x0, y0 = coordinates[0]\n",
    "    x1, y1 = coordinates[1]\n",
    "    for i in range(2, len(coordinates)):\n",
    "        x, y = coordinates[i]\n",
    "  \n",
    "        if (y1 - y0) * (x - x0) != (x1 - x0) * (y - y0):\n",
    "            return False\n",
    "    return True\n",
    "\n",
    "\n",
    "# Example taken from the question\n",
    "\n",
    "coordinates = [[1,2],[2,3],[3,4],[4,5],[5,6],[6,7]]\n",
    "result = checkStraightLine(coordinates)\n",
    "print(result)"
   ]
  }
 ],
 "metadata": {
  "kernelspec": {
   "display_name": "Python 3 (ipykernel)",
   "language": "python",
   "name": "python3"
  },
  "language_info": {
   "codemirror_mode": {
    "name": "ipython",
    "version": 3
   },
   "file_extension": ".py",
   "mimetype": "text/x-python",
   "name": "python",
   "nbconvert_exporter": "python",
   "pygments_lexer": "ipython3",
   "version": "3.9.13"
  }
 },
 "nbformat": 4,
 "nbformat_minor": 5
}
