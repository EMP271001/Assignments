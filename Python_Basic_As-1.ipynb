{
 "cells": [
  {
   "cell_type": "markdown",
   "id": "53076652",
   "metadata": {},
   "source": [
    "1. From the following elements we can say that \n",
    "\n",
    "Values :        'hello' , -87.8 , 6\n",
    "\n",
    "Expression :     * , - , / , + "
   ]
  },
  {
   "cell_type": "markdown",
   "id": "2254baf6",
   "metadata": {},
   "source": [
    "2. Difference between String and Variable is :\n",
    "\n",
    "--> String is a form of data type which represents text data and is always enclosed with single or double quotes \n",
    "\n",
    "--> Variable is like a container where we can store any type of data. "
   ]
  },
  {
   "cell_type": "markdown",
   "id": "7fc6f248",
   "metadata": {},
   "source": [
    "3. Three Different Data types are :\n",
    "\n",
    "--> Int : this data type stores positive as well as negative whole numbers with no decimal point.\n",
    "\n",
    "--> Float : this data type stores positive as well as negative floating point numbers with one or more decimal point. \n",
    "\n",
    "--> Boolean : this data type store only 'True' or 'False' nad is used to know whether a certain statement is true or false.  \n",
    "\n",
    "Below are some exampes of the data types "
   ]
  },
  {
   "cell_type": "code",
   "execution_count": 18,
   "id": "0847c7b3",
   "metadata": {},
   "outputs": [
    {
     "name": "stdout",
     "output_type": "stream",
     "text": [
      "12\n",
      "<class 'int'>\n",
      "-12\n",
      "<class 'int'>\n",
      "12.321\n",
      "<class 'float'>\n",
      "-12.321\n",
      "<class 'float'>\n",
      "-12.321\n",
      "the variable is : <class 'bool'>\n",
      "True\n",
      "False\n"
     ]
    }
   ],
   "source": [
    "# some examples of data types\n",
    "\n",
    "a = 12; print(a); print(type(a))\n",
    "b = -12; print(b); print(type(b))\n",
    "c = 12.321; print(c); print(type(c))\n",
    "d = -12.321; print(d); print(type(d))\n",
    "e = True; print(d); print(\"the variable is :\",type(e))\n",
    "print(3>2)\n",
    "print(20<10)"
   ]
  },
  {
   "cell_type": "markdown",
   "id": "30f7e15e",
   "metadata": {},
   "source": [
    "4. Expressions are made up of operators and operands.\n",
    "All expressions produce some output value after executing."
   ]
  },
  {
   "cell_type": "markdown",
   "id": "e8dee4ec",
   "metadata": {},
   "source": [
    "5. We have been given a statement i.e spam = 10.(An int type of variable storing value 10)\n",
    "\n",
    "Expressions are made of operators, operands and always shows a result after evaluating. \n",
    "Every expression cannot be a statement.\n",
    "\n",
    "Statements may or maybe not show output when it is evaluated. It only does whatever the statement says.\n",
    "Every statement can be an expression."
   ]
  },
  {
   "cell_type": "code",
   "execution_count": 19,
   "id": "1f71a3fb",
   "metadata": {},
   "outputs": [
    {
     "name": "stdout",
     "output_type": "stream",
     "text": [
      "10\n",
      "20\n"
     ]
    }
   ],
   "source": [
    "# examples of statement and expression\n",
    "\n",
    "spam = 10          # statement\n",
    "print(spam)        # shows output of the statement\n",
    "spam = spam + 10   # expression\n",
    "print(spam)        # shows output of the expression"
   ]
  },
  {
   "cell_type": "markdown",
   "id": "25d7e73a",
   "metadata": {},
   "source": [
    "6. After running the code bacon will contain 23. But initially if we print bacon on another cell it will return its default value as 22. "
   ]
  },
  {
   "cell_type": "code",
   "execution_count": 20,
   "id": "1b3bb87d",
   "metadata": {},
   "outputs": [
    {
     "data": {
      "text/plain": [
       "23"
      ]
     },
     "execution_count": 20,
     "metadata": {},
     "output_type": "execute_result"
    }
   ],
   "source": [
    "bacon = 22\n",
    "bacon+1"
   ]
  },
  {
   "cell_type": "code",
   "execution_count": 22,
   "id": "1e7e6d4a",
   "metadata": {},
   "outputs": [
    {
     "data": {
      "text/plain": [
       "22"
      ]
     },
     "execution_count": 22,
     "metadata": {},
     "output_type": "execute_result"
    }
   ],
   "source": [
    "bacon"
   ]
  },
  {
   "cell_type": "markdown",
   "id": "3ac937d8",
   "metadata": {},
   "source": [
    "7. after executing 'spam'+'spamspam' we got 'spamspamspam'.\n",
    "after execuitng 'spam' * 3 we got 'spamspamspam'.\n",
    "Both terms has the same answer."
   ]
  },
  {
   "cell_type": "code",
   "execution_count": 25,
   "id": "825876ce",
   "metadata": {},
   "outputs": [
    {
     "data": {
      "text/plain": [
       "'spamspamspam'"
      ]
     },
     "execution_count": 25,
     "metadata": {},
     "output_type": "execute_result"
    }
   ],
   "source": [
    "'spam'+'spamspam'"
   ]
  },
  {
   "cell_type": "code",
   "execution_count": 26,
   "id": "3f8885fc",
   "metadata": {},
   "outputs": [
    {
     "data": {
      "text/plain": [
       "'spamspamspam'"
      ]
     },
     "execution_count": 26,
     "metadata": {},
     "output_type": "execute_result"
    }
   ],
   "source": [
    "'spam' * 3"
   ]
  },
  {
   "cell_type": "markdown",
   "id": "2e26f389",
   "metadata": {},
   "source": [
    "8. eggs is a valid variable name while 100 is invalid because variable name can't start with a number. "
   ]
  },
  {
   "cell_type": "markdown",
   "id": "c35ec05d",
   "metadata": {},
   "source": [
    "9. functions are \n",
    "\n",
    "--> For integer use int() to get integer version of a value\n",
    "--> For floating point number use float() to get floating point version of a value\n",
    "--> For String use str() to get a string version of a value"
   ]
  },
  {
   "cell_type": "markdown",
   "id": "b4e55ff9",
   "metadata": {},
   "source": [
    "10. we can fix the error of this expression just by converting 99 into string since 99 is a int type value and by adding single quotes we turn it into string."
   ]
  },
  {
   "cell_type": "code",
   "execution_count": 32,
   "id": "44920291",
   "metadata": {},
   "outputs": [
    {
     "data": {
      "text/plain": [
       "'I have eaten 99 burritos'"
      ]
     },
     "execution_count": 32,
     "metadata": {},
     "output_type": "execute_result"
    }
   ],
   "source": [
    "'I have eaten '+'99'+' burritos'"
   ]
  },
  {
   "cell_type": "code",
   "execution_count": null,
   "id": "6cd012cb",
   "metadata": {},
   "outputs": [],
   "source": []
  }
 ],
 "metadata": {
  "kernelspec": {
   "display_name": "Python 3 (ipykernel)",
   "language": "python",
   "name": "python3"
  },
  "language_info": {
   "codemirror_mode": {
    "name": "ipython",
    "version": 3
   },
   "file_extension": ".py",
   "mimetype": "text/x-python",
   "name": "python",
   "nbconvert_exporter": "python",
   "pygments_lexer": "ipython3",
   "version": "3.9.13"
  }
 },
 "nbformat": 4,
 "nbformat_minor": 5
}
