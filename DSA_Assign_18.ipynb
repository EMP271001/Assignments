{
 "cells": [
  {
   "cell_type": "markdown",
   "id": "6bebee78",
   "metadata": {},
   "source": [
    "1. Given an array of `intervals` where `intervals[i] = [starti, endi]`, merge all overlapping intervals, and return an array of the non-overlapping intervals that cover all the intervals in the input.\n",
    "\n",
    "Example 1:\n",
    "Input: intervals = [[1,3],[2,6],[8,10],[15,18]]\n",
    "Output: [[1,6],[8,10],[15,18]]\n",
    "\n",
    "Example 2:\n",
    "Input: intervals = [[1,4],[4,5]]\n",
    "Output: [[1,5]]"
   ]
  },
  {
   "cell_type": "code",
   "execution_count": 1,
   "id": "7e9a9a90",
   "metadata": {},
   "outputs": [
    {
     "name": "stdout",
     "output_type": "stream",
     "text": [
      "[[1, 6], [8, 10], [15, 18]]\n",
      "[[1, 5]]\n"
     ]
    }
   ],
   "source": [
    "def merge_intervals(intervals):\n",
    "    intervals.sort(key=lambda x: x[0])  \n",
    "    merged = []\n",
    "    \n",
    "    for i in intervals:\n",
    "        if not merged or i[0] > merged[-1][1]:\n",
    "            merged.append(i)\n",
    "        else:\n",
    "            merged[-1][1] = max(merged[-1][1], i[1])\n",
    "    \n",
    "    return merged\n",
    "\n",
    "# Example taken from the question\n",
    "\n",
    "intervals1 = [[1, 3], [2, 6], [8, 10], [15, 18]]\n",
    "merged1 = merge_intervals(intervals1)\n",
    "print(merged1)  \n",
    "\n",
    "intervals2 = [[1, 4], [4, 5]]\n",
    "merged2 = merge_intervals(intervals2)\n",
    "print(merged2) "
   ]
  },
  {
   "cell_type": "markdown",
   "id": "db226445",
   "metadata": {},
   "source": [
    "2. Given an array `nums` with `n` objects colored red, white, or blue, sort them in-place so that objects of the same color are adjacent, with the colors in the order red, white, and blue.\n",
    "\n",
    "We will use the integers `0`, `1`, and `2` to represent the color red, white, and blue, respectively.\n",
    "\n",
    "You must solve this problem without using the library's sort function.\n",
    "\n",
    "Example 1:\n",
    "Input: nums = [2,0,2,1,1,0]\n",
    "Output: [0,0,1,1,2,2]\n",
    "\n",
    "Example 2:\n",
    "Input: nums = [2,0,1]\n",
    "Output: [0,1,2]"
   ]
  },
  {
   "cell_type": "code",
   "execution_count": 2,
   "id": "77f73f77",
   "metadata": {},
   "outputs": [
    {
     "name": "stdout",
     "output_type": "stream",
     "text": [
      "[0, 0, 1, 1, 2, 2]\n",
      "[0, 1, 2]\n"
     ]
    }
   ],
   "source": [
    "def sort_colors(nums):\n",
    "    low, mid, high = 0, 0, len(nums) - 1\n",
    "\n",
    "    while mid <= high:\n",
    "        if nums[mid] == 0:\n",
    "            nums[mid], nums[low] = nums[low], nums[mid]\n",
    "            low += 1\n",
    "            mid += 1\n",
    "        elif nums[mid] == 1:\n",
    "            mid += 1\n",
    "        else:\n",
    "            nums[mid], nums[high] = nums[high], nums[mid]\n",
    "            high -= 1\n",
    "\n",
    "            \n",
    "# Example taken from the question            \n",
    "\n",
    "nums = [2, 0, 2, 1, 1, 0]\n",
    "sort_colors(nums)\n",
    "print(nums)  \n",
    "\n",
    "nums = [2, 0, 1]\n",
    "sort_colors(nums)\n",
    "print(nums)  "
   ]
  },
  {
   "cell_type": "markdown",
   "id": "4e606c8f",
   "metadata": {},
   "source": [
    "3. You are a product manager and currently leading a team to develop a new product. Unfortunately, the latest version of your product fails the quality check. Since each version is developed based on the previous version, all the versions after a bad version are also bad.Suppose you have `n` versions `[1, 2, ..., n]` and you want to find out the first bad one, which causes all the following ones to be bad.\n",
    "You are given an API `bool isBadVersion(version)` which returns whether `version` is bad. Implement a function to find the first bad version. You should minimize the number of calls to the API.\n",
    "\n",
    "Example 1:\n",
    "Input: n = 5, bad = 4\n",
    "Output: 4\n",
    "\n",
    "Example 2:\n",
    "Input: n = 1, bad = 1\n",
    "Output: 1"
   ]
  },
  {
   "cell_type": "code",
   "execution_count": 14,
   "id": "c286623f",
   "metadata": {},
   "outputs": [
    {
     "name": "stdout",
     "output_type": "stream",
     "text": [
      "First Bad Version: 4\n",
      "First Bad Version: 1\n"
     ]
    }
   ],
   "source": [
    "def isBadVersion(version):\n",
    "    # Implementation of the isBadVersion API\n",
    "    pass\n",
    "\n",
    "def firstBadVersion(n):\n",
    "    left = 1\n",
    "    right = n\n",
    "\n",
    "    if(n==1):\n",
    "        return 1\n",
    "    while left < right:\n",
    "        mid = left + (right - left) // 2\n",
    "\n",
    "        if  isBadVersion(mid):\n",
    "            right = mid - 1\n",
    "        else:\n",
    "            left = mid + 1\n",
    "\n",
    "    return left-1\n",
    "\n",
    "# Example taken from the question\n",
    "\n",
    "n = 5\n",
    "bad = 4\n",
    "result = firstBadVersion(n)\n",
    "print(\"First Bad Version:\", result)  \n",
    "\n",
    "\n",
    "n = 1\n",
    "bad = 1\n",
    "result = firstBadVersion(n)\n",
    "print(\"First Bad Version:\", result)  "
   ]
  },
  {
   "cell_type": "markdown",
   "id": "9279652f",
   "metadata": {},
   "source": [
    "4. Given an integer array `nums`, return *the maximum difference between two successive elements in its sorted form. \n",
    "If the array contains less than two elements, return `0`.\n",
    "\n",
    "You must write an algorithm that runs in linear time and uses linear extra space.\n",
    "\n",
    "Example 1:\n",
    "Input: nums = [3,6,9,1]\n",
    "Output: 3\n",
    "\n",
    "Example 2:\n",
    "Input: nums = [10]\n",
    "Output: 0"
   ]
  },
  {
   "cell_type": "code",
   "execution_count": 16,
   "id": "14ed4d39",
   "metadata": {},
   "outputs": [
    {
     "name": "stdout",
     "output_type": "stream",
     "text": [
      "Maximum Gap: 3\n",
      "Maximum Gap: 0\n"
     ]
    }
   ],
   "source": [
    "def maximumGap(nums):\n",
    "    if len(nums) < 2:\n",
    "        return 0\n",
    "\n",
    "    def radixSort(nums):\n",
    "    \n",
    "        max_num = max(nums)\n",
    "        exp = 1\n",
    "        while max_num // exp > 0:\n",
    "            countingSort(nums, exp)\n",
    "            exp *= 10\n",
    "\n",
    "    def countingSort(nums, exp):\n",
    "        n = len(nums)\n",
    "        output = [0] * n\n",
    "        count = [0] * 10\n",
    "\n",
    "    \n",
    "        for i in range(n):\n",
    "            index = nums[i] // exp\n",
    "            count[index % 10] += 1\n",
    "\n",
    "        for i in range(1, 10):\n",
    "            count[i] += count[i - 1]\n",
    "\n",
    "        i = n - 1\n",
    "        while i >= 0:\n",
    "            index = nums[i] // exp\n",
    "            output[count[index % 10] - 1] = nums[i]\n",
    "            count[index % 10] -= 1\n",
    "            i -= 1\n",
    "\n",
    "        for i in range(n):\n",
    "            nums[i] = output[i]\n",
    "\n",
    "    radixSort(nums)\n",
    "\n",
    "    max_diff = 0\n",
    "    for i in range(1, len(nums)):\n",
    "        diff = nums[i] - nums[i - 1]\n",
    "        max_diff = max(max_diff, diff)\n",
    "\n",
    "    return max_diff\n",
    "\n",
    "\n",
    "# Example taken from the question\n",
    "\n",
    "nums = [3, 6, 9, 1]\n",
    "result = maximumGap(nums)\n",
    "print(\"Maximum Gap:\", result)  \n",
    "\n",
    "nums = [10]\n",
    "result = maximumGap(nums)\n",
    "print(\"Maximum Gap:\", result) "
   ]
  },
  {
   "cell_type": "markdown",
   "id": "bbb63841",
   "metadata": {},
   "source": [
    "5. Given an integer array `nums`, return `true` if any value appears **at least twice** in the array, and return `false` if every element is distinct.\n",
    "\n",
    "Example 1:\n",
    "Input: nums = [1,2,3,1]\n",
    "Output: true\n",
    "\n",
    "Example 2:\n",
    "Input: nums = [1,2,3,4]\n",
    "Output: false\n",
    "\n",
    "Example 3:\n",
    "Input: nums = [1,1,1,3,3,4,3,2,4,2]\n",
    "Output: true\n"
   ]
  },
  {
   "cell_type": "code",
   "execution_count": 2,
   "id": "3305954b",
   "metadata": {},
   "outputs": [
    {
     "name": "stdout",
     "output_type": "stream",
     "text": [
      "Contains Duplicate: True\n",
      "Contains Duplicate: False\n",
      "Contains Duplicate: True\n"
     ]
    }
   ],
   "source": [
    "def contain_Duplicate(nums):\n",
    "    unique_set = set()\n",
    "\n",
    "    for num in nums:\n",
    "        if num in unique_set:\n",
    "            return True\n",
    "        unique_set.add(num)\n",
    "\n",
    "    return False\n",
    "\n",
    "\n",
    "# Example taken from the question\n",
    "\n",
    "nums = [1, 2, 3, 1]\n",
    "result = contain_Duplicate(nums)\n",
    "print(\"Contains Duplicate:\", result) \n",
    "\n",
    "\n",
    "nums = [1, 2, 3, 4]\n",
    "result = contain_Duplicate(nums)\n",
    "print(\"Contains Duplicate:\", result)\n",
    "\n",
    "\n",
    "nums = [1, 1, 1, 3, 3, 4, 3, 2, 4, 2]\n",
    "result = contain_Duplicate(nums)\n",
    "print(\"Contains Duplicate:\", result) "
   ]
  },
  {
   "cell_type": "markdown",
   "id": "bd3ff1c2",
   "metadata": {},
   "source": [
    "7. Given an integer array `nums`, return the length of the longest strictly increasing subsequence\n",
    "\n",
    "Example 1:\n",
    "Input: nums = [10,9,2,5,3,7,101,18]\n",
    "Output: 4\n",
    "\n",
    "Example 2:\n",
    "Input: nums = [0,1,0,3,2,3]\n",
    "Output: 4\n",
    "\n",
    "Example 3:\n",
    "Input: nums = [7,7,7,7,7,7,7]\n",
    "Output: 1"
   ]
  },
  {
   "cell_type": "code",
   "execution_count": 4,
   "id": "8017c898",
   "metadata": {},
   "outputs": [
    {
     "name": "stdout",
     "output_type": "stream",
     "text": [
      "Length of Longest Increasing Subsequence: 4\n",
      "Length of Longest Increasing Subsequence: 4\n",
      "Length of Longest Increasing Subsequence: 1\n"
     ]
    }
   ],
   "source": [
    "def length_of_longest_IS(nums):\n",
    "    n = len(nums)\n",
    "    dp = [1] * n\n",
    "\n",
    "    for i in range(1, n):\n",
    "        for j in range(i):\n",
    "            if nums[i] > nums[j]:\n",
    "                dp[i] = max(dp[i], dp[j] + 1)\n",
    "\n",
    "    return max(dp)\n",
    "\n",
    "\n",
    "# Example taken from the question\n",
    "\n",
    "nums = [10, 9, 2, 5, 3, 7, 101, 18]\n",
    "result = length_of_longest_IS(nums)\n",
    "print(\"Length of Longest Increasing Subsequence:\", result)  \n",
    "\n",
    "\n",
    "nums = [0, 1, 0, 3, 2, 3]\n",
    "result = length_of_longest_IS(nums)\n",
    "print(\"Length of Longest Increasing Subsequence:\", result)  \n",
    "\n",
    "\n",
    "nums = [7, 7, 7, 7, 7, 7, 7]\n",
    "result = length_of_longest_IS(nums)\n",
    "print(\"Length of Longest Increasing Subsequence:\", result)  "
   ]
  },
  {
   "cell_type": "markdown",
   "id": "69dd6aa1",
   "metadata": {},
   "source": [
    "8. Given an array of `n` integers `nums`, a 132 pattern is a subsequence of three\n",
    "integers `nums[i]`, `nums[j]` and `nums[k]` such that `i < j < k` and `nums[i] < nums[k] < nums[j]`.\n",
    "Return `true` if there is a 132 pattern in `nums`, otherwise, return `false`.\n",
    "\n",
    "Example 1:\n",
    "Input: nums = [1,2,3,4]\n",
    "Output: false\n",
    "\n",
    "Example 2:\n",
    "Input: nums = [3,1,4,2]\n",
    "Output: true\n",
    "\n",
    "Example 3:\n",
    "Input: nums = [-1,3,2,0]\n",
    "Output: true"
   ]
  },
  {
   "cell_type": "code",
   "execution_count": 5,
   "id": "efb7c699",
   "metadata": {},
   "outputs": [
    {
     "name": "stdout",
     "output_type": "stream",
     "text": [
      "False\n",
      "True\n",
      "True\n"
     ]
    }
   ],
   "source": [
    "def find132pattern(nums):\n",
    "    n = len(nums)\n",
    "    stack = []\n",
    "    max_val = float('-inf')\n",
    "\n",
    "    for i in range(n - 1, -1, -1):\n",
    "        if nums[i] < max_val:\n",
    "            return True\n",
    "        while stack and nums[i] > stack[-1]:\n",
    "            max_val = stack.pop()\n",
    "        stack.append(nums[i])\n",
    "\n",
    "    return False\n",
    "\n",
    "\n",
    "# Example taken from the question\n",
    "\n",
    "nums = [1, 2, 3, 4]\n",
    "result = find132pattern(nums)\n",
    "print(result) \n",
    "\n",
    "nums = [3, 1, 4, 2]\n",
    "result = find132pattern(nums)\n",
    "print(result) \n",
    "\n",
    "# Example 3\n",
    "nums = [-1, 3, 2, 0]\n",
    "result = find132pattern(nums)\n",
    "print(result) \n"
   ]
  }
 ],
 "metadata": {
  "kernelspec": {
   "display_name": "Python 3 (ipykernel)",
   "language": "python",
   "name": "python3"
  },
  "language_info": {
   "codemirror_mode": {
    "name": "ipython",
    "version": 3
   },
   "file_extension": ".py",
   "mimetype": "text/x-python",
   "name": "python",
   "nbconvert_exporter": "python",
   "pygments_lexer": "ipython3",
   "version": "3.9.13"
  }
 },
 "nbformat": 4,
 "nbformat_minor": 5
}
