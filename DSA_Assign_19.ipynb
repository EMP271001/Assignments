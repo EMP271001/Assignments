{
 "cells": [
  {
   "cell_type": "markdown",
   "id": "54468789",
   "metadata": {},
   "source": [
    "1. You are given an array of `k` linked-lists `lists`, each linked-list is sorted in ascending order.\n",
    "   Merge all the linked-lists into one sorted linked-list and return it.\n",
    "\n",
    "Example 1:\n",
    "Input: lists = [[1,4,5],[1,3,4],[2,6]]\n",
    "Output: [1,1,2,3,4,4,5,6]\n",
    "\n",
    "Example 2:\n",
    "Input: lists = []\n",
    "Output: []\n",
    "\n",
    "Example 3:\n",
    "Input: lists = [[]]\n",
    "Output: []"
   ]
  },
  {
   "cell_type": "code",
   "execution_count": 19,
   "id": "7094ffc4",
   "metadata": {},
   "outputs": [
    {
     "name": "stdout",
     "output_type": "stream",
     "text": [
      "1 1 2 3 4 4 5 6 "
     ]
    }
   ],
   "source": [
    "class ListNode:\n",
    "    def __init__(self, val=0, next=None):\n",
    "        self.val = val\n",
    "        self.next = next\n",
    "\n",
    "\n",
    "def mergeTwoLists(l1, l2):\n",
    "    dummy = ListNode()\n",
    "    current = dummy\n",
    "\n",
    "    while l1 and l2:\n",
    "        if l1.val <= l2.val:\n",
    "            current.next = l1\n",
    "            l1 = l1.next\n",
    "        else:\n",
    "            current.next = l2\n",
    "            l2 = l2.next\n",
    "        current = current.next\n",
    "\n",
    "    if l1:\n",
    "        current.next = l1\n",
    "    if l2:\n",
    "        current.next = l2\n",
    "\n",
    "    return dummy.next\n",
    "\n",
    "\n",
    "def mergeKLists(lists):\n",
    "    if not lists:\n",
    "        return None\n",
    "\n",
    "    while len(lists) > 1:\n",
    "        merged_lists = []\n",
    "        for i in range(0, len(lists), 2):\n",
    "            l1 = lists[i]\n",
    "            l2 = lists[i + 1] if i + 1 < len(lists) else None\n",
    "            merged = mergeTwoLists(l1, l2)\n",
    "            merged_lists.append(merged)\n",
    "        lists = merged_lists\n",
    "\n",
    "    return lists[0]\n",
    "\n",
    "\n",
    "# Example taken from the question\n",
    "\n",
    "lists1 = [ListNode(1, ListNode(4, ListNode(5))),\n",
    "          ListNode(1, ListNode(3, ListNode(4))),\n",
    "          ListNode(2, ListNode(6))]\n",
    "result1 = mergeKLists(lists1)\n",
    "while result1:\n",
    "    print(result1.val, end=' ')\n",
    "    result1 = result1.next\n",
    "\n",
    "\n",
    "lists2 = []\n",
    "result2 = mergeKLists(lists2)\n",
    "while result2:\n",
    "    print(result2.val, end=' ')\n",
    "    result2 = result2.next\n",
    "\n",
    "\n",
    "\n",
    "lists3 = [[]]\n",
    "result3 = mergeKLists(lists3)\n",
    "while result3:\n",
    "    print(result3.val, end=' ')\n",
    "    result3 = result3.next"
   ]
  },
  {
   "cell_type": "markdown",
   "id": "0886f963",
   "metadata": {},
   "source": [
    "3. Given an array of integers `nums`, sort the array in ascending order and return it.\n",
    "You must solve the problem without using any built-in functions in `O(nlog(n))` time complexity and with the smallest space complexity possible.\n",
    "\n",
    "Example 1:\n",
    "Input: nums = [5,2,3,1]\n",
    "Output: [1,2,3,5]\n",
    "\n",
    "Example 2:\n",
    "Input: nums = [5,1,1,2,0,0]\n",
    "Output: [0,0,1,1,2,5]"
   ]
  },
  {
   "cell_type": "code",
   "execution_count": 15,
   "id": "59991c13",
   "metadata": {},
   "outputs": [
    {
     "name": "stdout",
     "output_type": "stream",
     "text": [
      "[1, 2, 3, 5]\n",
      "[0, 0, 1, 1, 2, 5]\n"
     ]
    }
   ],
   "source": [
    "def merge_sort(nums):\n",
    "    if len(nums) <= 1:\n",
    "        return nums\n",
    "\n",
    "    mid = len(nums) // 2\n",
    "    left = nums[:mid]\n",
    "    right = nums[mid:]\n",
    "\n",
    "    left = merge_sort(left)\n",
    "    right = merge_sort(right)\n",
    "\n",
    "    merged = merge(left, right)\n",
    "    return merged\n",
    "\n",
    "\n",
    "def merge(left, right):\n",
    "    result = []\n",
    "    i = j = 0\n",
    "\n",
    "    while i < len(left) and j < len(right):\n",
    "        if left[i] <= right[j]:\n",
    "            result.append(left[i])\n",
    "            i += 1\n",
    "        else:\n",
    "            result.append(right[j])\n",
    "            j += 1\n",
    "\n",
    "    while i < len(left):\n",
    "        result.append(left[i])\n",
    "        i += 1\n",
    "\n",
    "    while j < len(right):\n",
    "        result.append(right[j])\n",
    "        j += 1\n",
    "\n",
    "    return result\n",
    "\n",
    "\n",
    "# Example taken from the question\n",
    "\n",
    "nums1 = [5, 2, 3, 1]\n",
    "sorted_nums1 = merge_sort(nums1)\n",
    "print(sorted_nums1)\n",
    "\n",
    "\n",
    "nums2 = [5, 1, 1, 2, 0, 0]\n",
    "sorted_nums2 = merge_sort(nums2)\n",
    "print(sorted_nums2)"
   ]
  },
  {
   "cell_type": "markdown",
   "id": "6a3ae1fc",
   "metadata": {},
   "source": [
    "4. Given an array of random numbers, Push all the zero’s of a given array to the end of the array. For example, if the given arrays is {1, 9, 8, 4, 0, 0, 2, 7, 0, 6, 0}, it should be changed to {1, 9, 8, 4, 2, 7, 6, 0, 0, 0, 0}. The order of all other elements should be same. Expected time complexity is O(n) and extra space is O(1).\n",
    "\n",
    "Example 1:\n",
    "Input :  arr[] = {1, 2, 0, 4, 3, 0, 5, 0};\n",
    "Output : arr[] = {1, 2, 4, 3, 5, 0, 0, 0};\n",
    "\n",
    "Example 2:\n",
    "Input : arr[]  = {1, 2, 0, 0, 0, 3, 6};\n",
    "Output : arr[] = {1, 2, 3, 6, 0, 0, 0};"
   ]
  },
  {
   "cell_type": "code",
   "execution_count": 11,
   "id": "087d847c",
   "metadata": {},
   "outputs": [
    {
     "name": "stdout",
     "output_type": "stream",
     "text": [
      "[1, 2, 4, 3, 5, 0, 0, 0]\n",
      "[1, 2, 3, 6, 0, 0, 0]\n"
     ]
    }
   ],
   "source": [
    "def pushZerosToEnd(arr):\n",
    "    n = len(arr)\n",
    "    count = 0  \n",
    "   \n",
    "    for i in range(n):\n",
    "        if arr[i] != 0:\n",
    "            arr[count] = arr[i]\n",
    "            count += 1\n",
    "\n",
    "    while count < n:\n",
    "        arr[count] = 0\n",
    "        count += 1\n",
    "\n",
    "    return arr\n",
    "\n",
    "\n",
    "# Example taken from the question\n",
    "\n",
    "arr1 = [1, 2, 0, 4, 3, 0, 5, 0]\n",
    "print(pushZerosToEnd(arr1))\n",
    "\n",
    "\n",
    "arr2 = [1, 2, 0, 0, 0, 3, 6]\n",
    "print(pushZerosToEnd(arr2))"
   ]
  },
  {
   "cell_type": "markdown",
   "id": "86d6aeb9",
   "metadata": {},
   "source": [
    "5. Given an array of positive and negative numbers, arrange them in an alternate fashion such that every \n",
    "positive number is followed by a negative and vice-versa maintaining the order of appearance. The number of positive \n",
    "and negative numbers need not be equal. If there are more positive numbers they appear at the end of the array. If there \n",
    "are more negative numbers, they too appear at the end of the array.\n",
    "\n",
    "Example 1:\n",
    "Input:  arr[] = {1, 2, 3, -4, -1, 4}\n",
    "Output: arr[] = {-4, 1, -1, 2, 3, 4}\n",
    "\n",
    "Example 2:\n",
    "Input:  arr[] = {-5, -2, 5, 2, 4, 7, 1, 8, 0, -8}\n",
    "Output: arr[] = {-5, 5, -2, 2, -8, 4, 7, 1, 8, 0}"
   ]
  },
  {
   "cell_type": "code",
   "execution_count": 9,
   "id": "a910df4e",
   "metadata": {},
   "outputs": [
    {
     "name": "stdout",
     "output_type": "stream",
     "text": [
      "[-4, 1, -1, 2, 3, 4]\n",
      "[-5, 5, -2, 2, -8, 4, 7, 1, 8, 0]\n"
     ]
    }
   ],
   "source": [
    "def alternate_arrange(arr):\n",
    "    \n",
    "    pos_nums = [num for num in arr if num >= 0]\n",
    "    neg_nums = [num for num in arr if num < 0]\n",
    "\n",
    "\n",
    "    new_arr = []\n",
    "    min_len = min(len(pos_nums), len(neg_nums))\n",
    "    for i in range(min_len):\n",
    "        new_arr.append(neg_nums[i])\n",
    "        new_arr.append(pos_nums[i])\n",
    "\n",
    "  \n",
    "    if len(pos_nums) > len(neg_nums):\n",
    "        new_arr.extend(pos_nums[min_len:])\n",
    "    else:\n",
    "        new_arr.extend(neg_nums[min_len:])\n",
    "\n",
    "    return new_arr\n",
    "\n",
    "\n",
    "# Example taken from the question\n",
    "\n",
    "arr1 = [1, 2, 3, -4, -1, 4]\n",
    "print(alternate_arrange(arr1))\n",
    "\n",
    "\n",
    "arr2 = [-5, -2, 5, 2, 4, 7, 1, 8, 0, -8]\n",
    "print(alternate_arrange(arr2))"
   ]
  },
  {
   "cell_type": "markdown",
   "id": "fd1e0d45",
   "metadata": {},
   "source": [
    "6. Given two sorted arrays, the task is to merge them in a sorted manner.\n",
    "\n",
    "Example 1:\n",
    "Input: arr1[] = { 1, 3, 4, 5}, arr2[] = {2, 4, 6, 8} \n",
    "Output: arr3[] = {1, 2, 3, 4, 4, 5, 6, 8}\n",
    "\n",
    "Example 2:\n",
    "Input: arr1[] = { 5, 8, 9}, arr2[] = {4, 7, 8}\n",
    "Output: arr3[] = {4, 5, 7, 8, 8, 9}"
   ]
  },
  {
   "cell_type": "code",
   "execution_count": 5,
   "id": "17bbdab6",
   "metadata": {},
   "outputs": [
    {
     "name": "stdout",
     "output_type": "stream",
     "text": [
      "[1, 2, 3, 4, 4, 5, 6, 8]\n",
      "[4, 5, 7, 8, 8, 9]\n"
     ]
    }
   ],
   "source": [
    "def merge_arrays(arr1, arr2):\n",
    "    n1 = len(arr1)\n",
    "    n2 = len(arr2)\n",
    "    i = j = k = 0\n",
    "    arr3 = [0] * (n1 + n2)\n",
    "\n",
    "    while i < n1 and j < n2:\n",
    "        if arr1[i] <= arr2[j]:\n",
    "            arr3[k] = arr1[i]\n",
    "            i += 1\n",
    "        else:\n",
    "            arr3[k] = arr2[j]\n",
    "            j += 1\n",
    "        k += 1\n",
    "\n",
    "    while i < n1:\n",
    "        arr3[k] = arr1[i]\n",
    "        i += 1\n",
    "        k += 1\n",
    "\n",
    "    while j < n2:\n",
    "        arr3[k] = arr2[j]\n",
    "        j += 1\n",
    "        k += 1\n",
    "\n",
    "    return arr3\n",
    "\n",
    "\n",
    "# Example taken from the question\n",
    "\n",
    "arr1 = [1, 3, 4, 5]\n",
    "arr2 = [2, 4, 6, 8]\n",
    "print(merge_arrays(arr1, arr2))\n",
    "\n",
    "\n",
    "arr1 = [5, 8, 9]\n",
    "arr2 = [4, 7, 8]\n",
    "print(merge_arrays(arr1, arr2))"
   ]
  },
  {
   "cell_type": "markdown",
   "id": "57e221b0",
   "metadata": {},
   "source": [
    "7. Given two integer arrays `nums1` and `nums2`, return an array of their intersection. Each element in the result must be unique and you may return the result in any order.\n",
    "\n",
    "Example 1:\n",
    "Input: nums1 = [1,2,2,1], nums2 = [2,2]\n",
    "Output: [2]\n",
    "\n",
    "Example 2:\n",
    "Input: nums1 = [4,9,5], nums2 = [9,4,9,8,4]\n",
    "Output: [9,4]"
   ]
  },
  {
   "cell_type": "code",
   "execution_count": 3,
   "id": "e1660829",
   "metadata": {},
   "outputs": [
    {
     "name": "stdout",
     "output_type": "stream",
     "text": [
      "[2]\n",
      "[9, 4]\n"
     ]
    }
   ],
   "source": [
    "def intersection(nums1, nums2):\n",
    "    set1 = set(nums1)\n",
    "    set2 = set(nums2)\n",
    "\n",
    "    result = set1.intersection(set2)\n",
    "\n",
    "    return list(result)\n",
    "\n",
    "\n",
    "# Example taken from the question\n",
    "\n",
    "nums1 = [1, 2, 2, 1]\n",
    "nums2 = [2, 2]\n",
    "print(intersection(nums1, nums2))\n",
    "\n",
    "\n",
    "nums1 = [4, 9, 5]\n",
    "nums2 = [9, 4, 9, 8, 4]\n",
    "print(intersection(nums1, nums2))"
   ]
  },
  {
   "cell_type": "markdown",
   "id": "ce56a5fa",
   "metadata": {},
   "source": [
    "8. Given two integer arrays `nums1` and `nums2`, return *an array of their intersection*. Each element in the result must appear as many times as it shows in both arrays and you may return the result in any order.\n",
    "\n",
    "Example 1:\n",
    "Input: nums1 = [1,2,2,1], nums2 = [2,2]\n",
    "Output: [2,2]\n",
    "\n",
    "Example 2:\n",
    "Input: nums1 = [4,9,5], nums2 = [9,4,9,8,4]\n",
    "Output: [4,9]"
   ]
  },
  {
   "cell_type": "code",
   "execution_count": 2,
   "id": "cd463244",
   "metadata": {},
   "outputs": [
    {
     "name": "stdout",
     "output_type": "stream",
     "text": [
      "[2, 2]\n",
      "[9, 4]\n"
     ]
    }
   ],
   "source": [
    "from collections import Counter\n",
    "\n",
    "def intersect(nums1, nums2):\n",
    "    freq = Counter(nums1)\n",
    "    result = []\n",
    "   \n",
    "    for num in nums2:\n",
    "        if num in freq and freq[num] > 0:\n",
    "            result.append(num)\n",
    "            freq[num] -= 1\n",
    "\n",
    "    return result\n",
    "\n",
    "\n",
    "# Example taken from the question\n",
    "\n",
    "nums1 = [1, 2, 2, 1]\n",
    "nums2 = [2, 2]\n",
    "print(intersect(nums1, nums2))\n",
    "\n",
    "\n",
    "nums1 = [4, 9, 5]\n",
    "nums2 = [9, 4, 9, 8, 4]\n",
    "print(intersect(nums1, nums2))"
   ]
  }
 ],
 "metadata": {
  "kernelspec": {
   "display_name": "Python 3 (ipykernel)",
   "language": "python",
   "name": "python3"
  },
  "language_info": {
   "codemirror_mode": {
    "name": "ipython",
    "version": 3
   },
   "file_extension": ".py",
   "mimetype": "text/x-python",
   "name": "python",
   "nbconvert_exporter": "python",
   "pygments_lexer": "ipython3",
   "version": "3.9.13"
  }
 },
 "nbformat": 4,
 "nbformat_minor": 5
}
