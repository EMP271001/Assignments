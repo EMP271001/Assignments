{
 "cells": [
  {
   "cell_type": "markdown",
   "id": "0483bbd5",
   "metadata": {},
   "source": [
    "1. Write a Python program to reverse a string without using any built-in string reversal functions."
   ]
  },
  {
   "cell_type": "code",
   "execution_count": 2,
   "id": "eb7931cf",
   "metadata": {},
   "outputs": [
    {
     "name": "stdout",
     "output_type": "stream",
     "text": [
      "Enter String: akash\n",
      "Reversed String: hsaka\n"
     ]
    }
   ],
   "source": [
    "str = input(\"Enter String: \")\n",
    "new_str=\"\"\n",
    "for i in str:\n",
    "    new_str = i + new_str\n",
    "print(\"Reversed String:\",new_str)"
   ]
  },
  {
   "cell_type": "markdown",
   "id": "15a6da1e",
   "metadata": {},
   "source": [
    "2. Implement a function to check if a given string is a palindrome."
   ]
  },
  {
   "cell_type": "code",
   "execution_count": 7,
   "id": "d70b686e",
   "metadata": {},
   "outputs": [
    {
     "name": "stdout",
     "output_type": "stream",
     "text": [
      "Enter String: gandnag\n",
      "Given string is palindrome\n"
     ]
    }
   ],
   "source": [
    "def palin(string):\n",
    "    c = True; \n",
    "         \n",
    "    for i in range(0, len(string)//2):  \n",
    "        if(string[i] != string[len(string)-i-1]):  \n",
    "            c = False;  \n",
    "            break;  \n",
    "   \n",
    "    if(c):  \n",
    "        print(\"Given string is palindrome\");  \n",
    "    else:  \n",
    "        print(\"Given string is not a palindrome\"); \n",
    "\n",
    "\n",
    "text = input(\"Enter String: \") \n",
    "answer = palin(text)"
   ]
  },
  {
   "cell_type": "markdown",
   "id": "eb1e9053",
   "metadata": {},
   "source": [
    "3. Write a program to find the largest element in a given list."
   ]
  },
  {
   "cell_type": "code",
   "execution_count": 17,
   "id": "3e6c478f",
   "metadata": {},
   "outputs": [
    {
     "name": "stdout",
     "output_type": "stream",
     "text": [
      "Enter Values for the List (Use Space after every Element): 12 35 68 98\n",
      "list:  ['12', '35', '68', '98']\n",
      "Largest Element in the given List:  98\n"
     ]
    }
   ],
   "source": [
    "list = input(\"Enter Values for the List (Use Space after every Element): \").split()\n",
    "print(\"list: \",list)\n",
    "list.sort(reverse = True)\n",
    "print(\"Largest Element in the given List: \",list[0])"
   ]
  },
  {
   "cell_type": "markdown",
   "id": "b9ecbe76",
   "metadata": {},
   "source": [
    "4.  Implement a function to count the occurrence of each element in a list."
   ]
  },
  {
   "cell_type": "code",
   "execution_count": 18,
   "id": "6a9bb783",
   "metadata": {},
   "outputs": [
    {
     "name": "stdout",
     "output_type": "stream",
     "text": [
      "Enter Values for the List  (Use Space after every Element): 10 20 30 30 30 30 30\n",
      "list:  ['10', '20', '30', '30', '30', '30', '30']\n",
      "Enter Element for its count in the list: 30\n",
      "30 has occurred 5 times\n"
     ]
    }
   ],
   "source": [
    "def occur_count(l,x):\n",
    "    return l.count(x)\n",
    "\n",
    "l = input(\"Enter Values for the List  (Use Space after every Element): \").split()\n",
    "print(\"list: \",l)\n",
    "x = input(\"Enter Element for its count in the list: \")\n",
    "print('{} has occurred {} times'.format(x,occur_count(l, x)))"
   ]
  },
  {
   "cell_type": "markdown",
   "id": "c9289b0a",
   "metadata": {},
   "source": [
    "5. Write a Python program to find the second largest number in a list."
   ]
  },
  {
   "cell_type": "code",
   "execution_count": 20,
   "id": "8b2e4b71",
   "metadata": {},
   "outputs": [
    {
     "name": "stdout",
     "output_type": "stream",
     "text": [
      "Enter Values for the List  (Use Space after every Element): 12 34 54 67 87 99\n",
      "list:  ['12', '34', '54', '67', '87', '99']\n",
      "Largest Element in the given List:  87\n"
     ]
    }
   ],
   "source": [
    "list = input(\"Enter Values for the List  (Use Space after every Element): \").split()\n",
    "print(\"list: \",list)\n",
    "list.sort(reverse = True)\n",
    "print(\"Second Largest Element in the given List: \",list[1])"
   ]
  },
  {
   "cell_type": "markdown",
   "id": "121b702c",
   "metadata": {},
   "source": [
    "6.  Implement a function to remove duplicate elements from a list."
   ]
  },
  {
   "cell_type": "code",
   "execution_count": 22,
   "id": "fbf4970f",
   "metadata": {},
   "outputs": [
    {
     "name": "stdout",
     "output_type": "stream",
     "text": [
      "Enter Values for the List  (Use Space after every Element): 1 22 22 33 44 55 55 77 77 88 99 99 111 111\n",
      "List:  ['1', '22', '22', '33', '44', '55', '55', '77', '77', '88', '99', '99', '111', '111']\n",
      "List after removing Duplicates: \n"
     ]
    },
    {
     "data": {
      "text/plain": [
       "['1', '22', '33', '44', '55', '77', '88', '99', '111']"
      ]
     },
     "execution_count": 22,
     "metadata": {},
     "output_type": "execute_result"
    }
   ],
   "source": [
    "def Remove(Dup_list):\n",
    "    final_list = []\n",
    "    for num in Dup_list:\n",
    "        if num not in final_list:\n",
    "            final_list.append(num)\n",
    "    return final_list\n",
    "     \n",
    "    \n",
    "Dup_list = input(\"Enter Values for the List  (Use Space after every Element): \").split()\n",
    "print(\"List: \",Dup_list)\n",
    "print(\"List after removing Duplicates: \")\n",
    "Remove(Dup_list)"
   ]
  },
  {
   "cell_type": "markdown",
   "id": "bbaa28de",
   "metadata": {},
   "source": [
    "7. Write a program to calculate the factorial of a given number."
   ]
  },
  {
   "cell_type": "code",
   "execution_count": 2,
   "id": "681b6c16",
   "metadata": {},
   "outputs": [
    {
     "name": "stdout",
     "output_type": "stream",
     "text": [
      "Enter your Number: 4\n",
      "The Factorial of  4 is 24\n"
     ]
    }
   ],
   "source": [
    "num = int(input(\"Enter your Number: \"))\n",
    "fact = 1\n",
    "\n",
    "if num < 0:\n",
    "    print(\"Sorry Factorial doesn't exist for negative numbers\")\n",
    "elif num == 0:\n",
    "    print(\"The Factorial of 0 is 1\")\n",
    "else:\n",
    "    for i in range(1,num+1):\n",
    "        fact = fact*i\n",
    "    print(\"The Factorial of \",num,\"is\",fact)   "
   ]
  },
  {
   "cell_type": "markdown",
   "id": "d826c082",
   "metadata": {},
   "source": [
    "8. Implement a function to check if a given number is prime."
   ]
  },
  {
   "cell_type": "code",
   "execution_count": 3,
   "id": "4b5ab6a7",
   "metadata": {},
   "outputs": [
    {
     "name": "stdout",
     "output_type": "stream",
     "text": [
      "Enter Number: 13\n",
      "Prime\n"
     ]
    }
   ],
   "source": [
    "def prime(n):\n",
    "    for i in range(2,n+1):\n",
    "        if n%i == 0:\n",
    "            return print(\"Not Prime\")\n",
    "        return print(\"Prime\")\n",
    "        \n",
    "n = int(input(\"Enter Number: \"))\n",
    "prime(n)"
   ]
  },
  {
   "cell_type": "markdown",
   "id": "90d90145",
   "metadata": {},
   "source": [
    "9.  Write a Python program to sort a list of integers in ascending order."
   ]
  },
  {
   "cell_type": "code",
   "execution_count": 4,
   "id": "9f463ca6",
   "metadata": {},
   "outputs": [
    {
     "name": "stdout",
     "output_type": "stream",
     "text": [
      "Enter Values for the List  (Use Space after every Element): 12 23 34 45 56 67 78 89 90\n",
      "list:  ['12', '23', '34', '45', '56', '67', '78', '89', '90']\n",
      "Sorted Elements in the given List:  ['12', '23', '34', '45', '56', '67', '78', '89', '90']\n"
     ]
    }
   ],
   "source": [
    "list = input(\"Enter Values for the List  (Use Space after every Element): \").split()\n",
    "print(\"list: \",list)\n",
    "list.sort()\n",
    "print(\"Sorted Elements in the given List: \",list)"
   ]
  },
  {
   "cell_type": "markdown",
   "id": "b252baa2",
   "metadata": {},
   "source": [
    "10. Implement a function to find the sum of all numbers in a list."
   ]
  },
  {
   "cell_type": "code",
   "execution_count": 5,
   "id": "a2d740e9",
   "metadata": {},
   "outputs": [
    {
     "name": "stdout",
     "output_type": "stream",
     "text": [
      "Enter Values for the List  (Use Space after every Element): 5 10 15 20\n",
      "list:  ['5', '10', '15', '20']\n",
      "Sum of all the numbers in the list: \n",
      "50\n"
     ]
    }
   ],
   "source": [
    "def sum_list(list1):\n",
    "    s = 0\n",
    "    for i in range(0,len(list1)):\n",
    "        list1[i] = int(list1[i])\n",
    "        \n",
    "    print(sum(list1))\n",
    "        \n",
    "list1 = input(\"Enter Values for the List  (Use Space after every Element): \").split()\n",
    "print(\"list: \",list1)\n",
    "print(\"Sum of all the numbers in the list: \")\n",
    "sum_list(list1)"
   ]
  },
  {
   "cell_type": "markdown",
   "id": "71d86551",
   "metadata": {},
   "source": [
    "11. Write a program to find the common elements between two lists."
   ]
  },
  {
   "cell_type": "code",
   "execution_count": 1,
   "id": "9965391b",
   "metadata": {},
   "outputs": [
    {
     "name": "stdout",
     "output_type": "stream",
     "text": [
      "Enter Values for the List  (Use Space after every Element): 1 2 3 4 5 \n",
      "list:  ['1', '2', '3', '4', '5']\n",
      "Enter Values for the List  (Use Space after every Element): 7 9 10 4 5\n",
      "list:  ['7', '9', '10', '4', '5']\n",
      "Common Elements:  ['4', '5']\n"
     ]
    }
   ],
   "source": [
    "list1 = input(\"Enter Values for the List  (Use Space after every Element): \").split()\n",
    "print(\"list: \",list1)\n",
    "list2 = input(\"Enter Values for the List  (Use Space after every Element): \").split()\n",
    "print(\"list: \",list2)\n",
    "com_list = []\n",
    "\n",
    "for i in list1:\n",
    "    if i in list2 and i not in com_list:\n",
    "        com_list.append(i)\n",
    "\n",
    "if len(com_list) > 0:\n",
    "    print(\"Common Elements: \", com_list)\n",
    "else:\n",
    "    print(\"No Common Elements\")"
   ]
  },
  {
   "cell_type": "markdown",
   "id": "acda67f9",
   "metadata": {},
   "source": [
    "12. Implement a function to check if a given string is an anagram of another string."
   ]
  },
  {
   "cell_type": "code",
   "execution_count": 1,
   "id": "56a533d8",
   "metadata": {},
   "outputs": [
    {
     "name": "stdout",
     "output_type": "stream",
     "text": [
      "Enter First String: cat\n",
      "Enter Second String: act\n",
      "The Strings are Anagrams\n"
     ]
    }
   ],
   "source": [
    "def anagram(str1,str2):\n",
    "    if(sorted(str1) == sorted(str2)):\n",
    "        print(\"The Strings are Anagrams\")\n",
    "    else:\n",
    "        print(\"The Strings are not Anagrams\")\n",
    "        \n",
    "str1 = input(\"Enter First String: \")\n",
    "str2 = input(\"Enter Second String: \")\n",
    "anagram(str1,str2)"
   ]
  },
  {
   "cell_type": "markdown",
   "id": "5db698c3",
   "metadata": {},
   "source": [
    "13. Write a Python program to generate all permutations of a given string."
   ]
  },
  {
   "cell_type": "code",
   "execution_count": 3,
   "id": "d758db09",
   "metadata": {},
   "outputs": [
    {
     "name": "stdout",
     "output_type": "stream",
     "text": [
      "Enter String: abc\n",
      "All Possible Permutations of the given String are: \n",
      "[('a', 'b', 'c'), ('a', 'c', 'b'), ('b', 'a', 'c'), ('b', 'c', 'a'), ('c', 'a', 'b'), ('c', 'b', 'a')]\n"
     ]
    }
   ],
   "source": [
    "import itertools\n",
    "\n",
    "str = input(\"Enter String: \")\n",
    "permutation = list(itertools.permutations(str))\n",
    "print(\"All Possible Permutations of the given String are: \")\n",
    "print(permutation)"
   ]
  },
  {
   "cell_type": "markdown",
   "id": "d6f9c563",
   "metadata": {},
   "source": [
    "14. Implement a function to calculate the Fibonacci sequence up to a given number of terms."
   ]
  },
  {
   "cell_type": "code",
   "execution_count": 5,
   "id": "5a9da3e6",
   "metadata": {},
   "outputs": [
    {
     "name": "stdout",
     "output_type": "stream",
     "text": [
      "Enter the number of terms in fibonacci series you want to see: 10\n",
      "The Fibonacci Series are : \n",
      "0 1 1 2 3 5 8 13 21 34 "
     ]
    }
   ],
   "source": [
    "def fibonacci(n):\n",
    "    \n",
    "    num1 = 0\n",
    "    num2 = 1\n",
    "    next_num = 0\n",
    "    count = 1\n",
    "    \n",
    "    if n < 0:\n",
    "        print(\"Please enter a valid number\")\n",
    "    else:\n",
    "        while(count <= n):\n",
    "            print(next_num, end = \" \")\n",
    "            count+=1\n",
    "            num1 =  num2\n",
    "            num2 = next_num\n",
    "            next_num = num1 + num2\n",
    "\n",
    "n = int(input(\"Enter the number of terms in fibonacci series you want to see: \"))\n",
    "print(\"The Fibonacci Series are : \")\n",
    "fibonacci(n)"
   ]
  },
  {
   "cell_type": "markdown",
   "id": "d22ed939",
   "metadata": {},
   "source": [
    "15. Write a program to find the median of a list of numbers."
   ]
  },
  {
   "cell_type": "code",
   "execution_count": 7,
   "id": "bd92cae4",
   "metadata": {},
   "outputs": [
    {
     "name": "stdout",
     "output_type": "stream",
     "text": [
      "Original List:  [4, 5, 8, 9, 10, 17]\n",
      "Median: 8.5\n"
     ]
    }
   ],
   "source": [
    "def median(num):\n",
    "    sorted_num = sorted(num)\n",
    "    l = len(sorted_num)\n",
    "    mid = l // 2\n",
    "\n",
    "    if l % 2 == 0:\n",
    "        median = (sorted_num[mid - 1] + sorted_num[mid]) / 2\n",
    "    else:\n",
    "        median = sorted_num[middle]\n",
    "\n",
    "    return median\n",
    "\n",
    "num = [4,5,8,9,10,17]\n",
    "print(\"Original List: \",num)\n",
    "result = median(num)\n",
    "print(\"Median:\", result)"
   ]
  },
  {
   "cell_type": "markdown",
   "id": "c2934aa1",
   "metadata": {},
   "source": [
    "17. Write a Python program to find the intersection of two lists."
   ]
  },
  {
   "cell_type": "code",
   "execution_count": 10,
   "id": "7417f5e8",
   "metadata": {},
   "outputs": [
    {
     "name": "stdout",
     "output_type": "stream",
     "text": [
      "Enter elements of the first list, separated by spaces: 1 2 3\n",
      "Enter elements of the second list, separated by spaces: 3 4 5\n",
      "First List:  [1, 2, 3]\n",
      "Second List:  [3, 4, 5]\n",
      "Intersection: [3]\n"
     ]
    }
   ],
   "source": [
    "def intersection(list1, list2):\n",
    "    set1 = set(list1)\n",
    "    set2 = set(list2)\n",
    "    intersection = set1.intersection(set2)\n",
    "    return list(intersection)\n",
    "\n",
    "\n",
    "input1 = input(\"Enter elements of the first list, separated by spaces: \")\n",
    "list1 = input1.split()\n",
    "input2 = input(\"Enter elements of the second list, separated by spaces: \")\n",
    "list2 = input2.split()\n",
    "\n",
    "list1 = [int(num) for num in list1]\n",
    "list2 = [int(num) for num in list2]\n",
    "\n",
    "result = intersection(list1, list2)\n",
    "print(\"Intersection:\", result)\n"
   ]
  },
  {
   "cell_type": "markdown",
   "id": "7f5b87ab",
   "metadata": {},
   "source": [
    "19. Write a program to remove all vowels from a given string.\n"
   ]
  },
  {
   "cell_type": "code",
   "execution_count": 1,
   "id": "e9243d3b",
   "metadata": {},
   "outputs": [
    {
     "name": "stdout",
     "output_type": "stream",
     "text": [
      "Enter String: Akash\n",
      "After Removing Vowels:  ksh\n"
     ]
    }
   ],
   "source": [
    "str = input(\"Enter String: \")\n",
    "vow = ['a','e', 'i', 'o', 'u', 'A', 'E', 'I', 'O', 'U']\n",
    "ans = \"\"\n",
    "\n",
    "for i in range(len(str)):\n",
    "    if str[i] not in vow:\n",
    "        ans = ans + str[i]\n",
    "        \n",
    "print(\"After Removing Vowels: \", ans) "
   ]
  },
  {
   "cell_type": "markdown",
   "id": "d4246475",
   "metadata": {},
   "source": [
    "20. Implement a function to reverse the order of words in a given sentence."
   ]
  },
  {
   "cell_type": "code",
   "execution_count": 2,
   "id": "649c585c",
   "metadata": {},
   "outputs": [
    {
     "name": "stdout",
     "output_type": "stream",
     "text": [
      "Enter Sentence: how is your day going ?\n",
      "Reverse Form: \n",
      "? going day your is how\n"
     ]
    }
   ],
   "source": [
    "def reverse(str):\n",
    "    words = str.split() \n",
    "    reversed_words = words[::-1] \n",
    "    reversed_str = \" \".join(reversed_words)  \n",
    "    return reversed_str\n",
    "\n",
    "str = input(\"Enter Sentence: \")\n",
    "reversed_ans = reverse(str)\n",
    "print(\"Reverse Form: \")\n",
    "print(reversed_ans)"
   ]
  },
  {
   "cell_type": "markdown",
   "id": "250fb5c5",
   "metadata": {},
   "source": [
    "21. Write a Python program to check if two strings are anagrams of each other."
   ]
  },
  {
   "cell_type": "code",
   "execution_count": 3,
   "id": "3c752b65",
   "metadata": {},
   "outputs": [
    {
     "name": "stdout",
     "output_type": "stream",
     "text": [
      "Enter First String: sat\n",
      "Enter Second String: ast\n",
      "The Strings are Anagrams\n"
     ]
    }
   ],
   "source": [
    "def anagram(str1,str2):\n",
    "    if(sorted(str1) == sorted(str2)):\n",
    "        print(\"The Strings are Anagrams\")\n",
    "    else:\n",
    "        print(\"The Strings are not Anagrams\")\n",
    "        \n",
    "str1 = input(\"Enter First String: \")\n",
    "str2 = input(\"Enter Second String: \")\n",
    "anagram(str1,str2)"
   ]
  },
  {
   "cell_type": "markdown",
   "id": "80d45764",
   "metadata": {},
   "source": [
    "22. Implement a function to find the first non-repeating character in a string.\n"
   ]
  },
  {
   "cell_type": "code",
   "execution_count": 5,
   "id": "d4193861",
   "metadata": {},
   "outputs": [
    {
     "name": "stdout",
     "output_type": "stream",
     "text": [
      "Enter String: europe\n",
      "First non-repeating character is :  u\n"
     ]
    }
   ],
   "source": [
    "str = input(\"Enter String: \")\n",
    "nrc = \"\"\n",
    "index = -1\n",
    "\n",
    "if len(str) == 0:\n",
    "    print(\"Empty String\")\n",
    "\n",
    "for i in str:\n",
    "    if str.count(i) == 1:\n",
    "        nrc += i\n",
    "        break\n",
    "    else:\n",
    "        index  += 1\n",
    "\n",
    "if index == len(str)-1:\n",
    "    print(\"All chracters are repeating\")\n",
    "else:\n",
    "    print(\"First non-repeating character is : \",nrc )"
   ]
  },
  {
   "cell_type": "markdown",
   "id": "d1a89396",
   "metadata": {},
   "source": [
    "23. Write a program to find the prime factors of a given number."
   ]
  },
  {
   "cell_type": "code",
   "execution_count": 9,
   "id": "108ef382",
   "metadata": {},
   "outputs": [
    {
     "name": "stdout",
     "output_type": "stream",
     "text": [
      " Please Enter any Number: 100\n",
      " 2 is a Prime Factor of a Given Number 100\n",
      " 5 is a Prime Factor of a Given Number 100\n"
     ]
    }
   ],
   "source": [
    "num = int(input(\" Please Enter any Number: \"))\n",
    "i = 1\n",
    "\n",
    "while(i <= num):\n",
    "    count = 0\n",
    "    if(num % i == 0):\n",
    "        j = 1\n",
    "        while(j <= i):\n",
    "            if(i % j == 0):\n",
    "                count = count + 1\n",
    "            j = j + 1\n",
    "            \n",
    "        if (count == 2):\n",
    "            print(\" %d is a Prime Factor of a Given Number %d\" %(i, num))\n",
    "    i = i + 1"
   ]
  },
  {
   "cell_type": "markdown",
   "id": "b2a3e908",
   "metadata": {},
   "source": [
    "24. Implement a function to check if a given number is a power of two.\n"
   ]
  },
  {
   "cell_type": "code",
   "execution_count": 13,
   "id": "a0119510",
   "metadata": {},
   "outputs": [
    {
     "name": "stdout",
     "output_type": "stream",
     "text": [
      "Enter Number: 4\n",
      "True\n"
     ]
    }
   ],
   "source": [
    "def power_of_two(num):\n",
    "    if num <= 0:\n",
    "        return False\n",
    "    return (num & (num - 1)) == 0\n",
    "\n",
    "num = int(input(\"Enter Number: \"))\n",
    "result = power_of_two(num)\n",
    "print(result)"
   ]
  },
  {
   "cell_type": "markdown",
   "id": "b4070549",
   "metadata": {},
   "source": [
    "25.  Write a Python program to merge two sorted lists into a single sorted list."
   ]
  },
  {
   "cell_type": "code",
   "execution_count": 14,
   "id": "e6a24e46",
   "metadata": {},
   "outputs": [
    {
     "name": "stdout",
     "output_type": "stream",
     "text": [
      "Enter Values for the List  (Use Space after every Element): 3 5 8\n",
      "list:  ['3', '5', '8']\n",
      "Enter Values for the List  (Use Space after every Element): 9 2 1\n",
      "list:  ['9', '2', '1']\n",
      "Merged List: ['1', '2', '3', '5', '8', '9']\n"
     ]
    }
   ],
   "source": [
    "list1 = input(\"Enter Values for the List  (Use Space after every Element): \").split()\n",
    "print(\"list: \",list1)\n",
    "list2 = input(\"Enter Values for the List  (Use Space after every Element): \").split()\n",
    "print(\"list: \",list2)\n",
    "\n",
    "list3 = sorted(list1+list2)\n",
    "print(\"Merged List:\",list3)"
   ]
  },
  {
   "cell_type": "markdown",
   "id": "a901fc44",
   "metadata": {},
   "source": [
    "26.  Implement a function to find the mode of a list of numbers.\n"
   ]
  },
  {
   "cell_type": "code",
   "execution_count": 16,
   "id": "cef6a8ad",
   "metadata": {},
   "outputs": [
    {
     "name": "stdout",
     "output_type": "stream",
     "text": [
      "Enter Values for the list: 1 2 2 3 3 3 4 4 4 4\n",
      "List:  ['1', '2', '2', '3', '3', '3', '4', '4', '4', '4']\n",
      "Mode: \n",
      "['4']\n"
     ]
    }
   ],
   "source": [
    "from collections import Counter\n",
    "\n",
    "def find_mode(numbers):\n",
    "    counter = Counter(numbers)  \n",
    "    max_count = max(counter.values()) \n",
    "    mode = [num for num, count in counter.items() if count == max_count] \n",
    "\n",
    "    return mode\n",
    "\n",
    "numbers =  input(\"Enter Values for the list: \").split()\n",
    "print(\"List: \",numbers)\n",
    "print(\"Mode: \")\n",
    "mode = find_mode(numbers)\n",
    "print(mode)"
   ]
  },
  {
   "cell_type": "markdown",
   "id": "b5e0adc7",
   "metadata": {},
   "source": [
    "27. Write a program to find the greatest common divisor (GCD) of two numbers."
   ]
  },
  {
   "cell_type": "code",
   "execution_count": 1,
   "id": "a5f1629c",
   "metadata": {},
   "outputs": [
    {
     "name": "stdout",
     "output_type": "stream",
     "text": [
      "Enter first number: 36\n",
      "Enter second number: 60\n",
      "The GCD of 36 and 60 is:  12\n"
     ]
    }
   ],
   "source": [
    "import math\n",
    "n1 = int(input(\"Enter first number: \"))\n",
    "n2 = int(input(\"Enter second number: \"))\n",
    "res = math.gcd(n1,n2)\n",
    "print(\"The GCD of\",n1,\"and\",n2,\"is: \",res)"
   ]
  },
  {
   "cell_type": "markdown",
   "id": "15c2fdb6",
   "metadata": {},
   "source": [
    "28. Implement a function to calculate the square root of a given number."
   ]
  },
  {
   "cell_type": "code",
   "execution_count": 2,
   "id": "e285a35a",
   "metadata": {},
   "outputs": [
    {
     "name": "stdout",
     "output_type": "stream",
     "text": [
      "Enter Number: 144\n",
      "Square root of 144 is:  12.0\n"
     ]
    }
   ],
   "source": [
    "import math\n",
    "\n",
    "def square_root(num):\n",
    "    return math.sqrt(num)\n",
    "\n",
    "num = int(input(\"Enter Number: \"))\n",
    "result = square_root(num)\n",
    "print(\"Square root of\",num,\"is: \",result) "
   ]
  },
  {
   "cell_type": "markdown",
   "id": "02a21e35",
   "metadata": {},
   "source": [
    "29. Write a Python program to check if a given string is a valid palindrome ignoring non-alphanumeric characters."
   ]
  },
  {
   "cell_type": "code",
   "execution_count": 3,
   "id": "b06f323a",
   "metadata": {},
   "outputs": [
    {
     "name": "stdout",
     "output_type": "stream",
     "text": [
      "True\n",
      "False\n"
     ]
    }
   ],
   "source": [
    "import re\n",
    "\n",
    "def is_palindrome(string):\n",
    "\n",
    "    cleaned_string = re.sub(r'[^a-zA-Z0-9]', '', string)\n",
    "    \n",
    "    cleaned_string = cleaned_string.lower()\n",
    "    \n",
    "    return cleaned_string == cleaned_string[::-1]\n",
    "\n",
    "\n",
    "string1 = \"A man, a plan, a canal: Panama\"\n",
    "print(is_palindrome(string1))  \n",
    "\n",
    "string2 = \"race a car\"\n",
    "print(is_palindrome(string2))  "
   ]
  },
  {
   "cell_type": "markdown",
   "id": "947e5be1",
   "metadata": {},
   "source": [
    "30. Implement a function to find the minimum element in a rotated sorted list."
   ]
  },
  {
   "cell_type": "code",
   "execution_count": 4,
   "id": "5cdb78f2",
   "metadata": {},
   "outputs": [
    {
     "name": "stdout",
     "output_type": "stream",
     "text": [
      "0\n"
     ]
    }
   ],
   "source": [
    "def find_minimum(nums):\n",
    "    left = 0\n",
    "    right = len(nums) - 1\n",
    "    \n",
    "    while left < right:\n",
    "        mid = left + (right - left) // 2\n",
    "        \n",
    "        if nums[mid] > nums[right]:\n",
    "            left = mid + 1\n",
    "        else:\n",
    "            right = mid\n",
    "    \n",
    "    return nums[left]\n",
    "\n",
    "\n",
    "rotated_list = [4, 5, 6, 7, 0, 1, 2]\n",
    "min_list = find_minimum(rotated_list)\n",
    "print(min_list) "
   ]
  },
  {
   "cell_type": "markdown",
   "id": "4e375085",
   "metadata": {},
   "source": [
    "31. Write a program to find the sum of all even numbers in a list."
   ]
  },
  {
   "cell_type": "code",
   "execution_count": 5,
   "id": "72ac381c",
   "metadata": {},
   "outputs": [
    {
     "name": "stdout",
     "output_type": "stream",
     "text": [
      "30\n"
     ]
    }
   ],
   "source": [
    "def sum_even_numbers(numbers):\n",
    "    total = 0\n",
    "    for number in numbers:\n",
    "        if number % 2 == 0:\n",
    "            total += number\n",
    "    return total\n",
    "\n",
    "\n",
    "my_list = [1, 2, 3, 4, 5, 6, 7, 8, 9, 10]\n",
    "result = sum_even_numbers(my_list)\n",
    "print(result) "
   ]
  },
  {
   "cell_type": "markdown",
   "id": "4e5e075b",
   "metadata": {},
   "source": [
    "32. Implement a function to calculate the power of a number using recursion."
   ]
  },
  {
   "cell_type": "code",
   "execution_count": 10,
   "id": "66faed9e",
   "metadata": {},
   "outputs": [
    {
     "name": "stdout",
     "output_type": "stream",
     "text": [
      "Enter Base Number: 2\n",
      "Enter Exponent number: 3\n",
      "The number 2 to the power 3 is:  8\n"
     ]
    }
   ],
   "source": [
    "def power(base, exponent):\n",
    "    if exponent == 0:\n",
    "        return 1\n",
    "    elif exponent > 0:\n",
    "        return base * power(base, exponent - 1)\n",
    "    else:\n",
    "        return 1 / base * power(base, exponent + 1)\n",
    "\n",
    "\n",
    "base = int(input(\"Enter Base Number: \"))\n",
    "exponent = int(input(\"Enter Exponent number: \"))\n",
    "result = power(base,exponent)\n",
    "print(\"The number\",base,\"to the power\",exponent,\"is: \",result)\n"
   ]
  },
  {
   "cell_type": "markdown",
   "id": "3121890c",
   "metadata": {},
   "source": [
    "33. Write a Python program to remove duplicates from a list while preserving the order.\n"
   ]
  },
  {
   "cell_type": "code",
   "execution_count": 11,
   "id": "30e41384",
   "metadata": {},
   "outputs": [
    {
     "name": "stdout",
     "output_type": "stream",
     "text": [
      "[1, 2, 3, 4, 5, 6]\n"
     ]
    }
   ],
   "source": [
    "def remove_duplicates(lst):\n",
    "    seen = set()\n",
    "    result = []\n",
    "    for item in lst:\n",
    "        if item not in seen:\n",
    "            seen.add(item)\n",
    "            result.append(item)\n",
    "    return result\n",
    "\n",
    "\n",
    "my_list = [1, 2, 3, 2, 4, 1, 5, 6, 5, 4]\n",
    "new_list = remove_duplicates(my_list)\n",
    "print(new_list) \n"
   ]
  },
  {
   "cell_type": "markdown",
   "id": "839dc7e4",
   "metadata": {},
   "source": [
    "35. Write a program to check if a given number is a perfect square."
   ]
  },
  {
   "cell_type": "code",
   "execution_count": 13,
   "id": "203fa2c8",
   "metadata": {},
   "outputs": [
    {
     "name": "stdout",
     "output_type": "stream",
     "text": [
      "Enter Number: 78\n",
      "The number is not a perfect square\n"
     ]
    }
   ],
   "source": [
    "import math  \n",
    "num = int(input(\"Enter Number: \"))\n",
    "sqrt_num = math.sqrt(num)  \n",
    "if sqrt_num.is_integer():  \n",
    "    print(\"The number is a perfect square\")  \n",
    "else:  \n",
    "    print(\"The number is not a perfect square\")  "
   ]
  },
  {
   "cell_type": "markdown",
   "id": "11432ca6",
   "metadata": {},
   "source": [
    "36.  Implement a function to calculate the product of all elements in a list."
   ]
  },
  {
   "cell_type": "code",
   "execution_count": 15,
   "id": "e126072c",
   "metadata": {},
   "outputs": [
    {
     "name": "stdout",
     "output_type": "stream",
     "text": [
      "Product of all elements in the list is:  120\n"
     ]
    }
   ],
   "source": [
    "def calculate_product(lst):\n",
    "    product = 1\n",
    "    for num in lst:\n",
    "        product *= num\n",
    "    return product\n",
    "\n",
    "\n",
    "my_list = [2, 3, 4, 5]\n",
    "result = calculate_product(my_list)\n",
    "print(\"Product of all elements in the list is: \",result)  \n"
   ]
  },
  {
   "cell_type": "markdown",
   "id": "5bb40c8e",
   "metadata": {},
   "source": [
    "37.  Write a Python program to reverse the order of words in a sentence while preserving the word order.\n"
   ]
  },
  {
   "cell_type": "code",
   "execution_count": 18,
   "id": "d78db6ee",
   "metadata": {},
   "outputs": [
    {
     "name": "stdout",
     "output_type": "stream",
     "text": [
      "Enter Sentence: Hello, how are you?\n",
      "Reversed Form:  you? are how Hello,\n"
     ]
    }
   ],
   "source": [
    "def reverse_sentence(sentence):\n",
    "    words = sentence.split() \n",
    "    reversed_words = words[::-1] \n",
    "    reversed_sentence = ' '.join(reversed_words)  \n",
    "    return reversed_sentence\n",
    "\n",
    "\n",
    "my_sentence = input(\"Enter Sentence: \")\n",
    "reversed_sentence = reverse_sentence(my_sentence)\n",
    "print(\"Reversed Form: \",reversed_sentence)  "
   ]
  },
  {
   "cell_type": "markdown",
   "id": "4e9e36e2",
   "metadata": {},
   "source": [
    "38. Implement a function to find the missing number in a given list of consecutive numbers."
   ]
  },
  {
   "cell_type": "code",
   "execution_count": 19,
   "id": "3f3ea454",
   "metadata": {},
   "outputs": [
    {
     "name": "stdout",
     "output_type": "stream",
     "text": [
      "4\n"
     ]
    }
   ],
   "source": [
    "def find_missing_number(numbers):\n",
    "    n = len(numbers) + 1 \n",
    "    total_sum = (n * (n + 1)) // 2 \n",
    "    actual_sum = sum(numbers) \n",
    "    missing_number = total_sum - actual_sum\n",
    "    return missing_number\n",
    "\n",
    "my_list = [1, 2, 3, 5, 6, 7, 8, 9]\n",
    "missing_number = find_missing_number(my_list)\n",
    "print(missing_number) "
   ]
  },
  {
   "cell_type": "markdown",
   "id": "c7454dbc",
   "metadata": {},
   "source": [
    "39. Write a program to find the sum of digits of a given number.\n"
   ]
  },
  {
   "cell_type": "code",
   "execution_count": 22,
   "id": "53532d54",
   "metadata": {},
   "outputs": [
    {
     "name": "stdout",
     "output_type": "stream",
     "text": [
      "Enter Number: 123\n",
      "Sum of the digits of the number:  6\n"
     ]
    }
   ],
   "source": [
    "def getSum(n):\n",
    "    \n",
    "    sum = 0\n",
    "    for digit in str(n): \n",
    "      sum += int(digit)      \n",
    "    return sum\n",
    "   \n",
    "n = int(input(\"Enter Number: \"))\n",
    "print(\"Sum of the digits of the number: \",getSum(n))"
   ]
  },
  {
   "cell_type": "markdown",
   "id": "e6ecbdd9",
   "metadata": {},
   "source": [
    "40.  Implement a function to check if a given string is a valid palindrome considering case sensitivity."
   ]
  },
  {
   "cell_type": "code",
   "execution_count": 26,
   "id": "f48301c3",
   "metadata": {},
   "outputs": [
    {
     "name": "stdout",
     "output_type": "stream",
     "text": [
      "Enter String: fdgdf\n",
      "True\n"
     ]
    }
   ],
   "source": [
    "def is_palindrome(string):\n",
    "\n",
    "    reversed_string = string[::-1]\n",
    "    return string == reversed_string\n",
    "\n",
    "string = input(\"Enter String: \") \n",
    "print(is_palindrome(string)) "
   ]
  },
  {
   "cell_type": "markdown",
   "id": "1f38b9a8",
   "metadata": {},
   "source": [
    "41. Write a Python program to find the smallest missing positive integer in a list.\n"
   ]
  },
  {
   "cell_type": "code",
   "execution_count": 27,
   "id": "d566c4c0",
   "metadata": {},
   "outputs": [
    {
     "name": "stdout",
     "output_type": "stream",
     "text": [
      "2\n"
     ]
    }
   ],
   "source": [
    "def find_smallest_missing_positive(nums):\n",
    "    positives = [num for num in nums if num > 0]\n",
    "\n",
    "    for i in range(len(positives)):\n",
    "        num = abs(positives[i])\n",
    "        if num <= len(positives):\n",
    "            positives[num - 1] = -abs(positives[num - 1])\n",
    "\n",
    "    for i in range(len(positives)):\n",
    "        if positives[i] > 0:\n",
    "            return i + 1\n",
    "\n",
    "    return len(positives) + 1\n",
    "\n",
    "\n",
    "my_list = [3, 4, -1, 1]\n",
    "result = find_smallest_missing_positive(my_list)\n",
    "print(result)  \n"
   ]
  },
  {
   "cell_type": "markdown",
   "id": "259ac327",
   "metadata": {},
   "source": [
    "42.  Implement a function to find the longest palindrome substring in a given string."
   ]
  },
  {
   "cell_type": "code",
   "execution_count": 29,
   "id": "1c27efe0",
   "metadata": {},
   "outputs": [
    {
     "name": "stdout",
     "output_type": "stream",
     "text": [
      "faf\n"
     ]
    }
   ],
   "source": [
    "def longest_palindrome_substring(string):\n",
    "    longest = \"\"\n",
    "    for i in range(len(string)):\n",
    "        \n",
    "        palindrome_odd = expand_around_center(string, i, i)\n",
    "        if len(palindrome_odd) > len(longest):\n",
    "            longest = palindrome_odd\n",
    "        \n",
    "        \n",
    "        palindrome_even = expand_around_center(string, i, i + 1)\n",
    "        if len(palindrome_even) > len(longest):\n",
    "            longest = palindrome_even\n",
    "    \n",
    "    return longest\n",
    "\n",
    "def expand_around_center(string, left, right):\n",
    "    \n",
    "    while left >= 0 and right < len(string) and string[left] == string[right]:\n",
    "        left -= 1\n",
    "        right += 1\n",
    "    \n",
    "    return string[left + 1: right]\n",
    "\n",
    "\n",
    "my_string = \"fafut\"\n",
    "result = longest_palindrome_substring(my_string)\n",
    "print(result)  "
   ]
  },
  {
   "cell_type": "markdown",
   "id": "244aad8b",
   "metadata": {},
   "source": [
    "43.  Write a program to find the number of occurrences of a given element in a list."
   ]
  },
  {
   "cell_type": "code",
   "execution_count": 1,
   "id": "5191d948",
   "metadata": {},
   "outputs": [
    {
     "name": "stdout",
     "output_type": "stream",
     "text": [
      "Enter Values for the List  (Use Space after every Element): 1 2 2 3 3 3 4 4 4 4\n",
      "list:  ['1', '2', '2', '3', '3', '3', '4', '4', '4', '4']\n",
      "Enter Element for its count in the list: 4\n",
      "4 has occurred 4 times\n"
     ]
    }
   ],
   "source": [
    "def occur_count(l,x):\n",
    "    return l.count(x)\n",
    "\n",
    "l = input(\"Enter Values for the List  (Use Space after every Element): \").split()\n",
    "print(\"list: \",l)\n",
    "x = input(\"Enter Element for its count in the list: \")\n",
    "print('{} has occurred {} times'.format(x,occur_count(l, x)))"
   ]
  },
  {
   "cell_type": "markdown",
   "id": "48130b67",
   "metadata": {},
   "source": [
    "44.  Implement a function to check if a given number is a perfect number."
   ]
  },
  {
   "cell_type": "code",
   "execution_count": 4,
   "id": "6d6a99d8",
   "metadata": {},
   "outputs": [
    {
     "name": "stdout",
     "output_type": "stream",
     "text": [
      "Enter Number: 6\n",
      "True\n"
     ]
    }
   ],
   "source": [
    "def is_perfect_number(num):\n",
    "    if num <= 0:\n",
    "        return False\n",
    "    \n",
    "    divisor_sum = 0\n",
    "    for i in range(1, num):\n",
    "        if num % i == 0:\n",
    "            divisor_sum += i\n",
    "    \n",
    "    return divisor_sum == num\n",
    "\n",
    "\n",
    "num = int(input(\"Enter Number: \"))\n",
    "print(is_perfect_number(num))  "
   ]
  },
  {
   "cell_type": "markdown",
   "id": "e1278c0f",
   "metadata": {},
   "source": [
    "45. Write a Python program to remove all duplicates from a string.\n"
   ]
  },
  {
   "cell_type": "code",
   "execution_count": 6,
   "id": "e850095f",
   "metadata": {},
   "outputs": [
    {
     "name": "stdout",
     "output_type": "stream",
     "text": [
      "Enter String: Hello, world!\n",
      "Helo, wrd!\n"
     ]
    }
   ],
   "source": [
    "def remove_duplicates(string):\n",
    "    unique_char = []\n",
    "    for char in string:\n",
    "        if char not in unique_char:\n",
    "            unique_char.append(char)\n",
    "    return ''.join(unique_char)\n",
    "\n",
    "\n",
    "string = input(\"Enter String: \")\n",
    "result = remove_duplicates(string)\n",
    "print(result)  "
   ]
  },
  {
   "cell_type": "markdown",
   "id": "1b1bc45c",
   "metadata": {},
   "source": [
    "46. Implement a function to find the first missing positive\n"
   ]
  },
  {
   "cell_type": "code",
   "execution_count": 8,
   "id": "7b70b471",
   "metadata": {},
   "outputs": [
    {
     "name": "stdout",
     "output_type": "stream",
     "text": [
      "First missing positive is:  2\n"
     ]
    }
   ],
   "source": [
    "def find_first_missing_positive(nums):\n",
    "    n = len(nums)\n",
    "\n",
    "    for i in range(n):\n",
    "        while 1 <= nums[i] <= n and nums[nums[i] - 1] != nums[i]:\n",
    "            nums[nums[i] - 1], nums[i] = nums[i], nums[nums[i] - 1]\n",
    "\n",
    "    for i in range(n):\n",
    "        if nums[i] != i + 1:\n",
    "            return i + 1\n",
    "\n",
    "    return n + 1\n",
    "\n",
    "\n",
    "my_list = [3, 4, -1, 1]\n",
    "result = find_first_missing_positive(my_list)\n",
    "print(\"First missing positive is: \",result) \n"
   ]
  }
 ],
 "metadata": {
  "kernelspec": {
   "display_name": "Python 3 (ipykernel)",
   "language": "python",
   "name": "python3"
  },
  "language_info": {
   "codemirror_mode": {
    "name": "ipython",
    "version": 3
   },
   "file_extension": ".py",
   "mimetype": "text/x-python",
   "name": "python",
   "nbconvert_exporter": "python",
   "pygments_lexer": "ipython3",
   "version": "3.9.13"
  }
 },
 "nbformat": 4,
 "nbformat_minor": 5
}
