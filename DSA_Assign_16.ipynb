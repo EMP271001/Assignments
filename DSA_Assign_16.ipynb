{
 "cells": [
  {
   "cell_type": "markdown",
   "id": "1ec43308",
   "metadata": {},
   "source": [
    "2. Given a stack of integers, sort it in ascending order using another temporary stack.\n",
    "\n",
    "Examples:\n",
    "Input : [34, 3, 31, 98, 92, 23]\n",
    "Output : [3, 23, 31, 34, 92, 98]\n",
    "\n",
    "Input : [3, 5, 1, 4, 2, 8]\n",
    "Output : [1, 2, 3, 4, 5, 8]"
   ]
  },
  {
   "cell_type": "code",
   "execution_count": 9,
   "id": "8fad5160",
   "metadata": {},
   "outputs": [
    {
     "name": "stdout",
     "output_type": "stream",
     "text": [
      "Input :  [34, 3, 31, 98, 92, 23]\n",
      "Output :  [3, 23, 31, 34, 92, 98]\n",
      "\n",
      "\n",
      "Input :  [3, 5, 1, 4, 2, 8]\n",
      "Output :  [1, 2, 3, 4, 5, 8]\n"
     ]
    }
   ],
   "source": [
    "def sortStack(stack):\n",
    "    tempStack = []\n",
    "\n",
    "    while stack:\n",
    "        temp = stack.pop()\n",
    "\n",
    "        while tempStack and tempStack[-1] < temp:\n",
    "            stack.append(tempStack.pop())\n",
    "\n",
    "        tempStack.append(temp)\n",
    "\n",
    "    while tempStack:\n",
    "        stack.append(tempStack.pop())\n",
    "\n",
    "    return stack\n",
    "\n",
    "# Example taken from the question\n",
    "    \n",
    "stack1 = [34, 3, 31, 98, 92, 23]\n",
    "print(\"Input : \",stack1)\n",
    "sortedStack1 = sortStack(stack1)\n",
    "print(\"Output : \",sortedStack1) \n",
    "\n",
    "print(\"\\n\")\n",
    "stack2 = [3, 5, 1, 4, 2, 8]\n",
    "print(\"Input : \",stack2)\n",
    "sortedStack2 = sortStack(stack2)\n",
    "print(\"Output : \",sortedStack2) "
   ]
  },
  {
   "cell_type": "markdown",
   "id": "0fecc38a",
   "metadata": {},
   "source": [
    "3. Given a stack with push(), pop(), and empty() operations, The task is to delete the middle element of it without \n",
    "using any additional data structure.\n",
    "\n",
    "Example 1:\n",
    "Input  : Stack[] = [1, 2, 3, 4, 5]\n",
    "Output : Stack[] = [1, 2, 4, 5]\n",
    "\n",
    "Example 2:\n",
    "Input  : Stack[] = [1, 2, 3, 4, 5, 6]\n",
    "Output : Stack[] = [1, 2, 4, 5, 6]"
   ]
  },
  {
   "cell_type": "code",
   "execution_count": 21,
   "id": "9dbd519f",
   "metadata": {},
   "outputs": [
    {
     "name": "stdout",
     "output_type": "stream",
     "text": [
      "[1, 2, 4, 5]\n",
      "[1, 2, 3, 5, 6]\n"
     ]
    }
   ],
   "source": [
    "def delete_mid(stack, index):\n",
    "    if len(stack) == index:\n",
    "        stack.pop()\n",
    "        return\n",
    "\n",
    "    temp = stack.pop()\n",
    "    delete_mid(stack, index)\n",
    "    stack.append(temp)\n",
    "\n",
    "def delete_middle_element(stack):\n",
    "    size = len(stack)\n",
    "    delete_mid(stack, size // 2 + 1)\n",
    "    return stack\n",
    "\n",
    "# Example taken from the question\n",
    "\n",
    "stack1 = [1, 2, 3, 4, 5]\n",
    "result1 = delete_middle_element(stack1)\n",
    "print(result1)  \n",
    "\n",
    "stack2 = [1, 2, 3, 4, 5, 6]\n",
    "result2 = delete_middle_element(stack2)\n",
    "print(result2)"
   ]
  },
  {
   "cell_type": "markdown",
   "id": "3bc1ebf0",
   "metadata": {},
   "source": [
    "5. Given a number , write a program to reverse this number using stack.\n",
    "\n",
    "Example 1:\n",
    "Input : 365\n",
    "Output : 563\n",
    "\n",
    "Example 2:\n",
    "Input : 6899\n",
    "Output : 9986"
   ]
  },
  {
   "cell_type": "code",
   "execution_count": 26,
   "id": "158b8cf1",
   "metadata": {},
   "outputs": [
    {
     "name": "stdout",
     "output_type": "stream",
     "text": [
      "Enter Number : 365\n",
      "Reverse Form :  563\n",
      "Enter Number : 6899\n",
      "Reverse Form :  9986\n"
     ]
    }
   ],
   "source": [
    "def reverse_number(num):\n",
    "    num_str = str(num)\n",
    "    stack = []\n",
    "    \n",
    "    for digit in num_str:\n",
    "        stack.append(digit)\n",
    "    \n",
    "    reversed_num = \"\"\n",
    "    \n",
    "    \n",
    "    while stack:\n",
    "        reversed_num += stack.pop()\n",
    "    \n",
    "    return int(reversed_num)\n",
    "\n",
    "# Example taken from the question\n",
    "\n",
    "num1 = input(\"Enter Number : \")\n",
    "result1 = reverse_number(num1)\n",
    "print(\"Reverse Form : \",result1) \n",
    "\n",
    "num2 = input(\"Enter Number : \")\n",
    "result2 = reverse_number(num2)\n",
    "print(\"Reverse Form : \",result2) \n"
   ]
  },
  {
   "cell_type": "markdown",
   "id": "351026ab",
   "metadata": {},
   "source": [
    "8. Given an array of integers, the task is to find the maximum absolute difference between the nearest left and the right \n",
    "smaller element of every element in the array.\n",
    "\n",
    "Note: If there is no smaller element on right side or left side of any element then we take zero as the smaller element. \n",
    "For example for the leftmost element, the nearest smaller element on the left side is considered as 0. Similarly, for \n",
    "rightmost elements, the smaller element on the right side is considered as 0.\n",
    "\n",
    "Example 1:\n",
    "Input : arr[] = {2, 1, 8}\n",
    "Output : 1\n",
    "Left smaller  LS[] {0, 0, 1}\n",
    "Right smaller RS[] {1, 0, 0}\n",
    "Maximum Diff of abs(LS[i] - RS[i]) = 1\n",
    "\n",
    "Example 2:\n",
    "Input  : arr[] = {2, 4, 8, 7, 7, 9, 3}\n",
    "Output : 4\n",
    "Left smaller   LS[] = {0, 2, 4, 4, 4, 7, 2}\n",
    "Right smaller  RS[] = {0, 3, 7, 3, 3, 3, 0}\n",
    "Maximum Diff of abs(LS[i] - RS[i]) = 7 - 3 = 4\n",
    "\n",
    "Example 3:\n",
    "Input : arr[] = {5, 1, 9, 2, 5, 1, 7}\n",
    "Output : 1"
   ]
  },
  {
   "cell_type": "code",
   "execution_count": 31,
   "id": "95adb69a",
   "metadata": {},
   "outputs": [
    {
     "name": "stdout",
     "output_type": "stream",
     "text": [
      "Array:  [2, 1, 8]\n",
      "Output:  1\n",
      "\n",
      "\n",
      "Array:  [2, 4, 8, 7, 7, 9, 3]\n",
      "Output:  4\n",
      "\n",
      "\n",
      "Array:  [5, 1, 9, 2, 5, 1, 7]\n",
      "Output:  1\n"
     ]
    }
   ],
   "source": [
    "def max_absolute_diff(arr):\n",
    "    n = len(arr)\n",
    "    LS = [0] * n  \n",
    "    RS = [0] * n  \n",
    "    stack = []  \n",
    "    \n",
    "    \n",
    "    for i in range(n):\n",
    "        while stack and arr[i] < arr[stack[-1]]:\n",
    "            RS[stack.pop()] = arr[i]\n",
    "        stack.append(i)\n",
    "    \n",
    "    stack = [] \n",
    "    \n",
    "    \n",
    "    for i in range(n-1, -1, -1):\n",
    "        while stack and arr[i] < arr[stack[-1]]:\n",
    "            LS[stack.pop()] = arr[i]\n",
    "        stack.append(i)\n",
    "    \n",
    "    max_diff = 0  \n",
    "    \n",
    "    \n",
    "    for i in range(n):\n",
    "        diff = abs(LS[i] - RS[i])\n",
    "        max_diff = max(max_diff, diff)\n",
    "    \n",
    "    return max_diff\n",
    "\n",
    "# Example taken from the question\n",
    "\n",
    "arr1 = [2, 1, 8]\n",
    "print(\"Array: \",arr1)\n",
    "result1 = max_absolute_diff(arr1)\n",
    "print(\"Output: \",result1)  \n",
    "\n",
    "print(\"\\n\")\n",
    "\n",
    "arr2 = [2, 4, 8, 7, 7, 9, 3]\n",
    "print(\"Array: \",arr2)\n",
    "result2 = max_absolute_diff(arr2)\n",
    "print(\"Output: \",result2)  \n",
    "\n",
    "print(\"\\n\")\n",
    "\n",
    "arr3 = [5, 1, 9, 2, 5, 1, 7]\n",
    "print(\"Array: \",arr3)\n",
    "result3 = max_absolute_diff(arr3)\n",
    "print(\"Output: \",result3) "
   ]
  }
 ],
 "metadata": {
  "kernelspec": {
   "display_name": "Python 3 (ipykernel)",
   "language": "python",
   "name": "python3"
  },
  "language_info": {
   "codemirror_mode": {
    "name": "ipython",
    "version": 3
   },
   "file_extension": ".py",
   "mimetype": "text/x-python",
   "name": "python",
   "nbconvert_exporter": "python",
   "pygments_lexer": "ipython3",
   "version": "3.9.13"
  }
 },
 "nbformat": 4,
 "nbformat_minor": 5
}
