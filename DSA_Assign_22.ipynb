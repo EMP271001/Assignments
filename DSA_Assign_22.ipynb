{
 "cells": [
  {
   "cell_type": "markdown",
   "id": "f4255f8b",
   "metadata": {},
   "source": [
    "1. Given a Binary Tree (Bt), convert it to a Doubly Linked List(DLL). The left and right pointers in nodes are to be used as previous and next pointers respectively in converted DLL. The order of nodes in DLL must be the same as in Inorder for the given Binary Tree. The first node of Inorder traversal (leftmost node in BT) must be the head node of the DLL."
   ]
  },
  {
   "cell_type": "code",
   "execution_count": 2,
   "id": "99239948",
   "metadata": {},
   "outputs": [
    {
     "name": "stdout",
     "output_type": "stream",
     "text": [
      "5 10 30 20 35 "
     ]
    }
   ],
   "source": [
    "class Node:\n",
    "    def __init__(self, val=0, left=None, right=None):\n",
    "        self.val = val\n",
    "        self.left = left\n",
    "        self.right = right\n",
    "\n",
    "\n",
    "def binaryTreeToDLL(root):\n",
    "    if not root:\n",
    "        return None\n",
    "\n",
    "    def convertToDLL(node):\n",
    "        nonlocal prev, head\n",
    "\n",
    "        if not node:\n",
    "            return\n",
    "\n",
    "        convertToDLL(node.left)\n",
    "\n",
    "        if prev:\n",
    "            prev.right = node\n",
    "        else:\n",
    "            head = node\n",
    "\n",
    "        node.left = prev\n",
    "        prev = node\n",
    "\n",
    "        convertToDLL(node.right)\n",
    "\n",
    "    prev = None\n",
    "    head = None\n",
    "\n",
    "    convertToDLL(root)\n",
    "\n",
    "    head.left = None\n",
    "\n",
    "    return head\n",
    "\n",
    "\n",
    " \n",
    "root = Node(10)\n",
    "root.left = Node(5)\n",
    "root.right = Node(20)\n",
    "root.right.left = Node(30)\n",
    "root.right.right = Node(35)\n",
    "\n",
    "dll_head = binaryTreeToDLL(root)\n",
    "\n",
    "\n",
    "current = dll_head\n",
    "while current:\n",
    "    print(current.val, end=\" \")\n",
    "    current = current.right\n"
   ]
  },
  {
   "cell_type": "markdown",
   "id": "ce419e75",
   "metadata": {},
   "source": [
    "2. A Given a binary tree, the task is to flip the binary tree towards the right direction that is clockwise.\n",
    "In the flip operation, the leftmost node becomes the root of the flipped tree and its parent becomes its right child and the right sibling becomes its left child and the same should be done for all left most nodes recursively."
   ]
  },
  {
   "cell_type": "code",
   "execution_count": 5,
   "id": "14a4eb7e",
   "metadata": {},
   "outputs": [
    {
     "name": "stdout",
     "output_type": "stream",
     "text": [
      "4 2 5 1 6 3 7 "
     ]
    }
   ],
   "source": [
    "class TreeNode:\n",
    "    def __init__(self, val=0, left=None, right=None):\n",
    "        self.val = val\n",
    "        self.left = left\n",
    "        self.right = right\n",
    "\n",
    "\n",
    "def flipBinaryTree(root):\n",
    "    if not root:\n",
    "        return None\n",
    "\n",
    "    if not root.left and not root.right:\n",
    "        return root\n",
    "\n",
    "    flipped_left = flipBinaryTree(root.left)\n",
    "    flipped_right = flipBinaryTree(root.right)\n",
    "\n",
    "    root.left = flipped_right\n",
    "    root.right = None\n",
    "\n",
    "\n",
    "    current = flipped_left\n",
    "    while current.right:\n",
    "        current = current.right\n",
    "\n",
    "\n",
    "    current.right = root\n",
    "\n",
    "\n",
    "    return flipped_left\n",
    "\n",
    "\n",
    "\n",
    "root = TreeNode(1)\n",
    "root.left = TreeNode(2)\n",
    "root.right = TreeNode(3)\n",
    "root.left.left = TreeNode(4)\n",
    "root.left.right = TreeNode(5)\n",
    "root.right.left = TreeNode(6)\n",
    "root.right.right = TreeNode(7)\n",
    "\n",
    "flipped_root = flipBinaryTree(root)\n",
    "\n",
    "def preorder(node):\n",
    "    if node:\n",
    "        print(node.val, end=\" \")\n",
    "        preorder(node.left)\n",
    "        preorder(node.right)\n",
    "\n",
    "preorder(flipped_root)"
   ]
  },
  {
   "cell_type": "markdown",
   "id": "77a71d95",
   "metadata": {},
   "source": [
    "3. Given a binary tree, print all its root-to-leaf paths without using recursion. For example, consider the following Binary Tree.\n",
    "\n",
    "Input:\n",
    "\n",
    "        6\n",
    "     /    \\\n",
    "    3      5\n",
    "  /   \\     \\\n",
    " 2     5     4\n",
    "     /   \\\n",
    "    7     4\n",
    "\n",
    "Output:\n",
    "\n",
    "There are 4 leaves, hence 4 root to leaf paths -\n",
    "  6->3->2\n",
    "  6->3->5->7\n",
    "  6->3->5->4\n",
    "  6->5>4\n"
   ]
  },
  {
   "cell_type": "code",
   "execution_count": 7,
   "id": "9dadaaa2",
   "metadata": {},
   "outputs": [
    {
     "name": "stdout",
     "output_type": "stream",
     "text": [
      "6->5->4\n",
      "6->3->5->4\n",
      "6->3->5->7\n",
      "6->3->2\n"
     ]
    }
   ],
   "source": [
    "class TreeNode:\n",
    "    def __init__(self, val=0, left=None, right=None):\n",
    "        self.val = val\n",
    "        self.left = left\n",
    "        self.right = right\n",
    "\n",
    "\n",
    "def printRootToLeafPaths(root):\n",
    "    if not root:\n",
    "        return\n",
    "\n",
    "    stack = [(root, str(root.val))]\n",
    "\n",
    "    while stack:\n",
    "        node, path = stack.pop()\n",
    "\n",
    "        if not node.left and not node.right:\n",
    "            print(path)\n",
    "        \n",
    "        if node.left:\n",
    "            stack.append((node.left, path + \"->\" + str(node.left.val)))\n",
    "\n",
    "        if node.right:\n",
    "            stack.append((node.right, path + \"->\" + str(node.right.val)))\n",
    "\n",
    "\n",
    "root = TreeNode(6)\n",
    "root.left = TreeNode(3)\n",
    "root.right = TreeNode(5)\n",
    "root.left.left = TreeNode(2)\n",
    "root.left.right = TreeNode(5)\n",
    "root.right.right = TreeNode(4)\n",
    "root.left.right.left = TreeNode(7)\n",
    "root.left.right.right = TreeNode(4)\n",
    "\n",
    "printRootToLeafPaths(root)"
   ]
  },
  {
   "cell_type": "markdown",
   "id": "d6bb0f69",
   "metadata": {},
   "source": [
    "4. Given Preorder, Inorder and Postorder traversals of some tree. Write a program to check if they all are of the same tree.\n",
    "\n",
    "Example 1:\n",
    "Input: \n",
    "        Inorder -> 4 2 5 1 3\n",
    "        Preorder -> 1 2 4 5 3\n",
    "        Postorder -> 4 5 2 3 1\n",
    "Output : Yes\n",
    "\n",
    "Example 2:\n",
    "Input : \n",
    "        Inorder -> 4 2 5 1 3\n",
    "        Preorder -> 1 5 4 2 3\n",
    "        Postorder -> 4 1 2 3 5\n",
    "Output : No"
   ]
  },
  {
   "cell_type": "code",
   "execution_count": 9,
   "id": "b026511b",
   "metadata": {},
   "outputs": [
    {
     "name": "stdout",
     "output_type": "stream",
     "text": [
      "Yes\n"
     ]
    }
   ],
   "source": [
    "def are_traversals_same(inorder, preorder, postorder):\n",
    "    \n",
    "    if not inorder or not preorder or not postorder:\n",
    "        return True\n",
    "\n",
    "    if preorder[0] != postorder[-1]:\n",
    "        return False\n",
    "\n",
    "    root_index = inorder.index(preorder[0])\n",
    "\n",
    "    left_inorder = inorder[:root_index]\n",
    "    right_inorder = inorder[root_index + 1:]\n",
    "    left_preorder = preorder[1:root_index + 1]\n",
    "    right_preorder = preorder[root_index + 1:]\n",
    "    left_postorder = postorder[:root_index]\n",
    "    right_postorder = postorder[root_index:-1]\n",
    "\n",
    "    return (are_traversals_same(left_inorder, left_preorder, left_postorder) and\n",
    "            are_traversals_same(right_inorder, right_preorder, right_postorder))\n",
    "\n",
    "\n",
    "inorder = [4, 2, 5, 1, 3]\n",
    "preorder = [1, 2, 4, 5, 3]\n",
    "postorder = [4, 5, 2, 3, 1]\n",
    "\n",
    "if are_traversals_same(inorder, preorder, postorder):\n",
    "    print(\"Yes\")\n",
    "else:\n",
    "    print(\"No\")"
   ]
  }
 ],
 "metadata": {
  "kernelspec": {
   "display_name": "Python 3 (ipykernel)",
   "language": "python",
   "name": "python3"
  },
  "language_info": {
   "codemirror_mode": {
    "name": "ipython",
    "version": 3
   },
   "file_extension": ".py",
   "mimetype": "text/x-python",
   "name": "python",
   "nbconvert_exporter": "python",
   "pygments_lexer": "ipython3",
   "version": "3.9.13"
  }
 },
 "nbformat": 4,
 "nbformat_minor": 5
}
