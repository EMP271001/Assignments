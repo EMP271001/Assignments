{
 "cells": [
  {
   "cell_type": "markdown",
   "id": "bbb78099",
   "metadata": {},
   "source": [
    "1. In Python, both built-in functions and user-defined functions are used to perform specific tasks or operations.\n",
    "\n",
    "-> Built-in functions are functions that are provided by the Python programming language itself. These functions are readily available for use without requiring any additional code or module import. They cover a wide range of operations and tasks, from basic mathematical calculations to string manipulation, data type conversion, and more.\n",
    "\n",
    "-> User-defined functions are functions that are created by programmers to perform specific tasks that may not be covered by built-in functions. These functions allow you to use a sequence of statements into a reusable block of code. You define the function's behavior, parameters, and return values.\n"
   ]
  },
  {
   "cell_type": "code",
   "execution_count": 1,
   "id": "9ccc6b87",
   "metadata": {},
   "outputs": [
    {
     "name": "stdout",
     "output_type": "stream",
     "text": [
      "5\n"
     ]
    }
   ],
   "source": [
    "# Using the len() built-in function to get the length of a list\n",
    "my_list = [1, 2, 3, 4, 5]\n",
    "length = len(my_list)\n",
    "print(length) \n"
   ]
  },
  {
   "cell_type": "code",
   "execution_count": 2,
   "id": "a5415931",
   "metadata": {},
   "outputs": [
    {
     "name": "stdout",
     "output_type": "stream",
     "text": [
      "Rectangle area: 24\n"
     ]
    }
   ],
   "source": [
    "# Defining a user-defined function to calculate the area of a rectangle\n",
    "def rectangle_area(length, width):\n",
    "    area = length * width\n",
    "    return area\n",
    "\n",
    "# Using the user-defined function to calculate the area\n",
    "length = 6\n",
    "width = 4\n",
    "area = rectangle_area(length, width)\n",
    "print(\"Rectangle area:\", area) \n"
   ]
  },
  {
   "cell_type": "markdown",
   "id": "54a157d4",
   "metadata": {},
   "source": [
    "2. In Python, you can pass arguments to a function to provide it with the necessary input values for its execution.There are two main ways to pass arguments to a function: positional arguments and keyword arguments.\n",
    "\n",
    "-> Positional Arguments: These are the most common way to pass arguments to a function. They are provided in the order in which the function's parameters are defined. The values passed correspond to the parameters based on their positions.\n",
    "\n",
    "-> Keyword Arguments: "
   ]
  },
  {
   "cell_type": "code",
   "execution_count": 9,
   "id": "b6b463f2",
   "metadata": {},
   "outputs": [
    {
     "name": "stdout",
     "output_type": "stream",
     "text": [
      "Hello, Akash! You are 20 years old.\n"
     ]
    }
   ],
   "source": [
    "def greet(name, age):\n",
    "    print(f\"Hello, {name}! You are {age} years old.\")\n",
    "\n",
    "greet(\"Akash\", 20)  # positional arguments\n",
    "\n",
    "# In this example, \"Akash\" is passed as the name parameter, and 20 is passed as the age parameter. \n",
    "# The order matters here as the first argument corresponds to name, and the second argument corresponds to age."
   ]
  },
  {
   "cell_type": "code",
   "execution_count": 5,
   "id": "a629ff7d",
   "metadata": {},
   "outputs": [
    {
     "name": "stdout",
     "output_type": "stream",
     "text": [
      "Hello, Akash! You are 25 years old.\n"
     ]
    }
   ],
   "source": [
    "greet(age=25, name=\"Akash\") # keyword arguments\n",
    "\n",
    "# Here, we're explicitly stating that 25 is the value for the age parameter and \"Akash\" is the value for the name parameter. \n",
    "# Keyword arguments can be provided in any order."
   ]
  },
  {
   "cell_type": "markdown",
   "id": "d1f85c0b",
   "metadata": {},
   "source": [
    "3. The return statement in a function serves the purpose of sending a value back to the caller of the function. When a return statement is encountered in a function, the function's execution is immediately halted, and the specified value (or None if no value is provided) is returned to the caller.\n",
    "                                              Yes, a function can have multiple return statements.\n",
    "                                              \n",
    "Here's an example below that demonstrates a function with multiple return statements:"
   ]
  },
  {
   "cell_type": "code",
   "execution_count": 6,
   "id": "208c8310",
   "metadata": {},
   "outputs": [
    {
     "name": "stdout",
     "output_type": "stream",
     "text": [
      "The maximum number is: 30\n"
     ]
    }
   ],
   "source": [
    "# function demonstarting the return statements can be multiple\n",
    "def find_max(a, b):\n",
    "    if a > b:\n",
    "        return a\n",
    "    else:\n",
    "        return b\n",
    "\n",
    "num1 = 20\n",
    "num2 = 30\n",
    "\n",
    "max_num = find_max(num1, num2)\n",
    "print(\"The maximum number is:\", max_num)"
   ]
  },
  {
   "cell_type": "markdown",
   "id": "1d04ff2f",
   "metadata": {},
   "source": [
    "4. Lambda functions, also known as anonymous functions or lambda expressions, are small, anonymous functions that can have any number of arguments, but can only have one expression. They are defined using the lambda keyword followed by the parameter list, a colon (:), and the expression to be evaluated.\n",
    "                                                There are some differences between regular and lambda functions such as:\n",
    "\n",
    "->  Lambda functions have a compact syntax and are defined inline, while regular functions are defined using the def keyword and have a more detailed structure.\n",
    "->  Lambda functions are anonymous, meaning they don't have a name. Regular functions have a name.\n",
    "->  Lambda functions implicitly return the result of the expression, whereas regular functions use the return statement to explicitly specify what to return.\n"
   ]
  },
  {
   "cell_type": "code",
   "execution_count": 1,
   "id": "a03c34cb",
   "metadata": {},
   "outputs": [
    {
     "name": "stdout",
     "output_type": "stream",
     "text": [
      "The square of 5 is: 25\n"
     ]
    }
   ],
   "source": [
    "# Example of where we can use lambda\n",
    "# using a lambda function to calculate the square of a number\n",
    "square = lambda x: x ** 2\n",
    "\n",
    "# Calculate the square of a number using the lambda function\n",
    "num = 5\n",
    "result = square(num)\n",
    "print(f\"The square of {num} is: {result}\") \n"
   ]
  },
  {
   "cell_type": "markdown",
   "id": "77d28347",
   "metadata": {},
   "source": [
    "5. The concept of \"scope\" in Python refers to the region of the code where a particular variable is accessible and can be referenced. Scopes determine where variables are created, modified, and accessed. In Python, the concept of scope applies to both functions and other code blocks.\n",
    "                                      There are two types of scope such as :\n",
    "\n",
    "-> Local Scope - A local scope refers to the region within a function where a variable is defined. Variables created within a function are said to have a local scope, meaning they can only be accessed and modified within that function. Local variables are not accessible outside the function.\n",
    "\n",
    "-> Global Scope - A global scope refers to the outermost level of a Python script or module, where variables are defined outside of any function. Variables created in the global scope are accessible throughout the entire module or script, including within functions.\n",
    "\n",
    "\n",
    "Some differences are :\n",
    "\n",
    "-> Variables with local scope are accessible only within the function where they are defined. Variables with global scope are accessible throughout the entire module.\n",
    "\n",
    "-> Local variables can be modified only within the function they are defined. Global variables can be modified from anywhere within the module.\n",
    "\n",
    "-> Local variables exist only for the duration of the function call. Global variables exist for the entire lifetime of the module.\n",
    "\n",
    "\n",
    "Below are the examples to simplify my statements"
   ]
  },
  {
   "cell_type": "code",
   "execution_count": 2,
   "id": "bf67eb3e",
   "metadata": {},
   "outputs": [
    {
     "name": "stdout",
     "output_type": "stream",
     "text": [
      "10\n"
     ]
    }
   ],
   "source": [
    "#Local Scope\n",
    "def my_function():\n",
    "    x = 10  # Local variable\n",
    "    print(x)  # Accessible within the function\n",
    "\n",
    "my_function()\n",
    "\n",
    "# If we print x outside the function it will show error (# Error: x is not defined outside the function)"
   ]
  },
  {
   "cell_type": "code",
   "execution_count": 4,
   "id": "1888e30d",
   "metadata": {},
   "outputs": [
    {
     "name": "stdout",
     "output_type": "stream",
     "text": [
      "20\n",
      "20\n"
     ]
    }
   ],
   "source": [
    "# Global Scope\n",
    "\n",
    "y = 20  # Global variable\n",
    "def my_function_2():\n",
    "    print(y)  # Accessible within the function\n",
    "\n",
    "my_function_2()\n",
    "print(y)  # Accessible outside the function\n",
    "\n",
    "# if we print y outside the function it won't show error."
   ]
  },
  {
   "cell_type": "markdown",
   "id": "137750b7",
   "metadata": {},
   "source": [
    "6. In Python, you can use the return statement in a function to return multiple values by returning them as elements of a tuple, list, or any other iterable object.\n",
    "\n",
    "Below are some examples of using return statements."
   ]
  },
  {
   "cell_type": "code",
   "execution_count": 8,
   "id": "0a1014dc",
   "metadata": {},
   "outputs": [
    {
     "name": "stdout",
     "output_type": "stream",
     "text": [
      "(5, 10, 15)\n"
     ]
    }
   ],
   "source": [
    "# using return statement in tuple\n",
    "\n",
    "def return_tuple_values():\n",
    "    a = 5\n",
    "    b = 10\n",
    "    c = 15\n",
    "    return a, b, c\n",
    "\n",
    "result = return_tuple_values()\n",
    "print(result) "
   ]
  },
  {
   "cell_type": "code",
   "execution_count": 7,
   "id": "7cd09960",
   "metadata": {},
   "outputs": [
    {
     "name": "stdout",
     "output_type": "stream",
     "text": [
      "[5, 10, 15]\n"
     ]
    }
   ],
   "source": [
    "# using return statement in list\n",
    "\n",
    "def return_list_values():\n",
    "    a = 5\n",
    "    b = 10\n",
    "    c = 15\n",
    "    return [a, b, c]\n",
    "\n",
    "result = return_list_values()\n",
    "print(result) "
   ]
  },
  {
   "cell_type": "markdown",
   "id": "7548cd9f",
   "metadata": {},
   "source": [
    "7. Difference between pass by value and pass by reference are:\n",
    "\n",
    "-> pass by value is a mechanism of copying the function parameter value to another variable , whereas pass by reference is a mechanism of passing the actual parameters to the function.\n",
    "\n",
    "-> In pass by value,  changes made inside the function are not reflected in the original value, whereas in pass by reference, changes made inside the function are reflected in the original value.\n"
   ]
  },
  {
   "cell_type": "code",
   "execution_count": 12,
   "id": "a5e06e20",
   "metadata": {},
   "outputs": [
    {
     "name": "stdout",
     "output_type": "stream",
     "text": [
      "Logarithmic function (log 3.0): 1.0986122886681098\n",
      "Exponential function (exp(3.0)): 20.085536923187668\n",
      "Power function with base 2 (2^3.0): 8.0\n",
      "Square root of 3.0: 1.7320508075688772\n"
     ]
    }
   ],
   "source": [
    "# 8\n",
    "\n",
    "import math\n",
    "\n",
    "def math_operations(x):\n",
    "    log_result = math.log(x)\n",
    "    exp_result = math.exp(x)\n",
    "    power_result = 2 ** x\n",
    "    sqrt_result = math.sqrt(x)\n",
    "    \n",
    "    return log_result, exp_result, power_result, sqrt_result\n",
    "\n",
    "# Input value\n",
    "value = 3.0\n",
    "\n",
    "# Perform operations\n",
    "log_result, exp_result, power_result, sqrt_result = math_operations(value)\n",
    "\n",
    "# Print output\n",
    "print(f\"Logarithmic function (log {value}): {log_result}\")\n",
    "print(f\"Exponential function (exp({value})): {exp_result}\")\n",
    "print(f\"Power function with base 2 (2^{value}): {power_result}\")\n",
    "print(f\"Square root of {value}: {sqrt_result}\")\n"
   ]
  },
  {
   "cell_type": "code",
   "execution_count": 11,
   "id": "485ed3d5",
   "metadata": {},
   "outputs": [
    {
     "name": "stdout",
     "output_type": "stream",
     "text": [
      "First Name: Adolf\n",
      "Last Name: Hitler\n"
     ]
    }
   ],
   "source": [
    "# 9\n",
    "\n",
    "def split_full_name(full_name):\n",
    "    names = full_name.split()\n",
    "    first_name = names[0]\n",
    "    last_name = names[-1]\n",
    "    return first_name, last_name\n",
    "\n",
    "# Input full name\n",
    "full_name = \"Adolf Hitler\"\n",
    "\n",
    "# Call the function\n",
    "first, last = split_full_name(full_name)\n",
    "\n",
    "# Print the output\n",
    "print(f\"First Name: {first}\")\n",
    "print(f\"Last Name: {last}\")"
   ]
  }
 ],
 "metadata": {
  "kernelspec": {
   "display_name": "Python 3 (ipykernel)",
   "language": "python",
   "name": "python3"
  },
  "language_info": {
   "codemirror_mode": {
    "name": "ipython",
    "version": 3
   },
   "file_extension": ".py",
   "mimetype": "text/x-python",
   "name": "python",
   "nbconvert_exporter": "python",
   "pygments_lexer": "ipython3",
   "version": "3.9.13"
  }
 },
 "nbformat": 4,
 "nbformat_minor": 5
}
