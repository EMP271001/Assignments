{
 "cells": [
  {
   "cell_type": "markdown",
   "id": "288d23aa",
   "metadata": {},
   "source": [
    "1.Given three integer arrays arr1, arr2 and arr3 sorted in strictly increasing order, return a sorted array of only the integers that appeared in all three arrays.\n",
    "\n",
    "Example 1:\n",
    "\n",
    "Input: arr1 = [1,2,3,4,5], arr2 = [1,2,5,7,9], arr3 = [1,3,4,5,8]\n",
    "\n",
    "Output: [1,5]"
   ]
  },
  {
   "cell_type": "code",
   "execution_count": null,
   "id": "68fdf126",
   "metadata": {},
   "outputs": [],
   "source": [
    "def commmon_elements(arr1, arr2, arr3):\n",
    "    p1, p2, p3 = 0, 0, 0               \n",
    "    result = []\n",
    "    \n",
    "    while p1 < len(arr1) and p2 < len(arr2) and p3 < len(arr3):\n",
    "        if arr1[p1] == arr2[p2] == arr3[p3]:\n",
    "            result.append(arr1[p1])\n",
    "            p1 += 1\n",
    "            p2 += 1\n",
    "            p3 += 1\n",
    "        elif arr1[p1] < arr2[p2]:\n",
    "            p1 += 1\n",
    "        elif arr2[p2] < arr3[p3]:\n",
    "            p2 += 1\n",
    "        else:\n",
    "            p3 += 1\n",
    "            \n",
    "    return result\n",
    "\n",
    "\n",
    "# Example taken from the question\n",
    "\n",
    "arr1 = [1, 2, 3, 4, 5]\n",
    "arr2 = [1, 2, 5, 7, 9]\n",
    "arr3 = [1, 3, 4, 5, 8]\n",
    "result = common_elements(arr1, arr2, arr3)\n",
    "print(result)\n"
   ]
  },
  {
   "cell_type": "markdown",
   "id": "2d5be187",
   "metadata": {},
   "source": [
    "2. Given two 0-indexed integer arrays nums1 and nums2, return a list answer of size 2 where:\n",
    "\n",
    "- answer[0] is a list of all distinct integers in nums1 which are not present in nums2.\n",
    "- answer[1] is a list of all distinct integers in nums2 which are not present in nums1.\n",
    "\n",
    "Note that the integers in the lists may be returned in any order.\n",
    "\n",
    "Example 1:\n",
    "\n",
    "Input: nums1 = [1,2,3], nums2 = [2,4,6]\n",
    "\n",
    "Output: [[1,3],[4,6]]"
   ]
  },
  {
   "cell_type": "code",
   "execution_count": 2,
   "id": "a08ec8bb",
   "metadata": {},
   "outputs": [
    {
     "name": "stdout",
     "output_type": "stream",
     "text": [
      "[[1, 3], [4, 6]]\n"
     ]
    }
   ],
   "source": [
    "def find_distinct_integers(nums1, nums2):\n",
    "    set1 = set(nums1)\n",
    "    set2 = set(nums2)\n",
    "    result1 = list(set1 - set2)\n",
    "    result2 = list(set2 - set1)\n",
    "    return [result1, result2]\n",
    "\n",
    "\n",
    "# Example taken from the question\n",
    "\n",
    "nums1 = [1, 2, 3]\n",
    "nums2 = [2, 4, 6]\n",
    "answer = find_distinct_integers(nums1, nums2)\n",
    "print(answer)"
   ]
  },
  {
   "cell_type": "markdown",
   "id": "4466d0c1",
   "metadata": {},
   "source": [
    "3. Given a 2D integer array matrix, return the transpose of matrix.\n",
    "\n",
    "The transpose of a matrix is the matrix flipped over its main diagonal, switching the matrix's row \n",
    "and column indices.\n",
    "\n",
    "Example 1:\n",
    "\n",
    "Input: matrix = [[1,2,3],[4,5,6],[7,8,9]]\n",
    "\n",
    "Output: [[1,4,7],[2,5,8],[3,6,9]]"
   ]
  },
  {
   "cell_type": "code",
   "execution_count": 3,
   "id": "0934b7fe",
   "metadata": {},
   "outputs": [
    {
     "name": "stdout",
     "output_type": "stream",
     "text": [
      "[[1, 4, 7], [2, 5, 8], [3, 6, 9]]\n"
     ]
    }
   ],
   "source": [
    "def transpose(matrix):\n",
    "    m = len(matrix)\n",
    "    n = len(matrix[0])\n",
    "    result = [[0] * m for _ in range(n)]  # Initialize the result matrix\n",
    "\n",
    "    for i in range(m):\n",
    "        for j in range(n):\n",
    "            result[j][i] = matrix[i][j]  # Assign the transposed element to the result matrix\n",
    "\n",
    "    return result\n",
    "\n",
    "\n",
    "# Example taken from the question\n",
    "\n",
    "matrix = [[1, 2, 3], [4, 5, 6], [7, 8, 9]]\n",
    "transposed_matrix = transpose(matrix)\n",
    "print(transposed_matrix)\n"
   ]
  },
  {
   "cell_type": "markdown",
   "id": "9c27cc7b",
   "metadata": {},
   "source": [
    "4. Given an integer array nums of 2n integers, group these integers into n pairs \n",
    "(a1, b1), (a2, b2), ..., (an, bn) such that the sum of min(ai, bi) for all i is maximized. \n",
    "Return the maximized sum.\n",
    "\n",
    "Example 1:\n",
    "\n",
    "Input: nums = [1,4,3,2]\n",
    "\n",
    "Output: 4"
   ]
  },
  {
   "cell_type": "code",
   "execution_count": 5,
   "id": "b9b5b7a5",
   "metadata": {},
   "outputs": [
    {
     "name": "stdout",
     "output_type": "stream",
     "text": [
      "4\n"
     ]
    }
   ],
   "source": [
    "def array_sum(nums):\n",
    "    nums.sort()\n",
    "    max_sum = 0\n",
    "\n",
    "    for i in range(0, len(nums), 2):\n",
    "        max_sum += nums[i]\n",
    "\n",
    "    return max_sum\n",
    "\n",
    "# Example taken from the question \n",
    "\n",
    "nums = [1, 4, 3, 2]\n",
    "result = array_sum(nums)\n",
    "print(result)"
   ]
  },
  {
   "cell_type": "markdown",
   "id": "d6aefd01",
   "metadata": {},
   "source": [
    "5. You have n coins and you want to build a staircase with these coins. The staircase consists of k rows where the ith row has exactly i coins. The last row of the staircase may be incomplete.\n",
    "\n",
    "Given the integer n, return *the number of  complete rows  of the staircase you will build.\n",
    "\n",
    "Example 1:\n",
    "    \n",
    "    []()\n",
    "\n",
    "![v2.jpg](https://s3-us-west-2.amazonaws.com/secure.notion-static.com/4bd91cfa-d2b1-47b3-8197-a72e8dcfff4b/v2.jpg)\n",
    "\n",
    "Input: n = 5\n",
    "\n",
    "Output: 2"
   ]
  },
  {
   "cell_type": "code",
   "execution_count": 8,
   "id": "2719b1d7",
   "metadata": {},
   "outputs": [
    {
     "name": "stdout",
     "output_type": "stream",
     "text": [
      "2\n"
     ]
    }
   ],
   "source": [
    "def arrangeCoins(n):\n",
    "    row = 0\n",
    "    coins_needed = 1\n",
    "    \n",
    "    while coins_needed <= n:\n",
    "        row += 1\n",
    "        n -= coins_needed\n",
    "        coins_needed += 1\n",
    "    \n",
    "    return row\n",
    "\n",
    "# Example taken from the question \n",
    "\n",
    "n = 5\n",
    "num_complete_rows = arrangeCoins(n)\n",
    "print(num_complete_rows)"
   ]
  },
  {
   "cell_type": "markdown",
   "id": "423e05c1",
   "metadata": {},
   "source": [
    "6. Given an integer array nums sorted in non-decreasing order, return an array of the squares of each \n",
    "number sorted in non-decreasing order.\n",
    "\n",
    "Example 1:\n",
    "\n",
    "Input: nums = [-4,-1,0,3,10]\n",
    "\n",
    "Output: [0,1,9,16,100]"
   ]
  },
  {
   "cell_type": "code",
   "execution_count": 10,
   "id": "71e56eb6",
   "metadata": {},
   "outputs": [
    {
     "name": "stdout",
     "output_type": "stream",
     "text": [
      "[0, 1, 9, 16, 100]\n"
     ]
    }
   ],
   "source": [
    "def sorted_order(nums):\n",
    "    result = []\n",
    "    left, right = 0, len(nums) - 1\n",
    "    \n",
    "    while left <= right:\n",
    "        if abs(nums[left]) >= abs(nums[right]):\n",
    "            result.append(nums[left] ** 2)\n",
    "            left += 1\n",
    "        else:\n",
    "            result.append(nums[right] ** 2)\n",
    "            right -= 1\n",
    "    \n",
    "    return result[::-1]\n",
    "\n",
    "\n",
    "# Example taken from the question\n",
    "\n",
    "nums = [-4, -1, 0, 3, 10]\n",
    "squared_nums = sorted_order(nums)\n",
    "print(squared_nums)\n"
   ]
  },
  {
   "cell_type": "markdown",
   "id": "92f46d9a",
   "metadata": {},
   "source": [
    "8. Given the array nums consisting of 2n elements in the form [x1,x2,...,xn,y1,y2,...,yn].\n",
    "\n",
    "Return the array in the form [x1,y1,x2,y2,...,xn,yn].\n",
    "\n",
    "Example 1:\n",
    "\n",
    "Input: nums = [2,5,1,3,4,7], n = 3\n",
    "\n",
    "Output: [2,3,5,4,1,7]"
   ]
  },
  {
   "cell_type": "code",
   "execution_count": 13,
   "id": "e1f47dca",
   "metadata": {},
   "outputs": [
    {
     "name": "stdout",
     "output_type": "stream",
     "text": [
      "[2, 3, 5, 4, 1, 7]\n"
     ]
    }
   ],
   "source": [
    "def rearrange_array(nums, n):\n",
    "    result = []\n",
    "    \n",
    "    for i in range(n):\n",
    "        result.append(nums[i])\n",
    "        result.append(nums[i + n])\n",
    "    \n",
    "    return result\n",
    "\n",
    "\n",
    "# Example taken from the question\n",
    "\n",
    "nums = [2, 5, 1, 3, 4, 7]\n",
    "n = 3\n",
    "rearranged_nums = rearrange_array(nums, n)\n",
    "print(rearranged_nums)\n"
   ]
  },
  {
   "cell_type": "code",
   "execution_count": null,
   "id": "c62c3934",
   "metadata": {},
   "outputs": [],
   "source": []
  }
 ],
 "metadata": {
  "kernelspec": {
   "display_name": "Python 3 (ipykernel)",
   "language": "python",
   "name": "python3"
  },
  "language_info": {
   "codemirror_mode": {
    "name": "ipython",
    "version": 3
   },
   "file_extension": ".py",
   "mimetype": "text/x-python",
   "name": "python",
   "nbconvert_exporter": "python",
   "pygments_lexer": "ipython3",
   "version": "3.9.13"
  }
 },
 "nbformat": 4,
 "nbformat_minor": 5
}
