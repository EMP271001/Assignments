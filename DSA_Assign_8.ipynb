{
 "cells": [
  {
   "cell_type": "markdown",
   "id": "ba9004a8",
   "metadata": {},
   "source": [
    "1. Given two strings s1 and s2, return the lowest ASCII sum of deleted characters to make two strings equal.\n",
    "\n",
    "Example 1:\n",
    "\n",
    "Input: s1 = \"sea\", s2 = \"eat\"\n",
    "\n",
    "Output: 231"
   ]
  },
  {
   "cell_type": "code",
   "execution_count": 1,
   "id": "7910e0f2",
   "metadata": {},
   "outputs": [
    {
     "name": "stdout",
     "output_type": "stream",
     "text": [
      "231\n"
     ]
    }
   ],
   "source": [
    "def minimum_delete_Sum(s1, s2):\n",
    "    m, n = len(s1), len(s2)\n",
    "    \n",
    "    dp = [[0] * (n + 1) for _ in range(m + 1)]\n",
    "    \n",
    "   \n",
    "    for i in range(1, m + 1):\n",
    "        dp[i][0] = dp[i-1][0] + ord(s1[i-1])\n",
    "    for j in range(1, n + 1):\n",
    "        dp[0][j] = dp[0][j-1] + ord(s2[j-1])\n",
    "    \n",
    "   \n",
    "    for i in range(1, m + 1):\n",
    "        for j in range(1, n + 1):\n",
    "            \n",
    "            if s1[i-1] == s2[j-1]:\n",
    "                dp[i][j] = dp[i-1][j-1]\n",
    "            else:\n",
    "                dp[i][j] = min(dp[i-1][j] + ord(s1[i-1]), dp[i][j-1] + ord(s2[j-1]))\n",
    "   \n",
    "    return dp[m][n]\n",
    "\n",
    "\n",
    "# Example taken from the question\n",
    "\n",
    "s1 = \"sea\"\n",
    "s2 = \"eat\"\n",
    "result = minimum_delete_Sum(s1, s2)\n",
    "print(result)\n"
   ]
  },
  {
   "cell_type": "markdown",
   "id": "8a34bcc9",
   "metadata": {},
   "source": [
    "3. Given two strings word1 and word2, return the minimum number of steps required to make word1 and word2 the same.\n",
    "\n",
    "In one step, you can delete exactly one character in either string.\n",
    "\n",
    "Example 1:\n",
    "\n",
    "Input: word1 = \"sea\", word2 = \"eat\"\n",
    "\n",
    "Output: 2"
   ]
  },
  {
   "cell_type": "code",
   "execution_count": 3,
   "id": "852e13b6",
   "metadata": {},
   "outputs": [
    {
     "name": "stdout",
     "output_type": "stream",
     "text": [
      "2\n"
     ]
    }
   ],
   "source": [
    "def min_distance(word1, word2):\n",
    "    m = len(word1)\n",
    "    n = len(word2)\n",
    "    \n",
    "\n",
    "    dp = [[0] * (n + 1) for _ in range(m + 1)]\n",
    "    \n",
    "    for i in range(m + 1):\n",
    "        dp[i][0] = i\n",
    "    for j in range(n + 1):\n",
    "        dp[0][j] = j\n",
    "\n",
    "        \n",
    "    for i in range(1, m + 1):\n",
    "        for j in range(1, n + 1):\n",
    "            if word1[i - 1] == word2[j - 1]:\n",
    "                dp[i][j] = dp[i - 1][j - 1]\n",
    "            else:\n",
    "                dp[i][j] = min(dp[i - 1][j], dp[i][j - 1]) + 1\n",
    "    \n",
    "    return dp[m][n]\n",
    "\n",
    "\n",
    "# Example taken from the question\n",
    "\n",
    "word1 = \"sea\"\n",
    "word2 = \"eat\"\n",
    "result = min_distance(word1, word2)\n",
    "print(result)"
   ]
  },
  {
   "cell_type": "markdown",
   "id": "54dcb8aa",
   "metadata": {},
   "source": [
    "5. Given an array of characters chars, compress it using the following algorithm:\n",
    "\n",
    "Begin with an empty string s. For each group of consecutive repeating characters in chars:\n",
    "\n",
    "- If the group's length is 1, append the character to s.\n",
    "- Otherwise, append the character followed by the group's length.\n",
    "\n",
    "The compressed string s should not be returned separately, but instead, be stored in the input character array chars. Note that group lengths that are 10 or longer will be split into multiple characters in chars.\n",
    "\n",
    "After you are done modifying the input array,return *the new length of the array*.\n",
    "\n",
    "You must write an algorithm that uses only constant extra space\n",
    "\n",
    "Example 1:\n",
    "\n",
    "Input: chars = [\"a\",\"a\",\"b\",\"b\",\"c\",\"c\",\"c\"]\n",
    "\n",
    "Output: Return 6, and the first 6 characters of the input array should be: [\"a\",\"2\",\"b\",\"2\",\"c\",\"3\"]"
   ]
  },
  {
   "cell_type": "code",
   "execution_count": 5,
   "id": "92a88d41",
   "metadata": {},
   "outputs": [
    {
     "name": "stdout",
     "output_type": "stream",
     "text": [
      "6\n",
      "['a', '3', 'b', '2', 'c', '3']\n"
     ]
    }
   ],
   "source": [
    "def compress(charac):\n",
    "    n = len(charac)\n",
    "    if n == 0:\n",
    "        return 0\n",
    "    \n",
    "   \n",
    "    write = 0\n",
    "    count = 1\n",
    "    \n",
    "    for i in range(1, n):\n",
    "        if charac[i] == charac[i - 1]:\n",
    "            count += 1\n",
    "        else: \n",
    "            charac[write] = charac[i - 1]\n",
    "            write += 1\n",
    "            \n",
    "            \n",
    "            if count > 1:\n",
    "                for digit in str(count):\n",
    "                    charac[write] = digit\n",
    "                    write += 1\n",
    "            \n",
    "            count = 1\n",
    "    \n",
    "    charac[write] = charac[n - 1]\n",
    "    write += 1\n",
    "    \n",
    "    if count > 1:\n",
    "        for digit in str(count):\n",
    "            charac[write] = digit\n",
    "            write += 1\n",
    "    \n",
    "    return write\n",
    "\n",
    "\n",
    "# Example taken from the question\n",
    "\n",
    "charac= [\"a\",\"a\",\"b\",\"b\",\"c\",\"c\",\"c\"]\n",
    "result = compress(charac)\n",
    "print(result)\n",
    "print(charac[:result])\n"
   ]
  },
  {
   "cell_type": "markdown",
   "id": "b996b2ca",
   "metadata": {},
   "source": [
    "6. Given two strings s and p, return *an array of all the start indices of p's anagrams in s. You may return the answer in any order.\n",
    "\n",
    "An Anagram is a word or phrase formed by rearranging the letters of a different word or phrase, typically using all the original letters exactly once.\n",
    "\n",
    "Example 1:\n",
    "\n",
    "Input:  s = \"cbaebabacd\", p = \"abc\"\n",
    "\n",
    "Output: [0,6]"
   ]
  },
  {
   "cell_type": "code",
   "execution_count": 6,
   "id": "1b53ee1e",
   "metadata": {},
   "outputs": [
    {
     "name": "stdout",
     "output_type": "stream",
     "text": [
      "[0, 6]\n"
     ]
    }
   ],
   "source": [
    "from collections import Counter\n",
    "\n",
    "def findAnagrams(s, p):\n",
    "    result = []\n",
    "    n, m = len(s), len(p)\n",
    "    \n",
    "   \n",
    "    if n < m:\n",
    "        return result\n",
    "    \n",
    "    counter_p = Counter(p)\n",
    "    counter_s = Counter(s[:m])\n",
    "    \n",
    "   \n",
    "    if counter_s == counter_p:\n",
    "        result.append(0)\n",
    "    \n",
    "    for i in range(m, n):\n",
    "        counter_s[s[i]] += 1\n",
    "        \n",
    "        if counter_s[s[i - m]] == 1:\n",
    "            del counter_s[s[i - m]]\n",
    "        else:\n",
    "            counter_s[s[i - m]] -= 1\n",
    "        \n",
    "\n",
    "        if counter_s == counter_p:\n",
    "            result.append(i - m + 1)\n",
    "    \n",
    "    return result\n",
    "\n",
    "\n",
    "# Example taken from the question\n",
    "\n",
    "s = \"cbaebabacd\"\n",
    "p = \"abc\"\n",
    "result = findAnagrams(s, p)\n",
    "print(result)"
   ]
  },
  {
   "cell_type": "markdown",
   "id": "dfd96a59",
   "metadata": {},
   "source": [
    "7. Given an encoded string, return its decoded string.\n",
    "\n",
    "The encoding rule is: k[encoded_string], where the encoded_string inside the square brackets is being repeated exactly k times. Note that k is guaranteed to be a positive integer.\n",
    "\n",
    "You may assume that the input string is always valid; there are no extra white spaces, square brackets are well-formed, etc. Furthermore, you may assume that the original data does not contain any digits and that digits are only for those repeat numbers, k. For example, there will not be input like 3a or 2[4].\n",
    "\n",
    "The test cases are generated so that the length of the output will never exceed 105.\n",
    "\n",
    "Example 1:\n",
    "\n",
    "Input:  s = \"3[a]2[bc]\"\n",
    "\n",
    "Output: \"aaabcbc\""
   ]
  },
  {
   "cell_type": "code",
   "execution_count": 11,
   "id": "42d6b545",
   "metadata": {},
   "outputs": [
    {
     "name": "stdout",
     "output_type": "stream",
     "text": [
      "cbcbaaa\n"
     ]
    }
   ],
   "source": [
    "def decode_string(s):\n",
    "    stack = []\n",
    "    for char in s:\n",
    "        if char == ']':\n",
    "            decoded_substring = ''\n",
    "            while stack[-1] != '[':\n",
    "                decoded_substring += stack.pop()\n",
    "            stack.pop()  \n",
    "            num = ''\n",
    "            while stack and stack[-1].isdigit():\n",
    "                num = stack.pop() + num\n",
    "            stack.append(decoded_substring * int(num))\n",
    "        else:\n",
    "            stack.append(char)\n",
    "\n",
    "    return ''.join(stack[::-1])\n",
    "\n",
    "\n",
    "# Example taken from the question\n",
    "\n",
    "s = \"3[a]2[bc]\"\n",
    "Decode_output = decode_string(s)\n",
    "print(Decode_output)\n"
   ]
  },
  {
   "cell_type": "markdown",
   "id": "c30c3b62",
   "metadata": {},
   "source": [
    "8. Given two strings s and goal, return true *if you can swap two letters in s so the result is equal to goal, otherwise, return false.\n",
    "\n",
    "Swapping letters is defined as taking two indices i and j (0-indexed) such that i != j and swapping the characters at s[i] and s[j].\n",
    "\n",
    "- For example, swapping at indices 0 and 2 in \"abcd\" results in \"cbad\".\n",
    "\n",
    "Example 1:\n",
    "\n",
    "Input:  s = \"ab\", goal = \"ba\"\n",
    "\n",
    "Output: true"
   ]
  },
  {
   "cell_type": "code",
   "execution_count": 14,
   "id": "ad9df519",
   "metadata": {},
   "outputs": [
    {
     "name": "stdout",
     "output_type": "stream",
     "text": [
      "True\n"
     ]
    }
   ],
   "source": [
    "def Swap_Strings(s, goal):\n",
    "    if len(s) != len(goal):\n",
    "        return False\n",
    "\n",
    "    diff_s = []\n",
    "    diff_goal = []\n",
    "    for i in range(len(s)):\n",
    "        if s[i] != goal[i]:\n",
    "            diff_s.append(s[i])\n",
    "            diff_goal.append(goal[i])\n",
    "\n",
    "    if len(diff_s) != 2:\n",
    "        return False\n",
    "\n",
    "    return diff_s[0] == diff_goal[1] and diff_s[1] == diff_goal[0]\n",
    "\n",
    "\n",
    "# Example taken from the question \n",
    "\n",
    "s = \"ab\"\n",
    "goal = \"ba\"\n",
    "result = Swap_Strings(s, goal)\n",
    "print(result)"
   ]
  }
 ],
 "metadata": {
  "kernelspec": {
   "display_name": "Python 3 (ipykernel)",
   "language": "python",
   "name": "python3"
  },
  "language_info": {
   "codemirror_mode": {
    "name": "ipython",
    "version": 3
   },
   "file_extension": ".py",
   "mimetype": "text/x-python",
   "name": "python",
   "nbconvert_exporter": "python",
   "pygments_lexer": "ipython3",
   "version": "3.9.13"
  }
 },
 "nbformat": 4,
 "nbformat_minor": 5
}
