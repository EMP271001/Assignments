{
 "cells": [
  {
   "cell_type": "markdown",
   "id": "361893e6",
   "metadata": {},
   "source": [
    "1. Given an integer `n`, return `true` if it is a power of three. Otherwise, return `false`.\n",
    "\n",
    "An integer `n` is a power of three, if there exists an integer `x` such that `n == 3x`.\n",
    "\n",
    "Example 1:\n",
    "Input: n = 27\n",
    "Output: true\n",
    "Explanation: 27 = 33\n",
    "\n",
    "\n",
    "Example 2:\n",
    "Input: n = 0\n",
    "Output: false\n",
    "Explanation: There is no x where 3x = 0.\n",
    "\n",
    "\n",
    "Example 3:\n",
    "Input: n = -1\n",
    "Output: false\n",
    "Explanation: There is no x where 3x = (-1)."
   ]
  },
  {
   "cell_type": "code",
   "execution_count": 1,
   "id": "6203d623",
   "metadata": {},
   "outputs": [
    {
     "name": "stdout",
     "output_type": "stream",
     "text": [
      "True\n",
      "False\n",
      "False\n"
     ]
    }
   ],
   "source": [
    "def is_power_of_three(n):\n",
    "    if n <= 0:\n",
    "        return False\n",
    "    while n % 3 == 0:\n",
    "        n = n // 3\n",
    "    return n == 1\n",
    "\n",
    "# Example taken from the question \n",
    "\n",
    "print(is_power_of_three(27))  \n",
    "print(is_power_of_three(0))   \n",
    "print(is_power_of_three(-1))"
   ]
  },
  {
   "cell_type": "markdown",
   "id": "f33f7a35",
   "metadata": {},
   "source": [
    "3. Given a set represented as a string, write a recursive code to print all subsets of it. The subsets can be printed in any order.\n",
    "\n",
    "Example 1:\n",
    "Input :  set = “abc”\n",
    "Output : { “”, “a”, “b”, “c”, “ab”, “ac”, “bc”, “abc”}\n",
    "\n",
    "Example 2:\n",
    "Input : set = “abcd”\n",
    "Output : { “”, “a” ,”ab” ,”abc” ,”abcd”, “abd” ,”ac” ,”acd”, “ad” ,”b”, “bc” ,”bcd” ,”bd” ,”c” ,”cd” ,”d” }"
   ]
  },
  {
   "cell_type": "code",
   "execution_count": 18,
   "id": "705fa314",
   "metadata": {},
   "outputs": [
    {
     "name": "stdout",
     "output_type": "stream",
     "text": [
      "{'', 'a', 'bc', 'ac', 'abc', 'b', 'ab', 'c'}\n",
      "{'', 'd', 'bcd', 'a', 'acd', 'abd', 'abcd', 'cd', 'ad', 'bc', 'ac', 'abc', 'b', 'bd', 'ab', 'c'}\n"
     ]
    }
   ],
   "source": [
    "def generate_subsets(set_str, subset='', index=0, subsets=set()):\n",
    "    if index == len(set_str):\n",
    "        subsets.add(subset)\n",
    "        return subsets\n",
    "\n",
    "    subsets = generate_subsets(set_str, subset, index + 1, subsets)\n",
    "    subsets = generate_subsets(set_str, subset + set_str[index], index + 1, subsets)\n",
    "\n",
    "    return subsets\n",
    "\n",
    "\n",
    "# Example taken from the question\n",
    "\n",
    "set_str = \"abc\"\n",
    "subsets = generate_subsets(set_str)\n",
    "print(subsets) \n",
    "\n",
    "set_str = \"abcd\"\n",
    "subsets = generate_subsets(set_str)\n",
    "print(subsets)  \n"
   ]
  },
  {
   "cell_type": "markdown",
   "id": "80cff804",
   "metadata": {},
   "source": [
    "4. Given a string calculate length of the string using recursion.\n",
    "\n",
    "Examples:\n",
    "\n",
    "Input : str = \"abcd\"\n",
    "Output :4\n",
    "\n",
    "Input : str = \"GEEKSFORGEEKS\"\n",
    "Output :13"
   ]
  },
  {
   "cell_type": "code",
   "execution_count": 19,
   "id": "9c370f09",
   "metadata": {},
   "outputs": [
    {
     "name": "stdout",
     "output_type": "stream",
     "text": [
      "4\n",
      "13\n"
     ]
    }
   ],
   "source": [
    "def calculate_length(string):\n",
    "    if string == '':\n",
    "        return 0\n",
    "    return 1 + calculate_length(string[1:])\n",
    "\n",
    "\n",
    "# Example taken from the question\n",
    "\n",
    "str1 = \"abcd\"\n",
    "print(calculate_length(str1))  \n",
    "\n",
    "str2 = \"GEEKSFORGEEKS\"\n",
    "print(calculate_length(str2)) "
   ]
  },
  {
   "cell_type": "markdown",
   "id": "deb55057",
   "metadata": {},
   "source": [
    "5. We are given a string S, we need to find count of all contiguous substrings starting and ending with same character.\n",
    "\n",
    "Examples :\n",
    "\n",
    "Input  : S = \"abcab\"\n",
    "Output : 7\n",
    "\n",
    "\n",
    "Input  : S = \"aba\"\n",
    "Output : 4\n"
   ]
  },
  {
   "cell_type": "code",
   "execution_count": 20,
   "id": "262090db",
   "metadata": {},
   "outputs": [
    {
     "name": "stdout",
     "output_type": "stream",
     "text": [
      "5\n",
      "4\n"
     ]
    }
   ],
   "source": [
    "def count_substrings(s):\n",
    "    count = 0\n",
    "    n = len(s)\n",
    "\n",
    "    for i in range(n):\n",
    "        count += 1  \n",
    "        left, right = i - 1, i + 1\n",
    "\n",
    "        while left >= 0 and right < n and s[left] == s[right]:\n",
    "            count += 1\n",
    "            left -= 1\n",
    "            right += 1\n",
    "\n",
    "    return count\n",
    "\n",
    "# Example taken from the question\n",
    "\n",
    "s1 = \"abcab\"\n",
    "print(count_substrings(s1)) \n",
    "\n",
    "s2 = \"aba\"\n",
    "print(count_substrings(s2))  \n"
   ]
  },
  {
   "cell_type": "markdown",
   "id": "87be8511",
   "metadata": {},
   "source": [
    "6. The [tower of Hanoi] is a famous puzzle where we have three rods and N disks. The objective of the puzzle is to move the entire stack to another rod. You are given the number of discs N. Initially, these discs are in the rod 1. You need to print all the steps of discs movement so that all the discs reach the 3rd rod. Also, you need to find the total moves.Note: The discs are arranged such that the top disc is numbered 1 and the bottom-most disc is numbered N. Also, all the discs have different sizes and a bigger disc cannot be put on the top of a smaller disc. Refer the provided link to get a better clarity about the puzzle.\n",
    "\n",
    "Example 1:\n",
    "\n",
    "Input:\n",
    "N = 2\n",
    "Output:\n",
    "move disk 1 from rod 1 to rod 2\n",
    "move disk 2 from rod 1 to rod 3\n",
    "move disk 1 from rod 2 to rod 3\n",
    "3\n",
    "\n",
    "\n",
    "Example 2:\n",
    "\n",
    "Input:\n",
    "N = 3\n",
    "Output:\n",
    "move disk 1 from rod 1 to rod 3\n",
    "move disk 2 from rod 1 to rod 2\n",
    "move disk 1 from rod 3 to rod 2\n",
    "move disk 3 from rod 1 to rod 3\n",
    "move disk 1 from rod 2 to rod 1\n",
    "move disk 2 from rod 2 to rod 3\n",
    "move disk 1 from rod 1 to rod 3\n",
    "7\n"
   ]
  },
  {
   "cell_type": "code",
   "execution_count": 23,
   "id": "46e8a070",
   "metadata": {},
   "outputs": [
    {
     "name": "stdout",
     "output_type": "stream",
     "text": [
      "N =  2\n",
      "move disk 1 from rod 1 to rod 2\n",
      "move disk 2 from rod 1 to rod 3\n",
      "move disk 1 from rod 2 to rod 3\n",
      "3\n",
      "N =  3\n",
      "move disk 1 from rod 1 to rod 3\n",
      "move disk 2 from rod 1 to rod 2\n",
      "move disk 1 from rod 3 to rod 2\n",
      "move disk 3 from rod 1 to rod 3\n",
      "move disk 1 from rod 2 to rod 1\n",
      "move disk 2 from rod 2 to rod 3\n",
      "move disk 1 from rod 1 to rod 3\n",
      "7\n"
     ]
    }
   ],
   "source": [
    "def tower_of_hanoi(n, source, destination, auxiliary):\n",
    "    if n == 1:\n",
    "        print(\"move disk 1 from rod\", source, \"to rod\", destination)\n",
    "        return 1\n",
    "\n",
    "    moves = tower_of_hanoi(n-1, source, auxiliary, destination)\n",
    "    print(\"move disk\", n, \"from rod\", source, \"to rod\", destination)\n",
    "    moves += 1\n",
    "    moves += tower_of_hanoi(n-1, auxiliary, destination, source)\n",
    "\n",
    "    return moves\n",
    "\n",
    "# Example taken from the question\n",
    "N = 2\n",
    "print(\"N = \",N)\n",
    "total_moves = tower_of_hanoi(N, 1, 3, 2)\n",
    "print(total_moves) \n",
    "\n",
    "N = 3\n",
    "print(\"N = \",N)\n",
    "total_moves = tower_of_hanoi(N, 1, 3, 2)\n",
    "print(total_moves) \n"
   ]
  },
  {
   "cell_type": "markdown",
   "id": "6be9ad58",
   "metadata": {},
   "source": [
    "8. Given a string, count total number of consonants in it. A consonant is an English alphabet character that is not vowel (a, e, i, o and u). Examples of constants are b, c, d, f, and g.\n",
    "\n",
    "Examples :\n",
    "\n",
    "Input : abc de\n",
    "Output : 3\n",
    "There are three consonants b, c and d.\n",
    "\n",
    "Input : geeksforgeeks portal\n",
    "Output : 12"
   ]
  },
  {
   "cell_type": "code",
   "execution_count": 24,
   "id": "4f8f344e",
   "metadata": {},
   "outputs": [
    {
     "name": "stdout",
     "output_type": "stream",
     "text": [
      "3\n",
      "12\n"
     ]
    }
   ],
   "source": [
    "def count_consonants(string):\n",
    "    consonants = 'bcdfghjklmnpqrstvwxyzBCDFGHJKLMNPQRSTVWXYZ'\n",
    "    count = 0\n",
    "\n",
    "    for char in string:\n",
    "        if char in consonants:\n",
    "            count += 1\n",
    "\n",
    "    return count\n",
    "\n",
    "# Example taken from the question\n",
    "\n",
    "input_string = \"abc de\"\n",
    "total_consonants = count_consonants(input_string)\n",
    "print(total_consonants)  \n",
    "\n",
    "input_string = \"geeksforgeeks portal\"\n",
    "total_consonants = count_consonants(input_string)\n",
    "print(total_consonants)  \n"
   ]
  }
 ],
 "metadata": {
  "kernelspec": {
   "display_name": "Python 3 (ipykernel)",
   "language": "python",
   "name": "python3"
  },
  "language_info": {
   "codemirror_mode": {
    "name": "ipython",
    "version": 3
   },
   "file_extension": ".py",
   "mimetype": "text/x-python",
   "name": "python",
   "nbconvert_exporter": "python",
   "pygments_lexer": "ipython3",
   "version": "3.9.13"
  }
 },
 "nbformat": 4,
 "nbformat_minor": 5
}
