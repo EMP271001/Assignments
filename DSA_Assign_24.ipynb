{
 "cells": [
  {
   "cell_type": "markdown",
   "id": "c67da0b2",
   "metadata": {},
   "source": [
    "1. Roman numerals are represented by seven different symbols: I, V, X, L, C, D and M.\n",
    "   Given a roman numeral, convert it to an integer.\n",
    "   \n",
    "   SymbolValue\n",
    "I             1\n",
    "V             5\n",
    "X             10\n",
    "L             50\n",
    "C             100\n",
    "D             500\n",
    "M             1000\n",
    "\n",
    "\n",
    "Example 1:\n",
    "Input: s = \"III\"\n",
    "Output: 3\n",
    "\n",
    "Example 2:\n",
    "Input: s = \"LVIII\"\n",
    "Output: 58"
   ]
  },
  {
   "cell_type": "code",
   "execution_count": 10,
   "id": "efadc763",
   "metadata": {},
   "outputs": [
    {
     "name": "stdout",
     "output_type": "stream",
     "text": [
      "3\n",
      "58\n"
     ]
    }
   ],
   "source": [
    "def romanToInt(s):\n",
    "    roman_values = {'I': 1,'V': 5,'X': 10,'L': 50,'C': 100,'D': 500,'M': 1000}\n",
    "    total = 0\n",
    "    n = len(s)\n",
    "    \n",
    "    for i in range(n):\n",
    "        if i < n - 1 and roman_values[s[i]] < roman_values[s[i + 1]]:\n",
    "            total -= roman_values[s[i]]\n",
    "        else:\n",
    "            total += roman_values[s[i]]\n",
    "    \n",
    "    return total\n",
    "\n",
    "# Example taken from the example\n",
    "\n",
    "s1 = \"III\"\n",
    "print(romanToInt(s1))  \n",
    "\n",
    "s2 = \"LVIII\"\n",
    "print(romanToInt(s2)) \n"
   ]
  },
  {
   "cell_type": "markdown",
   "id": "e93805b7",
   "metadata": {},
   "source": [
    "2. Given a string `s`, find the length of the longest substring without repeating characters.\n",
    "\n",
    "Example 1:\n",
    "Input: s = \"abcabcbb\"\n",
    "Output: 3\n",
    "\n",
    "Example 2:\n",
    "Input: s = \"bbbbb\"\n",
    "Output: 1\n",
    "\n",
    "Example 3:\n",
    "Input: s = \"pwwkew\"\n",
    "Output: 3"
   ]
  },
  {
   "cell_type": "code",
   "execution_count": 8,
   "id": "e6f6aaa1",
   "metadata": {},
   "outputs": [
    {
     "name": "stdout",
     "output_type": "stream",
     "text": [
      "3\n",
      "1\n",
      "3\n"
     ]
    }
   ],
   "source": [
    "def length(s):\n",
    "    n = len(s)\n",
    "    max_length = 0\n",
    "    left = 0\n",
    "    char_set = set()\n",
    "\n",
    "    for right in range(n):\n",
    "        while s[right] in char_set:\n",
    "            char_set.remove(s[left])\n",
    "            left += 1\n",
    "\n",
    "        char_set.add(s[right])\n",
    "        max_length = max(max_length, right - left + 1)\n",
    "\n",
    "    return max_length\n",
    "\n",
    "\n",
    "# Examples taken from the question\n",
    "\n",
    "s1 = \"abcabcbb\"\n",
    "print(length(s1)) \n",
    "\n",
    "\n",
    "s2 = \"bbbbb\"\n",
    "print(length(s2))  \n",
    "\n",
    "s3 = \"pwwkew\"\n",
    "print(length(s3))  \n"
   ]
  },
  {
   "cell_type": "markdown",
   "id": "07e55a16",
   "metadata": {},
   "source": [
    "3. Given an array `nums` of size `n`, return *the majority element*.\n",
    "The majority element is the element that appears more than `⌊n / 2⌋` times. You may assume that the majority element always exists in the array.\n",
    "\n",
    "Example 1:\n",
    "Input: nums = [3,2,3]\n",
    "Output: 3\n",
    "\n",
    "Example 2:\n",
    "Input: nums = [2,2,1,1,1,2,2]\n",
    "Output: 2"
   ]
  },
  {
   "cell_type": "code",
   "execution_count": 12,
   "id": "be486b94",
   "metadata": {},
   "outputs": [
    {
     "name": "stdout",
     "output_type": "stream",
     "text": [
      "3\n",
      "2\n"
     ]
    }
   ],
   "source": [
    "def majority_element(nums):\n",
    "    count = 0\n",
    "    candidate = None\n",
    "\n",
    "    for num in nums:\n",
    "        if count == 0:\n",
    "            candidate = num\n",
    "            count = 1\n",
    "        elif num == candidate:\n",
    "            count += 1\n",
    "        else:\n",
    "            count -= 1\n",
    "\n",
    "    return candidate\n",
    "\n",
    "# Example taken from the question\n",
    "\n",
    "nums1 = [3, 2, 3]\n",
    "print(majority_element(nums1))  \n",
    "\n",
    "nums2 = [2, 2, 1, 1, 1, 2, 2]\n",
    "print(majority_element(nums2)) \n"
   ]
  },
  {
   "cell_type": "markdown",
   "id": "6a1a7374",
   "metadata": {},
   "source": [
    "4. Given an array of strings `strs`, group the anagrams together. You can return the answer in any order.\n",
    "\n",
    "An Anagram is a word or phrase formed by rearranging the letters of a different word or phrase, typically using all the original letters exactly once.\n",
    "\n",
    "Example 1:\n",
    "Input: strs = [\"eat\",\"tea\",\"tan\",\"ate\",\"nat\",\"bat\"]\n",
    "Output: [[\"bat\"],[\"nat\",\"tan\"],[\"ate\",\"eat\",\"tea\"]]\n",
    "\n",
    "Example 2:\n",
    "Input: strs = [\"\"]\n",
    "Output: [[\"\"]]\n",
    "\n",
    "Example 3:\n",
    "Input: strs = [\"a\"]\n",
    "Output: [[\"a\"]]"
   ]
  },
  {
   "cell_type": "code",
   "execution_count": 15,
   "id": "8a0b6977",
   "metadata": {},
   "outputs": [
    {
     "name": "stdout",
     "output_type": "stream",
     "text": [
      "[['eat', 'tea', 'ate'], ['tan', 'nat'], ['bat']]\n",
      "[['']]\n",
      "[['a']]\n"
     ]
    }
   ],
   "source": [
    "def group_anagrams(strs):\n",
    "    anagrams_dict = {}\n",
    "    for word in strs:\n",
    "        sorted_word = ''.join(sorted(word))\n",
    "        if sorted_word in anagrams_dict:\n",
    "            anagrams_dict[sorted_word].append(word)\n",
    "        else:\n",
    "            anagrams_dict[sorted_word] = [word]\n",
    "\n",
    "    return list(anagrams_dict.values())\n",
    "\n",
    "# Example taken from the example\n",
    "\n",
    "strs1 = [\"eat\", \"tea\", \"tan\", \"ate\", \"nat\", \"bat\"]\n",
    "print(group_anagrams(strs1))\n",
    "\n",
    "\n",
    "strs2 = [\"\"]\n",
    "print(group_anagrams(strs2))  \n",
    "\n",
    "strs3 = [\"a\"]\n",
    "print(group_anagrams(strs3)) "
   ]
  },
  {
   "cell_type": "markdown",
   "id": "1b999cc4",
   "metadata": {},
   "source": [
    "5. An ugly number is a positive integer whose prime factors are limited to `2`, `3`, and `5`.\n",
    "Given an integer `n`, return the `nth` ugly number.\n",
    "\n",
    "Example 1:\n",
    "Input: n = 10\n",
    "Output: 12\n",
    "\n",
    "Example 2:\n",
    "Input: n = 1\n",
    "Output: 1"
   ]
  },
  {
   "cell_type": "code",
   "execution_count": 16,
   "id": "1aa80b2d",
   "metadata": {},
   "outputs": [
    {
     "name": "stdout",
     "output_type": "stream",
     "text": [
      "12\n",
      "1\n"
     ]
    }
   ],
   "source": [
    "def nth_ugly_number(n):\n",
    "    ugly_numbers = [1]\n",
    "    idx_2, idx_3, idx_5 = 0, 0, 0\n",
    "\n",
    "    for i in range(1, n):\n",
    "        next_ugly = min(ugly_numbers[idx_2] * 2, ugly_numbers[idx_3] * 3, ugly_numbers[idx_5] * 5)\n",
    "        ugly_numbers.append(next_ugly)\n",
    "\n",
    "        if next_ugly == ugly_numbers[idx_2] * 2:\n",
    "            idx_2 += 1\n",
    "        if next_ugly == ugly_numbers[idx_3] * 3:\n",
    "            idx_3 += 1\n",
    "        if next_ugly == ugly_numbers[idx_5] * 5:\n",
    "            idx_5 += 1\n",
    "\n",
    "    return ugly_numbers[-1]\n",
    "\n",
    "# Examples taken from the question\n",
    "\n",
    "n1 = 10\n",
    "print(nth_ugly_number(n1)) \n",
    "\n",
    "n2 = 1\n",
    "print(nth_ugly_number(n2))\n"
   ]
  },
  {
   "cell_type": "markdown",
   "id": "cd14a895",
   "metadata": {},
   "source": [
    "6. Given an array of strings `words` and an integer `k`, return the `k` most frequent strings.\n",
    "Return the answer sorted by the frequency from highest to lowest. Sort the words with the same frequency by their \n",
    "lexicographical order.\n",
    "\n",
    "Example 1:\n",
    "Input: words = [\"i\",\"love\",\"leetcode\",\"i\",\"love\",\"coding\"], k = 2\n",
    "Output: [\"i\",\"love\"]\n",
    "\n",
    "Example 2:\n",
    "Input: words = [\"the\",\"day\",\"is\",\"sunny\",\"the\",\"the\",\"the\",\"sunny\",\"is\",\"is\"], k = 4\n",
    "Output: [\"the\",\"is\",\"sunny\",\"day\"]\n"
   ]
  },
  {
   "cell_type": "code",
   "execution_count": 18,
   "id": "01ac9a31",
   "metadata": {},
   "outputs": [
    {
     "name": "stdout",
     "output_type": "stream",
     "text": [
      "['i', 'love']\n",
      "['the', 'is', 'sunny', 'day']\n"
     ]
    }
   ],
   "source": [
    "import heapq\n",
    "from collections import Counter\n",
    "\n",
    "def topKFrequent(words, k):\n",
    "    word_freq = Counter(words)\n",
    "    heap = [(-freq, word) for word, freq in word_freq.items()]\n",
    "    heapq.heapify(heap)\n",
    "    \n",
    "    result = [heapq.heappop(heap)[1] for _ in range(k)]\n",
    "    return result\n",
    "\n",
    "# Example taken from the question\n",
    "\n",
    "words1 = [\"i\", \"love\", \"leetcode\", \"i\", \"love\", \"coding\"]\n",
    "k1 = 2\n",
    "print(topKFrequent(words1, k1))  \n",
    "\n",
    "\n",
    "words2 = [\"the\", \"day\", \"is\", \"sunny\", \"the\", \"the\", \"the\", \"sunny\", \"is\", \"is\"]\n",
    "k2 = 4\n",
    "print(topKFrequent(words2, k2)) \n"
   ]
  },
  {
   "cell_type": "markdown",
   "id": "bd4ae804",
   "metadata": {},
   "source": [
    "7. You are given an array of integers `nums`, there is a sliding window of size `k` which is moving from the very \n",
    "left of the array to the very right. You can only see the `k` numbers in the window. Each time the sliding window \n",
    "moves right by one position.Return the max sliding window\n",
    "\n",
    "Example 1:\n",
    "Input: nums = [1,3,-1,-3,5,3,6,7], k = 3\n",
    "Output: [3,3,5,5,6,7]\n",
    "\n",
    "Example 2:\n",
    "Input: nums = [1], k = 1\n",
    "Output: [1]"
   ]
  },
  {
   "cell_type": "code",
   "execution_count": 21,
   "id": "57fc75d9",
   "metadata": {},
   "outputs": [
    {
     "name": "stdout",
     "output_type": "stream",
     "text": [
      "[3, 3, 5, 5, 6, 7]\n",
      "[1]\n"
     ]
    }
   ],
   "source": [
    "from collections import deque\n",
    "\n",
    "def max_sliding_window(nums, k):\n",
    "    if not nums:\n",
    "        return []\n",
    "    \n",
    "    result = []\n",
    "    dq = deque()\n",
    "    \n",
    "    for i in range(len(nums)):\n",
    "        while dq and dq[0] < i - k + 1:\n",
    "            dq.popleft()\n",
    "        \n",
    "\n",
    "        while dq and nums[dq[-1]] < nums[i]:\n",
    "            dq.pop()\n",
    "        \n",
    "        dq.append(i)\n",
    "\n",
    "        if i >= k - 1:\n",
    "            result.append(nums[dq[0]])\n",
    "    \n",
    "    return result\n",
    "\n",
    "# Example taken from the question\n",
    "\n",
    "nums1 = [1, 3, -1, -3, 5, 3, 6, 7]\n",
    "k1 = 3\n",
    "print(max_sliding_window(nums1, k1)) \n",
    "\n",
    "\n",
    "nums2 = [1]\n",
    "k2 = 1\n",
    "print(max_sliding_window(nums2, k2))\n"
   ]
  },
  {
   "cell_type": "markdown",
   "id": "1edeb860",
   "metadata": {},
   "source": [
    "8. Given a sorted integer array `arr`, two integers `k` and `x`, return the `k` closest integers to `x` in the array. The result should also be sorted in ascending order.\n",
    "\n",
    "An integer `a` is closer to `x` than an integer `b` if:\n",
    "\n",
    "-> `|a - x| < |b - x|`, or\n",
    "-> `|a - x| == |b - x|` and `a < b`\n",
    "\n",
    "Example 1:\n",
    "Input: arr = [1,2,3,4,5], k = 4, x = 3\n",
    "Output: [1,2,3,4]\n",
    "\n",
    "Example 2:\n",
    "Input: arr = [1,2,3,4,5], k = 4, x = -1\n",
    "Output: [1,2,3,4]"
   ]
  },
  {
   "cell_type": "code",
   "execution_count": 22,
   "id": "8a5cc0d4",
   "metadata": {},
   "outputs": [
    {
     "name": "stdout",
     "output_type": "stream",
     "text": [
      "[1, 2, 3, 4]\n",
      "[1, 2, 3, 4]\n"
     ]
    }
   ],
   "source": [
    "def find_closest_elements(arr, k, x):\n",
    "    left, right = 0, len(arr) - k\n",
    "    \n",
    "    while left < right:\n",
    "        mid = (left + right) // 2\n",
    "        if x - arr[mid] > arr[mid + k] - x:\n",
    "            left = mid + 1\n",
    "        else:\n",
    "            right = mid\n",
    "    \n",
    "    return arr[left:left + k]\n",
    "\n",
    "# Example taken from the question\n",
    "\n",
    "arr1 = [1, 2, 3, 4, 5]\n",
    "k1 = 4\n",
    "x1 = 3\n",
    "print(find_closest_elements(arr1, k1, x1)) \n",
    "\n",
    "\n",
    "arr2 = [1, 2, 3, 4, 5]\n",
    "k2 = 4\n",
    "x2 = -1\n",
    "print(find_closest_elements(arr2, k2, x2)) \n"
   ]
  }
 ],
 "metadata": {
  "kernelspec": {
   "display_name": "Python 3 (ipykernel)",
   "language": "python",
   "name": "python3"
  },
  "language_info": {
   "codemirror_mode": {
    "name": "ipython",
    "version": 3
   },
   "file_extension": ".py",
   "mimetype": "text/x-python",
   "name": "python",
   "nbconvert_exporter": "python",
   "pygments_lexer": "ipython3",
   "version": "3.9.13"
  }
 },
 "nbformat": 4,
 "nbformat_minor": 5
}
