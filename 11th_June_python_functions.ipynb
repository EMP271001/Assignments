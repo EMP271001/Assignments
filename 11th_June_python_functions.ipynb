{
 "cells": [
  {
   "cell_type": "markdown",
   "id": "1167b82b",
   "metadata": {},
   "source": [
    "1. A lambda function in Python is a small, anonymous, and single-expression function that can have any number of input arguments but can only have one expression. Lambda functions are often used for short-term, simple operations where a full named function definition is not required. They are defined using the lambda keyword followed by the parameter list, a colon (:), and the expression to be evaluated.\n",
    "                           The general syntax of lambda function is :\n",
    "                               lambda arguments: expression\n",
    "\n",
    "Lambda functions differ from regular functions in several ways such as :\n",
    "\n",
    "-> Lambda functions are anonymous, meaning they don't have a name. Regular functions have a name.\n",
    "-> Lambda functions can only have one expression, while regular functions can have multiple statements and a more complex structure.\n",
    "-> Lambda functions implicitly return the result of the expression. Regular functions use the return statement to specify what to return."
   ]
  },
  {
   "cell_type": "markdown",
   "id": "56171c06",
   "metadata": {},
   "source": [
    "2. Yes, a lambda function in Python can have multiple arguments. You can define and use multiple arguments in a lambda function just like you would with a regular function. The syntax for a lambda function with multiple arguments is:\n",
    "\n",
    "lambda arg1, arg2, ..., argN: expression\n",
    "\n",
    "Given below is an example of using lambda."
   ]
  },
  {
   "cell_type": "code",
   "execution_count": 3,
   "id": "dd8e108b",
   "metadata": {},
   "outputs": [
    {
     "name": "stdout",
     "output_type": "stream",
     "text": [
      "7\n"
     ]
    }
   ],
   "source": [
    "# using lambda for addition of two arguments\n",
    "add = lambda x, y: x + y\n",
    "result = add(3, 4)\n",
    "print(result) "
   ]
  },
  {
   "cell_type": "markdown",
   "id": "d69fd223",
   "metadata": {},
   "source": [
    "3. Lambda functions in Python are typically used for short, simple operations where you need to define a function on the fly without the need to give it a formal name using the def keyword. They are commonly used in situations where a function is needed as an argument to another function or where a small operation is needed for a specific purpose.\n",
    "\n",
    "Below is an example of the lambda use case:"
   ]
  },
  {
   "cell_type": "code",
   "execution_count": 5,
   "id": "febdde8a",
   "metadata": {},
   "outputs": [
    {
     "name": "stdout",
     "output_type": "stream",
     "text": [
      "[('Choung zhou', 22), ('Akash', 25), ('Denver', 28), ('Bonnie', 30)]\n"
     ]
    }
   ],
   "source": [
    "people = [('Akash', 25), ('Bonnie', 30), ('Choung zhou', 22), ('Denver', 28)]\n",
    "\n",
    "# Sort the list of tuples based on ages using a lambda function as the sorting key\n",
    "sorted_people = sorted(people, key=lambda person: person[1])\n",
    "\n",
    "print(sorted_people)"
   ]
  },
  {
   "cell_type": "markdown",
   "id": "367c47e7",
   "metadata": {},
   "source": [
    "4. Advantages of Lambda Functions:\n",
    "\n",
    "-> Lambda functions are compact and concise, which can make your code cleaner and more readable for simple operations.\n",
    "-> Lambda functions are useful for quickly defining small functions for one-time or specific use cases.\n",
    "\n",
    "\n",
    "\n",
    "   Limitations of Lambda Functions:\n",
    "\n",
    "-> Lambda functions can only consist of a single expression. This limits their usage for more complex operations that require multiple statements or conditions.\n",
    "-> Lambda functions can't include statements like assignments, loops, or conditionals. This limits their usage to simple operations."
   ]
  },
  {
   "cell_type": "markdown",
   "id": "3f2898c2",
   "metadata": {},
   "source": [
    "5. Yes, lambda functions in Python can access variables defined outside of their own scope, but the behavior is based on the concept of closures. A closure allows a nested function (like a lambda) to access variables from its containing (enclosing) function's scope. This feature makes lambda functions powerful in certain use cases.\n",
    "\n",
    "Below is an example to demonstrate how lambda functions can access variables from an outer scope :"
   ]
  },
  {
   "cell_type": "code",
   "execution_count": 2,
   "id": "bdc4272c",
   "metadata": {},
   "outputs": [
    {
     "name": "stdout",
     "output_type": "stream",
     "text": [
      "18\n"
     ]
    }
   ],
   "source": [
    "def outer_function(x):\n",
    "    y = 10\n",
    "    \n",
    "    # Define a lambda function that uses both x and y\n",
    "    inner_lambda = lambda z: x + y + z\n",
    "    \n",
    "    return inner_lambda\n",
    "\n",
    "# Call the outer function and store the returned lambda function\n",
    "my_lambda = outer_function(5)\n",
    "\n",
    "# Call the stored lambda function with an argument\n",
    "result = my_lambda(3)\n",
    "\n",
    "print(result)  # Output: 18 (5 + 10 + 3)"
   ]
  },
  {
   "cell_type": "code",
   "execution_count": 3,
   "id": "7caf870e",
   "metadata": {},
   "outputs": [
    {
     "name": "stdout",
     "output_type": "stream",
     "text": [
      "25\n"
     ]
    }
   ],
   "source": [
    "# 6. Here's a simple lambda function that calculates the square of a given number.\n",
    "\n",
    "square = lambda x: x ** 2\n",
    "\n",
    "number = 5\n",
    "result = square(number)\n",
    "print(result) "
   ]
  },
  {
   "cell_type": "code",
   "execution_count": 4,
   "id": "e39a254c",
   "metadata": {},
   "outputs": [
    {
     "name": "stdout",
     "output_type": "stream",
     "text": [
      "Maximum value: 15\n"
     ]
    }
   ],
   "source": [
    "# 7. Here's a lambda function that finds the maximum value in a list of integers.\n",
    "\n",
    "find_max = lambda lst: max(lst)\n",
    "\n",
    "numbers = [10, 5, 8, 15, 3]\n",
    "max_value = find_max(numbers)\n",
    "print(\"Maximum value:\", max_value)"
   ]
  },
  {
   "cell_type": "code",
   "execution_count": 6,
   "id": "a27dd746",
   "metadata": {},
   "outputs": [
    {
     "name": "stdout",
     "output_type": "stream",
     "text": [
      "Even numbers: [10, 8, 12, 6]\n"
     ]
    }
   ],
   "source": [
    "# 8. Here's a lambda function that filters out all the even numbers from a list of integers.\n",
    "\n",
    "filter_even = lambda lst: list(filter(lambda x: x % 2 == 0, lst))\n",
    "\n",
    "numbers = [10, 5, 8, 15, 3, 12, 7, 6]\n",
    "even_numbers = filter_even(numbers)\n",
    "print(\"Even numbers:\", even_numbers)  "
   ]
  },
  {
   "cell_type": "code",
   "execution_count": 8,
   "id": "c504ec15",
   "metadata": {},
   "outputs": [
    {
     "name": "stdout",
     "output_type": "stream",
     "text": [
      "Sorted strings: ['date', 'figs', 'apple', 'banana', 'cherry']\n"
     ]
    }
   ],
   "source": [
    "# 9. Here's a lambda function that sorts a list of strings in ascending order based on the length of each string.\n",
    "\n",
    "sort_by_length = lambda lst: sorted(lst, key=lambda x: len(x))\n",
    "\n",
    "strings = [\"apple\", \"banana\", \"cherry\", \"date\", \"figs\"]\n",
    "sorted_strings = sort_by_length(strings)\n",
    "print(\"Sorted strings:\", sorted_strings)\n"
   ]
  },
  {
   "cell_type": "code",
   "execution_count": 10,
   "id": "0d0b448f",
   "metadata": {},
   "outputs": [
    {
     "name": "stdout",
     "output_type": "stream",
     "text": [
      "Common elements: [4, 5]\n"
     ]
    }
   ],
   "source": [
    "# 10.  Here's a lambda function that takes two lists as input and returns a new list containing the common elements \n",
    "#      between the two lists.\n",
    "\n",
    "find_common_elements = lambda list1, list2: list(filter(lambda x: x in list2, list1))\n",
    "\n",
    "list1 = [1, 2, 3, 4, 5]\n",
    "list2 = [ 4, 5, 6, 7, 8]\n",
    "common_elements = find_common_elements(list1, list2)\n",
    "print(\"Common elements:\", common_elements) "
   ]
  },
  {
   "cell_type": "code",
   "execution_count": 11,
   "id": "c01e3c67",
   "metadata": {},
   "outputs": [
    {
     "name": "stdout",
     "output_type": "stream",
     "text": [
      "The factorial of 5 is: 120\n"
     ]
    }
   ],
   "source": [
    "# 11. Here's a recursive function to calculate the factorial of a given positive integer.\n",
    "\n",
    "def pos_factorial(n):\n",
    "    if n == 0 or n == 1:\n",
    "        return 1\n",
    "    else:\n",
    "        return n * pos_factorial(n - 1)\n",
    "\n",
    "    \n",
    "number = 5\n",
    "result = pos_factorial(number)\n",
    "print(f\"The factorial of {number} is:\", result)  \n"
   ]
  },
  {
   "cell_type": "code",
   "execution_count": 13,
   "id": "e9f0d0fc",
   "metadata": {},
   "outputs": [
    {
     "name": "stdout",
     "output_type": "stream",
     "text": [
      "The 4th Fibonacci number is: 3\n"
     ]
    }
   ],
   "source": [
    "# 12. Here's a recursive function to compute the nth Fibonacci number.\n",
    "\n",
    "def fibonacci(n):\n",
    "    if n <= 0:\n",
    "        return 0\n",
    "    elif n == 1:\n",
    "        return 1\n",
    "    else:\n",
    "        return fibonacci(n - 1) + fibonacci(n - 2)\n",
    "\n",
    "    \n",
    "n = 4\n",
    "result = fibonacci(n)\n",
    "print(f\"The {n}th Fibonacci number is:\", result) \n"
   ]
  },
  {
   "cell_type": "code",
   "execution_count": 15,
   "id": "6e47d2e8",
   "metadata": {},
   "outputs": [
    {
     "name": "stdout",
     "output_type": "stream",
     "text": [
      "Sum of elements: 15\n"
     ]
    }
   ],
   "source": [
    "# 13. Here's a recursive function to find the sum of all the elements in a given list.\n",
    "\n",
    "def recursive_sum(lst):\n",
    "    if not lst:\n",
    "        return 0\n",
    "    else:\n",
    "        return lst[0] + recursive_sum(lst[1:])\n",
    "\n",
    "    \n",
    "numbers = [1, 2, 3, 4, 5]\n",
    "result = recursive_sum(numbers)\n",
    "print(\"Sum of elements:\", result)  "
   ]
  },
  {
   "cell_type": "code",
   "execution_count": 17,
   "id": "ce7ac9a7",
   "metadata": {},
   "outputs": [
    {
     "name": "stdout",
     "output_type": "stream",
     "text": [
      "'racecar' is a palindrome string.\n"
     ]
    }
   ],
   "source": [
    "# 14. Here's a recursive function to determine whether a given string is a palindrome.\n",
    "\n",
    "\n",
    "def is_palindrome(s):\n",
    "    s = s.lower().replace(\" \", \"\")  # Convert to lowercase and remove spaces\n",
    "    if len(s) <= 1:\n",
    "        return True\n",
    "    else:\n",
    "        return s[0] == s[-1] and is_palindrome(s[1:-1])\n",
    "\n",
    "string = \"racecar\"\n",
    "result = is_palindrome(string)\n",
    "if result:\n",
    "    print(f\"'{string}' is a palindrome string.\")\n",
    "else:\n",
    "    print(f\"'{string}' is not a palindrome string.\")"
   ]
  },
  {
   "cell_type": "code",
   "execution_count": 18,
   "id": "b854e018",
   "metadata": {},
   "outputs": [
    {
     "name": "stdout",
     "output_type": "stream",
     "text": [
      "The GCD of 48 and 18 is: 6\n"
     ]
    }
   ],
   "source": [
    "# 15. Here's a recursive function to find the greatest common divisor (GCD) of two positive integers.\n",
    "\n",
    "def gcd(a, b):\n",
    "    if b == 0:\n",
    "        return a\n",
    "    else:\n",
    "        return gcd(b, a % b)\n",
    "\n",
    "    \n",
    "num1 = 48\n",
    "num2 = 18\n",
    "result = gcd(num1, num2)\n",
    "print(f\"The GCD of {num1} and {num2} is:\", result)"
   ]
  }
 ],
 "metadata": {
  "kernelspec": {
   "display_name": "Python 3 (ipykernel)",
   "language": "python",
   "name": "python3"
  },
  "language_info": {
   "codemirror_mode": {
    "name": "ipython",
    "version": 3
   },
   "file_extension": ".py",
   "mimetype": "text/x-python",
   "name": "python",
   "nbconvert_exporter": "python",
   "pygments_lexer": "ipython3",
   "version": "3.9.13"
  }
 },
 "nbformat": 4,
 "nbformat_minor": 5
}
