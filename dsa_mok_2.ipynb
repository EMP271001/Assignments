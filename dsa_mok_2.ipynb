{
 "cells": [
  {
   "cell_type": "code",
   "execution_count": null,
   "id": "bce642ee",
   "metadata": {},
   "outputs": [],
   "source": []
  },
  {
   "cell_type": "markdown",
   "id": "47bdba12",
   "metadata": {},
   "source": [
    "Given a non-negative integer x, return the square root of x rounded down to the nearest integer. The returned integer\n",
    "should be non-negative as well. You must not use any built-in exponent function or operator. \n",
    "\n",
    "Example 1:\n",
    "Input: x = 4 \n",
    "Output: 2 \n",
    "    \n",
    "Example 2:\n",
    "Input: x = 8 \n",
    "Output: 2 "
   ]
  },
  {
   "cell_type": "code",
   "execution_count": 5,
   "id": "6a2d1a88",
   "metadata": {},
   "outputs": [
    {
     "name": "stdout",
     "output_type": "stream",
     "text": [
      "X =  4\n",
      "Output : 2\n",
      "X =  8\n",
      "Ouput : 2\n"
     ]
    }
   ],
   "source": [
    "def Sqrt(x):\n",
    "    if x < 2:\n",
    "        return x\n",
    "\n",
    "    left = 1\n",
    "    right = x\n",
    "\n",
    "    while left < right:\n",
    "        mid = (left + right) // 2\n",
    "        if mid * mid > x:\n",
    "            right = mid\n",
    "        else:\n",
    "            left = mid + 1\n",
    "\n",
    "    return left - 1\n",
    "\n",
    "x = 4\n",
    "print(\"X = \",x)\n",
    "print(\"Output :\",Sqrt(4))\n",
    "x = 8\n",
    "print(\"X = \",x)\n",
    "print(\"Ouput :\",Sqrt(8)) "
   ]
  },
  {
   "cell_type": "markdown",
   "id": "40a7c868",
   "metadata": {},
   "source": [
    "You are given two non-empty linked lists representing two non-negative integers. The digits are stored in reverse order, \n",
    "and each of their nodes contains a single digit. Add the two numbers and return the sum as a linked list.\n",
    "\n",
    "You may assume the two numbers do not contain any leading zero, except the number 0 itself.\n",
    "\n",
    "Example 1:\n",
    "Input: l1 = [2,4,3]\n",
    "       l2 = [5,6,4] \n",
    "Output: [7,0,8] \n",
    "\n",
    "\n",
    "Example 2:\n",
    "Input: l1 = [0]\n",
    "       l2 = [0] \n",
    "Output: [0]\n",
    "\n",
    "    \n",
    "Example 3:\n",
    "Input: l1 = [9,9,9,9,9,9,9]\n",
    "       l2 = [9,9,9,9] \n",
    "Output: [8,9,9,9,0,0,0,1]"
   ]
  },
  {
   "cell_type": "code",
   "execution_count": 10,
   "id": "d7c18101",
   "metadata": {},
   "outputs": [
    {
     "name": "stdout",
     "output_type": "stream",
     "text": [
      "output 1 =\n",
      "7 -> 0 -> 8 -> "
     ]
    }
   ],
   "source": [
    "class ListNode:\n",
    "    def __init__(self, val=0, next=None):\n",
    "        self.val = val\n",
    "        self.next = next\n",
    "\n",
    "\n",
    "def add_num(l1, l2):\n",
    "    dummy = ListNode(0)\n",
    "    current = dummy\n",
    "    carry = 0\n",
    "\n",
    "    while l1 or l2:\n",
    "        sum = carry\n",
    "\n",
    "        if l1:\n",
    "            sum += l1.val\n",
    "            l1 = l1.next\n",
    "\n",
    "        if l2:\n",
    "            sum += l2.val\n",
    "            l2 = l2.next\n",
    "\n",
    "        carry = sum // 10\n",
    "        current.next = ListNode(sum % 10)\n",
    "        current = current.next\n",
    "\n",
    "    if carry > 0:\n",
    "        current.next = ListNode(carry)\n",
    "\n",
    "    return dummy.next\n",
    "\n",
    "\n",
    "# Example 1\n",
    "l1 = ListNode(2)\n",
    "l1.next = ListNode(4)\n",
    "l1.next.next = ListNode(3)\n",
    "\n",
    "l2 = ListNode(5)\n",
    "l2.next = ListNode(6)\n",
    "l2.next.next = ListNode(4)\n",
    "\n",
    "print(\"output 1 =\")\n",
    "result = add_num(l1, l2)\n",
    "while result:\n",
    "    print(result.val,\"->\",end=\" \")\n",
    "    result = result.next\n",
    "    \n"
   ]
  },
  {
   "cell_type": "code",
   "execution_count": null,
   "id": "ebffe49e",
   "metadata": {},
   "outputs": [],
   "source": []
  }
 ],
 "metadata": {
  "kernelspec": {
   "display_name": "Python 3 (ipykernel)",
   "language": "python",
   "name": "python3"
  },
  "language_info": {
   "codemirror_mode": {
    "name": "ipython",
    "version": 3
   },
   "file_extension": ".py",
   "mimetype": "text/x-python",
   "name": "python",
   "nbconvert_exporter": "python",
   "pygments_lexer": "ipython3",
   "version": "3.9.13"
  }
 },
 "nbformat": 4,
 "nbformat_minor": 5
}
