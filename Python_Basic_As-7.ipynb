{
 "cells": [
  {
   "cell_type": "code",
   "execution_count": 10,
   "id": "bcc642c7",
   "metadata": {},
   "outputs": [
    {
     "name": "stdout",
     "output_type": "stream",
     "text": [
      "First variable is  10 & second variable is  5\n",
      "Addition: 10  +  5  =  15\n",
      "Substraction: 10  -  5  =  5\n",
      "Multiplication: 10  *  5  =  50\n",
      "Division: 10  /  5  =  2.0\n"
     ]
    }
   ],
   "source": [
    "# 1. \n",
    "\n",
    "# Create two integer variables\n",
    "num1 = 10\n",
    "num2 = 5\n",
    "\n",
    "# Perform calculations\n",
    "addition_result = num1 + num2\n",
    "subtraction_result = num1 - num2\n",
    "multiplication_result = num1 * num2\n",
    "division_result = num1 / num2\n",
    "\n",
    "# Print the results in the specified format\n",
    "print(\"First variable is \",num1,\"& second variable is \",num2)\n",
    "print(\"Addition:\",num1,\" + \",num2,\" = \",addition_result)\n",
    "print(\"Substraction:\",num1,\" - \",num2,\" = \",subtraction_result)\n",
    "print(\"Multiplication:\",num1,\" * \",num2,\" = \",multiplication_result)\n",
    "print(\"Division:\",num1,\" / \",num2,\" = \",division_result)"
   ]
  },
  {
   "cell_type": "markdown",
   "id": "3753dc89",
   "metadata": {},
   "source": [
    "2. (i) Difference between / and // is :\n",
    "\n",
    "-> '/' (Division Operator): The / operator is used for division, and it returns the floating-point result of the division operation. It performs regular division and includes the decimal part of the quotient.\n",
    "\n",
    "-> // (Floor Division Operator): The // operator is used for floor division. It returns the integral part of the quotient after division, discarding the decimal part. It rounds down to the nearest integer."
   ]
  },
  {
   "cell_type": "code",
   "execution_count": 13,
   "id": "71ab1c05",
   "metadata": {},
   "outputs": [
    {
     "name": "stdout",
     "output_type": "stream",
     "text": [
      "3.3333333333333335\n",
      "3\n"
     ]
    }
   ],
   "source": [
    "a = 10\n",
    "b = 3\n",
    "\n",
    "result1 = a / b  # Regular division, result1 = 3.333...\n",
    "result2 = a // b  # Floor division, result2 = 3\n",
    "\n",
    "print(result1)\n",
    "print(result2)"
   ]
  },
  {
   "cell_type": "markdown",
   "id": "42576017",
   "metadata": {},
   "source": [
    "2. (ii) Difference between ** and ^ is :\n",
    "    \n",
    "-> ** (Exponentiation Operator): The ** operator is used for exponentiation, raising a number to a power. For example, a ** b raises a to the power of b.\n",
    "\n",
    "-> ^ (Bitwise XOR Operator): The ^ operator is used for bitwise XOR (exclusive OR) operation on the binary representations of numbers. It performs bitwise manipulation between corresponding bits of two numbers."
   ]
  },
  {
   "cell_type": "code",
   "execution_count": 12,
   "id": "668fa185",
   "metadata": {},
   "outputs": [
    {
     "name": "stdout",
     "output_type": "stream",
     "text": [
      "8\n",
      "1\n"
     ]
    }
   ],
   "source": [
    "a = 2\n",
    "b = 3\n",
    "\n",
    "result1 = a ** b  # Exponentiation, result1 = 2 ** 3 = 8\n",
    "result2 = a ^ b   # Bitwise XOR, result2 = 2 ^ 3 = 1\n",
    "\n",
    "print(result1)\n",
    "print(result2)"
   ]
  },
  {
   "cell_type": "markdown",
   "id": "321630a0",
   "metadata": {},
   "source": [
    "3. The logical operators in Python are used to perform logical operations on boolean values (True or False). Here are the three main logical operators in Python:\n",
    "\n",
    "-> and: The and operator returns True if both operands are True, otherwise, it returns False. It represents logical conjunction.\n",
    "\n",
    "-> or: The or operator returns True if at least one of the operands is True, otherwise, it returns False. It represents logical disjunction.\n",
    "\n",
    "-> not: The not operator is a unary operator that returns the opposite of the operand's boolean value. If the operand is True, it returns False; if the operand is False, it returns True.\n"
   ]
  },
  {
   "cell_type": "markdown",
   "id": "bc5c272e",
   "metadata": {},
   "source": [
    "4. The right shift (>>) and left shift (<<) operators are bitwise shift operators in Python. \n",
    "\n",
    "-> right shift(>>): The right shift operator shifts the bits of a number to the right by a specified number of positions. The rightmost bits that are shifted out are discarded, and the leftmost bits are filled with zeros.\n",
    "\n",
    "-> left shift(<<): The left shift operator shifts the bits of a number to the left by a specified number of positions. The leftmost bits that are shifted out are discarded, and the rightmost bits are filled with zeros.\n",
    "\n",
    "Below are some examples to simplify my statement."
   ]
  },
  {
   "cell_type": "code",
   "execution_count": 16,
   "id": "7c45aae9",
   "metadata": {},
   "outputs": [
    {
     "name": "stdout",
     "output_type": "stream",
     "text": [
      "0b10\n",
      "-------------------------------------\n",
      "0b1100\n"
     ]
    }
   ],
   "source": [
    "x = 8  # Binary: 1000\n",
    "y = x >> 2  # Shift right by 2 positions\n",
    "\n",
    "print(bin(y))  # Output: 0b10 (Binary for 2)\n",
    "\n",
    "print(\"-------------------------------------\")\n",
    "\n",
    "x = 3  # Binary: 11\n",
    "y = x << 2  # Shift left by 2 positions\n",
    "\n",
    "print(bin(y))  # Output: 0b1100 (Binary for 12)"
   ]
  },
  {
   "cell_type": "code",
   "execution_count": 17,
   "id": "094129d2",
   "metadata": {},
   "outputs": [
    {
     "name": "stdout",
     "output_type": "stream",
     "text": [
      "10 is present in the list.\n"
     ]
    }
   ],
   "source": [
    "# 5.\n",
    "# Create a list of integer values\n",
    "my_list = [5, 8, 3, 10, 12, 6, 15, 9, 7, 4, 2, 14, 1, 11, 13]\n",
    "\n",
    "# Checking for 10 in the list\n",
    "if 10 in my_list:\n",
    "    print(\"10 is present in the list.\")\n",
    "else:\n",
    "    print(\"10 is not present in the list.\")\n"
   ]
  }
 ],
 "metadata": {
  "kernelspec": {
   "display_name": "Python 3 (ipykernel)",
   "language": "python",
   "name": "python3"
  },
  "language_info": {
   "codemirror_mode": {
    "name": "ipython",
    "version": 3
   },
   "file_extension": ".py",
   "mimetype": "text/x-python",
   "name": "python",
   "nbconvert_exporter": "python",
   "pygments_lexer": "ipython3",
   "version": "3.9.13"
  }
 },
 "nbformat": 4,
 "nbformat_minor": 5
}
