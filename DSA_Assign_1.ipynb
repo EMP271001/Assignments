{
 "cells": [
  {
   "cell_type": "markdown",
   "id": "42b841c5",
   "metadata": {},
   "source": [
    "1. Given an array of integers nums and an integer target, return indices of the two numbers such that \n",
    "they add up to target.You may assume that each input would have exactly one solution, and you may not \n",
    "use the same element twice.You can return the answer in any order.\n",
    "\n",
    "Example:\n",
    "Input: nums = [2,7,11,15], target = 9\n",
    "Output: [0,1]\n",
    "Explanation: Because nums[0] + nums[1] == 9, we return [0, 1]\n"
   ]
  },
  {
   "cell_type": "code",
   "execution_count": 21,
   "id": "d4e8c432",
   "metadata": {},
   "outputs": [
    {
     "name": "stdout",
     "output_type": "stream",
     "text": [
      "Output :  [0, 1]\n"
     ]
    }
   ],
   "source": [
    "def Sum(nums, target):\n",
    "    seen = {}                  \n",
    "    for i, num in enumerate(nums):\n",
    "        comp = target - num\n",
    "        if comp in seen:\n",
    "            return [seen[comp], i]\n",
    "        seen[num] = i\n",
    "    return []\n",
    "\n",
    "\n",
    "# Example taken from the question\n",
    "\n",
    "nums = [2, 7, 11, 15]\n",
    "target = 9\n",
    "Output_indices = Sum(nums, target)\n",
    "print(\"Output : \",indices)"
   ]
  },
  {
   "cell_type": "markdown",
   "id": "b472e841",
   "metadata": {},
   "source": [
    "2. Given an integer array nums and an integer val, remove all occurrences of val in nums in-place. The \n",
    "order of the elements may be changed. Then return the number of elements in nums which are not equal\n",
    "to val.Consider the number of elements in nums which are not equal to val be k, to get accepted, you \n",
    "need to do the following things:\n",
    "\n",
    "- Change the array nums such that the first k elements of nums contain the elements which are not equal to val. The remaining elements of nums are not important as well as the size of nums.\n",
    "- Return k.\n",
    "\n",
    "Example :\n",
    "Input:  nums = [3,2,2,3], val = 3\n",
    "Output:  2, nums = [2,2,_*,_*]"
   ]
  },
  {
   "cell_type": "code",
   "execution_count": 30,
   "id": "ed57347d",
   "metadata": {},
   "outputs": [
    {
     "name": "stdout",
     "output_type": "stream",
     "text": [
      "Output :  2 [2, 2, 2, 3]\n"
     ]
    }
   ],
   "source": [
    "def remove_element(nums, val):\n",
    "    i = 0\n",
    "    for j in range(len(nums)):\n",
    "        if nums[j] != val:\n",
    "            nums[i] = nums[j]\n",
    "            i += 1\n",
    "    return i\n",
    "\n",
    "\n",
    "# Example taken from the question\n",
    "\n",
    "nums = [3, 2, 2, 3]\n",
    "val = 3\n",
    "k = remove_element(nums, val)\n",
    "print(\"Output : \",k, nums)"
   ]
  },
  {
   "cell_type": "markdown",
   "id": "80fa0cc2",
   "metadata": {},
   "source": [
    "3. Given a sorted array of distinct integers and a target value, return the index if the target is found. \n",
    "If not, return the index where it would be if it were inserted in order.You must write an algorithm \n",
    "with O(log n) runtime complexity.\n",
    "\n",
    "Example 1:\n",
    "Input: nums = [1,3,5,6], target = 5\n",
    "\n",
    "Output: 2"
   ]
  },
  {
   "cell_type": "code",
   "execution_count": 31,
   "id": "2633ae61",
   "metadata": {},
   "outputs": [
    {
     "name": "stdout",
     "output_type": "stream",
     "text": [
      "Output :  2\n"
     ]
    }
   ],
   "source": [
    "def search_insert(nums, target):\n",
    "    left, right = 0, len(nums) - 1\n",
    "\n",
    "    while left <= right:\n",
    "        mid = (left + right) // 2\n",
    "\n",
    "        if nums[mid] == target:\n",
    "            return mid\n",
    "        elif nums[mid] < target:\n",
    "            left = mid + 1\n",
    "        else:\n",
    "            right = mid - 1\n",
    "\n",
    "    return left\n",
    "\n",
    "\n",
    "# Example taken from the question\n",
    "\n",
    "nums = [1, 3, 5, 6]\n",
    "target = 5\n",
    "index = search_insert(nums, target)\n",
    "print(\"Output : \",index)"
   ]
  },
  {
   "cell_type": "markdown",
   "id": "e8c0f056",
   "metadata": {},
   "source": [
    "4. You are given a large integer represented as an integer array digits, where each digits[i] is the \n",
    "ith digit of the integer. The digits are ordered from most significant to least significant in \n",
    "left-to-right order. The large integer does not contain any leading 0's.\n",
    "\n",
    "Increment the large integer by one and return the resulting array of digits.\n",
    "\n",
    "Example 1:\n",
    "Input: digits = [1,2,3]\n",
    "Output: [1,2,4]"
   ]
  },
  {
   "cell_type": "code",
   "execution_count": 24,
   "id": "0ef25be9",
   "metadata": {},
   "outputs": [
    {
     "name": "stdout",
     "output_type": "stream",
     "text": [
      "[1, 2, 4]\n"
     ]
    }
   ],
   "source": [
    "def last_plus_one(arr):\n",
    "    c = 1\n",
    "\n",
    "    for i in range(len(arr) - 1, -1, -1):\n",
    "        arr[i] += c\n",
    "        c = arr[i] // 10\n",
    "        arr[i] %= 10\n",
    "        if c == 0:\n",
    "            break\n",
    "    if c != 0:\n",
    "        arr.insert(0, c)\n",
    "\n",
    "    return arr\n",
    "\n",
    "\n",
    "# Example taken from the question\n",
    "\n",
    "arr = [1, 2, 3]\n",
    "result = last_plus_one(arr)\n",
    "print(result)\n"
   ]
  },
  {
   "cell_type": "markdown",
   "id": "5ec91816",
   "metadata": {},
   "source": [
    "5. You are given two integer arrays nums1 and nums2, sorted in non-decreasing order, and two integers m \n",
    "and n, representing the number of elements in nums1 and nums2 respectively.Merge nums1 and nums2 into \n",
    "a single array sorted in non-decreasing order.\n",
    "\n",
    "The final sorted array should not be returned by the function, but instead be stored inside the array \n",
    "nums1. To accommodate this, nums1 has a length of m + n, where the first m elements denote the \n",
    "elements that should be merged, and the last n elements are set to 0 and should be ignored. \n",
    "nums2 has a length of n.\n",
    "\n",
    "Example 1:\n",
    "Input: nums1 = [1,2,3,0,0,0], m = 3, nums2 = [2,5,6], n = 3\n",
    "Output: [1,2,2,3,5,6]"
   ]
  },
  {
   "cell_type": "code",
   "execution_count": 26,
   "id": "1ac28a1b",
   "metadata": {},
   "outputs": [
    {
     "name": "stdout",
     "output_type": "stream",
     "text": [
      "[1, 2, 2, 3, 5, 6]\n"
     ]
    }
   ],
   "source": [
    "def sort_and_merge(nums1, m, nums2, n):\n",
    "    p1 = m - 1\n",
    "    p2 = n - 1\n",
    "    p = m + n - 1\n",
    "\n",
    "    while p1 >= 0 and p2 >= 0:\n",
    "        if nums1[p1] <= nums2[p2]:\n",
    "            nums1[p] = nums2[p2]\n",
    "            p2 -= 1\n",
    "        else:\n",
    "            nums1[p] = nums1[p1]\n",
    "            p1 -= 1\n",
    "        p -= 1\n",
    "\n",
    "    nums1[:p2 + 1] = nums2[:p2 + 1]\n",
    "\n",
    "    \n",
    "# Example taken from the question\n",
    "\n",
    "nums1 = [1, 2, 3, 0, 0, 0]\n",
    "m = 3\n",
    "nums2 = [2, 5, 6]\n",
    "n = 3\n",
    "\n",
    "sort_and_merge(nums1, m, nums2, n)\n",
    "print(nums1)\n"
   ]
  },
  {
   "cell_type": "markdown",
   "id": "ae0b492e",
   "metadata": {},
   "source": [
    "7. Given an integer array nums, move all 0's to the end of it while maintaining the relative order of \n",
    "the nonzero elements.\n",
    "Note that you must do this in-place without making a copy of the array.\n",
    "\n",
    "Example 1:\n",
    "\n",
    "Input: nums = [0,1,0,3,12]\n",
    "Output: [1,3,12,0,0]\n",
    "\n"
   ]
  },
  {
   "cell_type": "code",
   "execution_count": 29,
   "id": "bd2e4d3a",
   "metadata": {},
   "outputs": [
    {
     "name": "stdout",
     "output_type": "stream",
     "text": [
      "[1, 3, 12, 0, 0]\n"
     ]
    }
   ],
   "source": [
    "def Zero_at_end(nums):\n",
    "    non_zero_index = 0\n",
    "\n",
    "    for i in range(len(nums)):\n",
    "        if nums[i] != 0:\n",
    "            nums[i], nums[non_zero_index] = nums[non_zero_index], nums[i]\n",
    "            non_zero_index += 1\n",
    "\n",
    "    for i in range(non_zero_index, len(nums)):\n",
    "        nums[i] = 0\n",
    "\n",
    "        \n",
    "# Example taken from the question\n",
    "\n",
    "nums = [0, 1, 0, 3, 12]\n",
    "Zero_at_end(nums)\n",
    "print(nums)\n"
   ]
  }
 ],
 "metadata": {
  "kernelspec": {
   "display_name": "Python 3 (ipykernel)",
   "language": "python",
   "name": "python3"
  },
  "language_info": {
   "codemirror_mode": {
    "name": "ipython",
    "version": 3
   },
   "file_extension": ".py",
   "mimetype": "text/x-python",
   "name": "python",
   "nbconvert_exporter": "python",
   "pygments_lexer": "ipython3",
   "version": "3.9.13"
  }
 },
 "nbformat": 4,
 "nbformat_minor": 5
}
