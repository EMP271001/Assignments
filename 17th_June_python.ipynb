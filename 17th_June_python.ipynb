{
 "cells": [
  {
   "cell_type": "markdown",
   "id": "185c1c8b",
   "metadata": {},
   "source": [
    "1. The try and except blocks in Python are used for handling exceptions, which are unexpected or exceptional events that can occur during the execution of a program. It prevents the program from crashing and allowing you to provide alternative behavior or error messages."
   ]
  },
  {
   "cell_type": "markdown",
   "id": "145b0310",
   "metadata": {},
   "source": [
    "2. The basic syntax for a try and except block in python is as follows :\n",
    "\n",
    "try:\n",
    "    # Code that might raise an exception\n",
    "    # ...\n",
    "except ExceptionType:\n",
    "    # Code to handle the specific exception\n",
    "    # ...\n"
   ]
  },
  {
   "cell_type": "markdown",
   "id": "360d1a82",
   "metadata": {},
   "source": [
    "3.  If an exception occurs inside a try block and there is no matching except block to handle that specific exception, the exception will propagate upward in the call stack until it is caught by an appropriate except block or until it reaches the top level of the program. If the exception is not caught, the program will terminate, and an error message will be displayed, including information about the unhandled exception."
   ]
  },
  {
   "cell_type": "markdown",
   "id": "c54ad518",
   "metadata": {},
   "source": [
    "4. Difference between a bare except block and specifying a specific exception type is :\n",
    "\n",
    "-> A bare except block catches all types of exceptions that derive from the base Exception class. This means that any exception, including built-in exceptions and user-defined exceptions, will be caught by the bare except block. While it might seem convenient, using a bare except block is generally discouraged because it can make debugging difficult. It can catch unexpected errors that you might not have anticipated, leading to unclear error messages and unexpected behavior.\n",
    "\n",
    "-> Specifying a specific exception type in the except block allows you to catch only the specified type of exception. This provides more control over error handling and ensures that you handle only the exceptions you are aware of. It makes your code more predictable and maintainable because you can provide targeted error messages or alternative actions for known exceptions."
   ]
  },
  {
   "cell_type": "markdown",
   "id": "4a3183d2",
   "metadata": {},
   "source": [
    "5. Yes, we can have nested try-except blocks in Python. Here's below an example of nested try-except blocks."
   ]
  },
  {
   "cell_type": "code",
   "execution_count": 4,
   "id": "4153aea8",
   "metadata": {},
   "outputs": [
    {
     "name": "stdout",
     "output_type": "stream",
     "text": [
      "Enter a number: 20\n",
      "Result: 0.5\n"
     ]
    }
   ],
   "source": [
    "# example of nested try-except blocks\n",
    "try:\n",
    "    # Outer try block\n",
    "    num = int(input(\"Enter a number: \"))\n",
    "    \n",
    "    try:\n",
    "        # Inner try block\n",
    "        result = 10 / num\n",
    "        print(f\"Result: {result}\")\n",
    "    except ZeroDivisionError:\n",
    "        print(\"Error: Cannot divide by zero in the inner try block.\")\n",
    "except ValueError:\n",
    "    print(\"Error: Invalid input. Please enter a valid number in the outer try block.\")\n"
   ]
  },
  {
   "cell_type": "markdown",
   "id": "7756ea17",
   "metadata": {},
   "source": [
    "6. Yes, we can use multiple except blocks to handle different types of exceptions in a single try-except statement. Here's below an example to simplify my statement."
   ]
  },
  {
   "cell_type": "code",
   "execution_count": 7,
   "id": "d6dca2aa",
   "metadata": {},
   "outputs": [
    {
     "name": "stdout",
     "output_type": "stream",
     "text": [
      "Enter a number: 0\n",
      "Error: Cannot divide by zero.\n"
     ]
    }
   ],
   "source": [
    "try:\n",
    "    num = int(input(\"Enter a number: \"))\n",
    "    result = 10 / num\n",
    "    print(f\"Result: {result}\")\n",
    "except ValueError:\n",
    "    print(\"Error: Invalid input. Please enter a valid number.\")\n",
    "except ZeroDivisionError:\n",
    "    print(\"Error: Cannot divide by zero.\")\n"
   ]
  },
  {
   "cell_type": "markdown",
   "id": "605fff68",
   "metadata": {},
   "source": [
    "7. The reasons are:\n",
    "\n",
    "a. EOF Error - This error is raised when you try to read beyond the end of a file (end-of-file) or an input stream. It occurs when an input operation, such as input() or reading from a file, encounters the end of the input before it expected to.\n",
    "\n",
    "b. FloatingPointError - This error is raised when a floating-point operation cannot be performed as intended. It can occur when performing invalid operations on floating-point numbers\n",
    "\n",
    "c. IndexError - This error is raised when you try to access an index of a sequence (like a list or a string) that is outside the valid range. It occurs when the index is negative or greater than or equal to the length of the sequence.\n",
    "\n",
    "d. MemoryError - This error is raised when a program runs out of available memory (RAM) to allocate for new objects. It indicates that the system does not have enough memory to fulfill the allocation request.\n",
    "\n",
    "e. OverflowError - This error is raised when an arithmetic operation exceeds the limits of its data type. It can occur when performing calculations that result in numbers that are too large to be represented within the data type's range.\n",
    "\n",
    "f. TabError - This error is raised when inconsistent or improper use of tabs and spaces for indentation is detected in Python code.\n",
    "\n",
    "g. ValueError - This error is raised when an operation or function receives an argument of the correct type but with an inappropriate value."
   ]
  },
  {
   "cell_type": "code",
   "execution_count": 11,
   "id": "3c2436bd",
   "metadata": {},
   "outputs": [
    {
     "name": "stdout",
     "output_type": "stream",
     "text": [
      "Enter the numerator: 12\n",
      "Enter the denominator: 0\n",
      "Error: Cannot divide by zero.\n"
     ]
    }
   ],
   "source": [
    "# 8. \n",
    "# a. Program to divide two numbers\n",
    "\n",
    "try:\n",
    "    a = float(input(\"Enter the numerator: \"))\n",
    "    b = float(input(\"Enter the denominator: \"))\n",
    "    result = a / b\n",
    "    print(\"Result:\", result)\n",
    "except ZeroDivisionError:\n",
    "    print(\"Error: Cannot divide by zero.\")\n",
    "except ValueError:\n",
    "    print(\"Error: Invalid input. Please enter valid numeric values.\")"
   ]
  },
  {
   "cell_type": "code",
   "execution_count": 27,
   "id": "96bf9ad5",
   "metadata": {},
   "outputs": [
    {
     "name": "stdout",
     "output_type": "stream",
     "text": [
      "Enter a number: 123\n",
      "<class 'str'>\n",
      "Converted integer: 123\n",
      "<class 'int'>\n"
     ]
    }
   ],
   "source": [
    "# b. Program to convert a string to an integer\n",
    "\n",
    "try:\n",
    "    num_str = input(\"Enter a number: \") # here the user input is in integer but as a string.\n",
    "    print(type(num_str))\n",
    "    num = int(num_str)\n",
    "    print(\"Converted integer:\", num)\n",
    "    print(type(num))\n",
    "except ValueError:\n",
    "    print(\"Error: Invalid input. Please enter a valid integer.\")\n"
   ]
  },
  {
   "cell_type": "code",
   "execution_count": 22,
   "id": "e279de3f",
   "metadata": {},
   "outputs": [
    {
     "name": "stdout",
     "output_type": "stream",
     "text": [
      "Enter an index: 2\n",
      "Element at index 2 : 3\n"
     ]
    }
   ],
   "source": [
    "# c. Program to access an element in a list\n",
    "\n",
    "try:\n",
    "    my_list = [1, 2, 3]\n",
    "    index = int(input(\"Enter an index: \"))\n",
    "    element = my_list[index]\n",
    "    print(\"Element at index\", index, \":\", element)\n",
    "except IndexError:\n",
    "    print(\"Error: Index out of range.\")\n",
    "except ValueError:\n",
    "    print(\"Error: Invalid index input. Please enter a valid integer.\")\n"
   ]
  },
  {
   "cell_type": "code",
   "execution_count": 23,
   "id": "7f30e7f4",
   "metadata": {},
   "outputs": [
    {
     "name": "stdout",
     "output_type": "stream",
     "text": [
      "Error: Cannot divide by zero.\n"
     ]
    }
   ],
   "source": [
    "# d. Program to handle a specific exception\n",
    "\n",
    "try:\n",
    "    x = 10\n",
    "    y = 0\n",
    "    result = x / y\n",
    "    print(\"Result:\", result)\n",
    "except ZeroDivisionError:\n",
    "    print(\"Error: Cannot divide by zero.\")\n"
   ]
  },
  {
   "cell_type": "code",
   "execution_count": 25,
   "id": "0fc78b35",
   "metadata": {},
   "outputs": [
    {
     "name": "stdout",
     "output_type": "stream",
     "text": [
      "Enter a number: 0\n",
      "An error occurred: division by zero\n"
     ]
    }
   ],
   "source": [
    "# e. Program to handle any exception\n",
    "\n",
    "try:\n",
    "    num_str = input(\"Enter a number: \")\n",
    "    num = int(num_str)\n",
    "    result = 10 / num\n",
    "    print(\"Result:\", result)\n",
    "except Exception as e:\n",
    "    print(\"An error occurred:\", e)\n"
   ]
  }
 ],
 "metadata": {
  "kernelspec": {
   "display_name": "Python 3 (ipykernel)",
   "language": "python",
   "name": "python3"
  },
  "language_info": {
   "codemirror_mode": {
    "name": "ipython",
    "version": 3
   },
   "file_extension": ".py",
   "mimetype": "text/x-python",
   "name": "python",
   "nbconvert_exporter": "python",
   "pygments_lexer": "ipython3",
   "version": "3.9.13"
  }
 },
 "nbformat": 4,
 "nbformat_minor": 5
}
