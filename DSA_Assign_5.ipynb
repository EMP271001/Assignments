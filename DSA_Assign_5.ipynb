{
 "cells": [
  {
   "cell_type": "markdown",
   "id": "5d37cee3",
   "metadata": {},
   "source": [
    "1. Convert 1D Array Into 2D Array\n",
    "\n",
    "You are given a 0-indexed 1-dimensional (1D) integer array original, and two integers, m and n. You are \n",
    "tasked with creating a 2-dimensional (2D) array with  m rows and n columns using all the elements \n",
    "from original.\n",
    "The elements from indices 0 to n - 1 (inclusive) of original should form the first row of the \n",
    "constructed 2D array, the elements from indices n to 2 * n - 1 (**inclusive**) should form the second \n",
    "row of the constructed 2D array, and so on.\n",
    "\n",
    "Return an m x n 2D array constructed according to the above procedure, or an empty 2D array if it \n",
    "is impossible.\n",
    "\n",
    "\n",
    "Example 1:\n",
    "\n",
    "Input: original = [1,2,3,4], m = 2, n = 2\n",
    "\n",
    "Output: [[1,2],[3,4]]"
   ]
  },
  {
   "cell_type": "code",
   "execution_count": 8,
   "id": "40a01c01",
   "metadata": {},
   "outputs": [
    {
     "name": "stdout",
     "output_type": "stream",
     "text": [
      "[[1, 2], [3, 4]]\n"
     ]
    }
   ],
   "source": [
    "def To_2D (original, m, n):\n",
    "    if len(original) != m * n:\n",
    "        return []\n",
    "    \n",
    "    result = [[0] * n for _ in range(m)]\n",
    "    \n",
    "    for i in range(m):\n",
    "        for j in range(n):\n",
    "            k = i * n + j\n",
    "            result[i][j] = original[k]\n",
    "    \n",
    "    return result\n",
    "\n",
    "\n",
    "# Example taken from the question\n",
    "\n",
    "original = [1, 2, 3, 4]\n",
    "m = 2\n",
    "n = 2\n",
    "result_2D = To_2D(original, m, n)\n",
    "print(result_2D)\n"
   ]
  },
  {
   "cell_type": "markdown",
   "id": "da0f861b",
   "metadata": {},
   "source": [
    "2. You have n coins and you want to build a staircase with these coins. The staircase consists of k rows where the ith row has exactly i coins. The last row of the staircase may be incomplete.\n",
    "\n",
    "Given the integer n, return *the number of  complete rows  of the staircase you will build.\n",
    "\n",
    "Example 1:\n",
    "    \n",
    "    []()\n",
    "\n",
    "![v2.jpg](https://s3-us-west-2.amazonaws.com/secure.notion-static.com/4bd91cfa-d2b1-47b3-8197-a72e8dcfff4b/v2.jpg)\n",
    "\n",
    "Input: n = 5\n",
    "\n",
    "Output: 2"
   ]
  },
  {
   "cell_type": "code",
   "execution_count": 3,
   "id": "612cc2dd",
   "metadata": {},
   "outputs": [
    {
     "name": "stdout",
     "output_type": "stream",
     "text": [
      "2\n"
     ]
    }
   ],
   "source": [
    "def arrangeCoins(n):\n",
    "    row = 0\n",
    "    coins_needed = 1\n",
    "    \n",
    "    while coins_needed <= n:\n",
    "        row += 1\n",
    "        n -= coins_needed\n",
    "        coins_needed += 1\n",
    "    \n",
    "    return row\n",
    "\n",
    "# Example taken from the question \n",
    "\n",
    "n = 5\n",
    "num_complete_rows = arrangeCoins(n)\n",
    "print(num_complete_rows)"
   ]
  },
  {
   "cell_type": "markdown",
   "id": "33835c59",
   "metadata": {},
   "source": [
    "3. Given an integer array nums sorted in non-decreasing order, return an array of the squares \n",
    "of each number sorted in non-decreasing order.\n",
    "\n",
    "Example 1:\n",
    "\n",
    "Input: nums = [-4,-1,0,3,10]\n",
    "\n",
    "Output: [0,1,9,16,100]"
   ]
  },
  {
   "cell_type": "code",
   "execution_count": 4,
   "id": "af4dde6c",
   "metadata": {},
   "outputs": [
    {
     "name": "stdout",
     "output_type": "stream",
     "text": [
      "[0, 1, 9, 16, 100]\n"
     ]
    }
   ],
   "source": [
    "def sorted_order(nums):\n",
    "    result = []\n",
    "    left, right = 0, len(nums) - 1\n",
    "    \n",
    "    while left <= right:\n",
    "        if abs(nums[left]) >= abs(nums[right]):\n",
    "            result.append(nums[left] ** 2)\n",
    "            left += 1\n",
    "        else:\n",
    "            result.append(nums[right] ** 2)\n",
    "            right -= 1\n",
    "    \n",
    "    return result[::-1]\n",
    "\n",
    "\n",
    "# Example taken from the question\n",
    "\n",
    "nums = [-4, -1, 0, 3, 10]\n",
    "squared_nums = sorted_order(nums)\n",
    "print(squared_nums)"
   ]
  },
  {
   "cell_type": "markdown",
   "id": "ac08f3c0",
   "metadata": {},
   "source": [
    "4. Given two 0-indexed integer arrays nums1 and nums2, return a list answer of size 2 where:\n",
    "\n",
    "- answer[0] is a list of all distinct integers in nums1 which are not present in nums2.\n",
    "- answer[1] is a list of all distinct integers in nums2 which are not present in nums1.\n",
    "\n",
    "Note that the integers in the lists may be returned in any order.\n",
    "\n",
    "Example 1:\n",
    "\n",
    "Input: nums1 = [1,2,3], nums2 = [2,4,6]\n",
    "\n",
    "Output: [[1,3],[4,6]]"
   ]
  },
  {
   "cell_type": "code",
   "execution_count": 5,
   "id": "d7002f45",
   "metadata": {},
   "outputs": [
    {
     "name": "stdout",
     "output_type": "stream",
     "text": [
      "[[1, 3], [4, 6]]\n"
     ]
    }
   ],
   "source": [
    "def find_distinct_integers(nums1, nums2):\n",
    "    set1 = set(nums1)\n",
    "    set2 = set(nums2)\n",
    "    result1 = list(set1 - set2)\n",
    "    result2 = list(set2 - set1)\n",
    "    return [result1, result2]\n",
    "\n",
    "\n",
    "# Example taken from the question\n",
    "\n",
    "nums1 = [1, 2, 3]\n",
    "nums2 = [2, 4, 6]\n",
    "answer = find_distinct_integers(nums1, nums2)\n",
    "print(answer)"
   ]
  },
  {
   "cell_type": "markdown",
   "id": "988b8044",
   "metadata": {},
   "source": [
    "5. Given two integer arrays arr1 and arr2, and the integer d, *return the distance value between the two \n",
    "arrays.\n",
    "The distance value is defined as the number of elements arr1[i] such that there is not any element \n",
    "arr2[j] where |arr1[i]-arr2[j]| <= d.\n",
    "\n",
    "Example 1:\n",
    "\n",
    "Input: arr1 = [4,5,8], arr2 = [10,9,1,8], d = 2\n",
    "\n",
    "Output: 2"
   ]
  },
  {
   "cell_type": "code",
   "execution_count": 7,
   "id": "324bd346",
   "metadata": {},
   "outputs": [
    {
     "name": "stdout",
     "output_type": "stream",
     "text": [
      "2\n"
     ]
    }
   ],
   "source": [
    "def find_distance(arr1, arr2, d):\n",
    "    dist = 0\n",
    "\n",
    "    for num1 in arr1:\n",
    "        found = False\n",
    "\n",
    "        for num2 in arr2:\n",
    "            if abs(num1 - num2) <= d:\n",
    "                found = True\n",
    "                break\n",
    "\n",
    "        if not found:\n",
    "            dist += 1\n",
    "\n",
    "    return dist\n",
    "\n",
    "\n",
    "# Example taken from the question\n",
    "\n",
    "arr1 = [4, 5, 8]\n",
    "arr2 = [10, 9, 1, 8]\n",
    "d = 2\n",
    "distance = find_distance(arr1, arr2, d)\n",
    "print(distance)\n"
   ]
  },
  {
   "cell_type": "markdown",
   "id": "d9e0aadf",
   "metadata": {},
   "source": [
    "6. Given an integer array nums of length n where all the integers of nums are in the range [1, n] and \n",
    "each integer appears once or twice, return an array of all the integers that appears twice.\n",
    "\n",
    "You must write an algorithm that runs in O(n) time and uses only constant extra space.\n",
    "\n",
    "Example 1:\n",
    "\n",
    "Input: nums = [4,3,2,7,8,2,3,1]\n",
    "\n",
    "Output:   [2,3]"
   ]
  },
  {
   "cell_type": "code",
   "execution_count": 10,
   "id": "5b5732f6",
   "metadata": {},
   "outputs": [
    {
     "name": "stdout",
     "output_type": "stream",
     "text": [
      "[2, 3]\n"
     ]
    }
   ],
   "source": [
    "def find_duplicates(nums):\n",
    "    result = []\n",
    "    for num in nums:\n",
    "        idx = abs(num) - 1\n",
    "        if nums[idx] < 0:\n",
    "            result.append(abs(num))\n",
    "        else:\n",
    "            nums[idx] *= -1\n",
    "    return result\n",
    "\n",
    "\n",
    "# Example taken from the question\n",
    "\n",
    "nums = [4, 3, 2, 7, 8, 2, 3, 1]\n",
    "duplicates = find_duplicates(nums)\n",
    "print(duplicates)\n"
   ]
  }
 ],
 "metadata": {
  "kernelspec": {
   "display_name": "Python 3 (ipykernel)",
   "language": "python",
   "name": "python3"
  },
  "language_info": {
   "codemirror_mode": {
    "name": "ipython",
    "version": 3
   },
   "file_extension": ".py",
   "mimetype": "text/x-python",
   "name": "python",
   "nbconvert_exporter": "python",
   "pygments_lexer": "ipython3",
   "version": "3.9.13"
  }
 },
 "nbformat": 4,
 "nbformat_minor": 5
}
