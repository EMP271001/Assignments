{
 "cells": [
  {
   "cell_type": "markdown",
   "id": "fdb7e10f",
   "metadata": {},
   "source": [
    "1. The two values of Boolean Data type are True and False. It can also be written in the form of 1 and 0."
   ]
  },
  {
   "cell_type": "code",
   "execution_count": 8,
   "id": "964a3da3",
   "metadata": {},
   "outputs": [
    {
     "name": "stdout",
     "output_type": "stream",
     "text": [
      "<class 'bool'>\n",
      "<class 'bool'>\n",
      "False\n"
     ]
    }
   ],
   "source": [
    "# running some boolean data\n",
    "a = True\n",
    "b = False\n",
    "print(type(a))\n",
    "print(type(b))\n",
    "m = 3\n",
    "n = 2\n",
    "if m == n:\n",
    "    print(a)\n",
    "else:\n",
    "    print(b)"
   ]
  },
  {
   "cell_type": "markdown",
   "id": "e744c11e",
   "metadata": {},
   "source": [
    "2. There are three boolean operators such as\n",
    "\n",
    "\n",
    "-> Boolean AND operator\n",
    "\n",
    "-> Boolean OR operator\n",
    "\n",
    "-> Boolean NOT operator\n"
   ]
  },
  {
   "cell_type": "markdown",
   "id": "119cf3bf",
   "metadata": {},
   "source": [
    "3. Boolean Operators Truth Table \n",
    "\n",
    "A           B            A && B          A || B         !A\n",
    "\n",
    "\n",
    "true        true         true            true           false\n",
    "\n",
    "\n",
    "true        false        false           true           false\n",
    "\n",
    "\n",
    "false       true         false           true           true\n",
    "\n",
    "\n",
    "false       false        false           false          true\n",
    "\n",
    "---------------------------------------------------------------\n",
    "\n",
    "Here\n",
    "\n",
    "A && B stands for boolean And operator\n",
    "\n",
    "A || B stands for boolean Or operator\n",
    "\n",
    "!A stands for boolean not operator\n",
    "\n",
    "---------------------------------------------------------------\n",
    "For even better understanding in algebraic form, substitute true with 1 and false with 0 and the rest of the result stays same."
   ]
  },
  {
   "cell_type": "markdown",
   "id": "c37f1393",
   "metadata": {},
   "source": [
    "4. \n",
    "\n",
    "-> (5 > 4) and (3 == 5)                     = False\n",
    "-> not (5 > 4)                              = False\n",
    "-> (5 > 4) or (3 == 5)                      = True\n",
    "-> not ((5 > 4) or (3 == 5))                = False\n",
    "-> (True and True) and (True == False)      = False\n",
    "-> (not False) or (not True)                = True\n"
   ]
  },
  {
   "cell_type": "markdown",
   "id": "691c8b20",
   "metadata": {},
   "source": [
    "5. Six comparison operators are :\n",
    "\n",
    "-> Less than ( < )\n",
    "\n",
    "-> Less than or equal to ( <= )\n",
    "\n",
    "-> Greater than ( > )\n",
    "\n",
    "-> Greater than or equal to ( >= )\n",
    "\n",
    "-> Equal to ( == )\n",
    "\n",
    "-> Not Equal to ( != )"
   ]
  },
  {
   "cell_type": "markdown",
   "id": "74cafb15",
   "metadata": {},
   "source": [
    "6. Difference between '=' and '==' operators.\n",
    "\n",
    "-> '=' is an assignment operator whereas '==' is a relational or comparison operator.\n",
    "\n",
    "-> '=' is used to assign a value to a variable whereas '==' is used for comparing two values and it returns 1 if both values are     equal otherwise returns 0.\n",
    "\n",
    "-> Some examples are mentioned as below :- "
   ]
  },
  {
   "cell_type": "code",
   "execution_count": 4,
   "id": "6c74c070",
   "metadata": {},
   "outputs": [
    {
     "name": "stdout",
     "output_type": "stream",
     "text": [
      "True\n",
      "False\n"
     ]
    }
   ],
   "source": [
    "a = 10    # here we use '=' operator to assign a value 10 to a variable a. \n",
    "b = 20    # here we use '=' operator to assign a value 20 to a variable b.\n",
    "\n",
    "print(6 == 6)   # here we use '==' operator to check whether two operands are equal or not. Since 6 = 6 it returns True.\n",
    "print(10 == 8)  # here we use '==' operator to check whether two operands are equal or not. Since 10 != 6 it returns False."
   ]
  },
  {
   "cell_type": "markdown",
   "id": "bc96c022",
   "metadata": {},
   "source": [
    "7. There are three blocks in this code such as :\n",
    "\n",
    "-> spam = 0\n",
    "   if spam == 10:\n",
    "     print('eggs')\n",
    "\n",
    "-> if spam > 5:\n",
    "     print('bacon')\n",
    "   else:\n",
    "     print('ham')\n",
    "\n",
    "-> print('spam')\n",
    "   print('spam')\n"
   ]
  },
  {
   "cell_type": "code",
   "execution_count": 7,
   "id": "5683d6dc",
   "metadata": {},
   "outputs": [
    {
     "name": "stdout",
     "output_type": "stream",
     "text": [
      "Enter number for spam: 3\n",
      "Greetings!\n"
     ]
    }
   ],
   "source": [
    "# 8th question\n",
    "\n",
    "spam = int(input(\"Enter number for spam: \"))\n",
    "if spam == 1:\n",
    "    print('Hello')\n",
    "elif spam == 2:\n",
    "    print('Howdy')\n",
    "else:\n",
    "    print('Greetings!')"
   ]
  },
  {
   "cell_type": "markdown",
   "id": "bc2627ab",
   "metadata": {},
   "source": [
    "9. We can stop the infinite loop by pressing ctrl + c or when a break statement is found."
   ]
  },
  {
   "cell_type": "markdown",
   "id": "668006d3",
   "metadata": {},
   "source": [
    "10. difference between break and continue is :\n",
    "\n",
    "-> When Break keyword is used ,it terminates the execution of the current loop and passes the control over the next loop or main body, whereas continue keyword is used, it skips the current iteration and executes the very next iteration in the loop. \n",
    "\n",
    "-> When break is used it stops the continuation of the loop whereas continue is used to stop the execution of the current iteration."
   ]
  },
  {
   "cell_type": "markdown",
   "id": "97265679",
   "metadata": {},
   "source": [
    "11. The differences between range(10), range(0, 10), and range(0, 10, 1) are :\n",
    "\n",
    "\n",
    "-> range(10) = It generates a sequence of numbers starting from 0(default start value) to 9(the last limit always is n-1 so here it will be 10-1 = 9). However the step value is not defined so by default it will take it as 1 and will generate it like that.\n",
    "\n",
    "\n",
    "-> range(0,10) = It generates a sequence of numbers starting from 0(already mentioned) to 9\n",
    "(as per last limit it is n-1 i.e 10-1 = 9). And as the last case the step value is not defined so by default it will be 1.\n",
    "\n",
    "\n",
    "-> rage (0,10,1) = Since there are three values mentiooned, it can be said briefly as (start, stop,step).It generates a sequence of numbers starting from 0(already mentioned) to 9(already mentioned as per last limit 10-1 = 9). And this time the step value is mentioned as 1 so the numbers within the specifed range will be incremented by 1 evertime the loop runs.\n",
    "\n"
   ]
  },
  {
   "cell_type": "code",
   "execution_count": 9,
   "id": "8fe9a212",
   "metadata": {},
   "outputs": [
    {
     "name": "stdout",
     "output_type": "stream",
     "text": [
      "1\n",
      "2\n",
      "3\n",
      "4\n",
      "5\n",
      "6\n",
      "7\n",
      "8\n",
      "9\n",
      "10\n"
     ]
    }
   ],
   "source": [
    "# 12 part 1\n",
    "\n",
    "for i in range(1, 11):\n",
    "    print(i)\n"
   ]
  },
  {
   "cell_type": "code",
   "execution_count": 10,
   "id": "993b6d25",
   "metadata": {},
   "outputs": [
    {
     "name": "stdout",
     "output_type": "stream",
     "text": [
      "1\n",
      "2\n",
      "3\n",
      "4\n",
      "5\n",
      "6\n",
      "7\n",
      "8\n",
      "9\n",
      "10\n"
     ]
    }
   ],
   "source": [
    "# 12 part 2\n",
    "\n",
    "i = 1\n",
    "while i <= 10:\n",
    "    print(i)\n",
    "    i += 1\n"
   ]
  },
  {
   "cell_type": "markdown",
   "id": "b6c39123",
   "metadata": {},
   "source": [
    "13. we can call the function as spam.bacon(). "
   ]
  }
 ],
 "metadata": {
  "kernelspec": {
   "display_name": "Python 3 (ipykernel)",
   "language": "python",
   "name": "python3"
  },
  "language_info": {
   "codemirror_mode": {
    "name": "ipython",
    "version": 3
   },
   "file_extension": ".py",
   "mimetype": "text/x-python",
   "name": "python",
   "nbconvert_exporter": "python",
   "pygments_lexer": "ipython3",
   "version": "3.9.13"
  }
 },
 "nbformat": 4,
 "nbformat_minor": 5
}
