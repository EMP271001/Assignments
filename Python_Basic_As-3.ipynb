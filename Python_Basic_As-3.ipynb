{
 "cells": [
  {
   "cell_type": "markdown",
   "id": "ca8cede8",
   "metadata": {},
   "source": [
    "1. There are many reasons why functions are advantageous to have in our programs such as -\n",
    "\n",
    "-> Functions allow our code to break down into small modules.By dividing our programs into functions, it becomes easier to manage,understand and manitain. \n",
    "\n",
    "-> Functions makes the code more readable and organized. Well-defined functions with descriptive names helps to maintain and debug the code properly.\n",
    "\n",
    "-> Functions can be reused in different parts of the program or in other projects. This reuseability reduces duplication and ensures that a piece of code only needs to written once and can be utilized multiple times."
   ]
  },
  {
   "cell_type": "markdown",
   "id": "28eb8f89",
   "metadata": {},
   "source": [
    "2. when the function is called, the code inside the functions executes."
   ]
  },
  {
   "cell_type": "markdown",
   "id": "eaadab74",
   "metadata": {},
   "source": [
    "3. In python, we can create a function using def keyword."
   ]
  },
  {
   "cell_type": "markdown",
   "id": "98fe66ca",
   "metadata": {},
   "source": [
    "4. Difference between function and function call is:\n",
    "\n",
    "-> A function is a block of code that does a particular operation and returns a result whereas a function call is the code used to pass control to a function.\n",
    "\n",
    "-> While creating a function the colon is a must whereas in a function call colon is not necessary."
   ]
  },
  {
   "cell_type": "code",
   "execution_count": 2,
   "id": "e5ab18f8",
   "metadata": {},
   "outputs": [
    {
     "name": "stdout",
     "output_type": "stream",
     "text": [
      "30\n"
     ]
    }
   ],
   "source": [
    "# for function and function call example\n",
    "def add_num(a,b): # creating a function named add_num with a,b as parameters\n",
    "    return a+b\n",
    "\n",
    "result = add_num(10,20) # function calling with 10,20 as arguments passed and it returns the sum of those arguments\n",
    "print(result)"
   ]
  },
  {
   "cell_type": "markdown",
   "id": "14662855",
   "metadata": {},
   "source": [
    "5.  In a Python program, there is one global scope.\n",
    "                               \n",
    "The number of local scopes in a Python program depends on the number of functions and code blocks that introduce local scopes. Each function or code block creates its own local scope. Therefore, the number of local scopes can vary depending on the complexity of your program and the number of functions or code blocks that are defined."
   ]
  },
  {
   "cell_type": "markdown",
   "id": "3b3a6c0b",
   "metadata": {},
   "source": [
    "6. When a function call returns, the local scope associated with that function is typically destroyed. "
   ]
  },
  {
   "cell_type": "markdown",
   "id": "585757c5",
   "metadata": {},
   "source": [
    "7. The concept of return value in python refers the value that a function provides as its output after it has been called and executed.\n",
    "          Yes, in python it is possible to have a return value in an expression."
   ]
  },
  {
   "cell_type": "code",
   "execution_count": 1,
   "id": "e1c998f7",
   "metadata": {},
   "outputs": [
    {
     "name": "stdout",
     "output_type": "stream",
     "text": [
      "20\n"
     ]
    }
   ],
   "source": [
    "a = 10\n",
    "b = 20\n",
    "\n",
    "# using a conditional expression to return a value\n",
    "res = a if a>b else b\n",
    "print(res)"
   ]
  },
  {
   "cell_type": "markdown",
   "id": "a3a54585",
   "metadata": {},
   "source": [
    "8. If a function doesn't have a return statement, the function will automatically return a special value called 'None'. The 'None' is a built-in python object that represents the abscene of a value or null value.Below is an example."
   ]
  },
  {
   "cell_type": "code",
   "execution_count": 2,
   "id": "d3b04ee6",
   "metadata": {},
   "outputs": [
    {
     "name": "stdout",
     "output_type": "stream",
     "text": [
      "Hello World.New Day which means New Suffering\n",
      "None\n"
     ]
    }
   ],
   "source": [
    "def no_func():\n",
    "    print(\"Hello World.New Day which means New Suffering\")\n",
    "    \n",
    "outpt = no_func()\n",
    "print(outpt) # it will print the message but it doesnt explicitly return any value so the value of outpt will be 'None'"
   ]
  },
  {
   "cell_type": "markdown",
   "id": "0f4c51b3",
   "metadata": {},
   "source": [
    "9. By default if we assign a variable in a function, python will conisder it as a local variable. So to refer the function variable into a global variable, we can use the keyword 'global' in the function.Below is the example."
   ]
  },
  {
   "cell_type": "code",
   "execution_count": 5,
   "id": "afbf7bc1",
   "metadata": {},
   "outputs": [
    {
     "name": "stdout",
     "output_type": "stream",
     "text": [
      "100\n"
     ]
    }
   ],
   "source": [
    "variable = 50 # local variable\n",
    "\n",
    "def func():\n",
    "    global variable # converting the local variable outside the function into global variable\n",
    "    variable +=50\n",
    "\n",
    "func()\n",
    "print(variable) # will return 100 after calculation"
   ]
  },
  {
   "cell_type": "markdown",
   "id": "b6a1da17",
   "metadata": {},
   "source": [
    "10. In python, None is considered as a datatype of its own i.e the data type of 'None' is 'NoneType'.Below is an example to simplify my statement."
   ]
  },
  {
   "cell_type": "code",
   "execution_count": 6,
   "id": "17e8ef0d",
   "metadata": {},
   "outputs": [
    {
     "name": "stdout",
     "output_type": "stream",
     "text": [
      "<class 'NoneType'>\n"
     ]
    }
   ],
   "source": [
    "print(type(None))"
   ]
  },
  {
   "cell_type": "markdown",
   "id": "1df7a104",
   "metadata": {},
   "source": [
    "11. The sentence \" import areallyourpetsnamederic \" imports a module named \"areallyourpetsnamederic\". And this isn't an inbuilt python module."
   ]
  },
  {
   "cell_type": "markdown",
   "id": "d89b4b14",
   "metadata": {},
   "source": [
    "12. If I had a bacon() feature in a spam module, the function can be called by spam.bacon()."
   ]
  },
  {
   "cell_type": "markdown",
   "id": "32ca24b9",
   "metadata": {},
   "source": [
    "13. We can save a program from crashing if it encounter an error by following some strategies such as -\n",
    "\n",
    "\n",
    "-> Try-Except blocks: Wrap the code that might raise an exception in a try block, and then handle the exception in an associated except block. This way, if an exception occurs within the try block, the program will continue to execute after the except block, rather than crashing.\n",
    "\n",
    "\n",
    "-> Using the finally Clause: You can also use the finally clause in conjunction with try and except blocks. The code within the finally block will be executed regardless of whether an exception occurred or not. This is useful for cleanup operations."
   ]
  },
  {
   "cell_type": "markdown",
   "id": "0132a7a4",
   "metadata": {},
   "source": [
    "14.\n",
    "\n",
    "The try clause is used to enclose the code that you suspect might raise an exception. It allows you to isolate the \n",
    "potentially problematic code. If an exception occurs within the try block, the execution of the block is immediately halted, and the control is transferred to the appropriate except block.\n",
    "\n",
    "The except clause follows the try block and specifies the action to be taken if a particular type of exception occurs."
   ]
  }
 ],
 "metadata": {
  "kernelspec": {
   "display_name": "Python 3 (ipykernel)",
   "language": "python",
   "name": "python3"
  },
  "language_info": {
   "codemirror_mode": {
    "name": "ipython",
    "version": 3
   },
   "file_extension": ".py",
   "mimetype": "text/x-python",
   "name": "python",
   "nbconvert_exporter": "python",
   "pygments_lexer": "ipython3",
   "version": "3.9.13"
  }
 },
 "nbformat": 4,
 "nbformat_minor": 5
}
