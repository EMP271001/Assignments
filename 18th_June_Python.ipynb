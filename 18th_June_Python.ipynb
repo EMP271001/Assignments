{
 "cells": [
  {
   "cell_type": "markdown",
   "id": "da9799ea",
   "metadata": {},
   "source": [
    "1. The else block in a try-except statement is optional and provides a way to specify a block of code that should be executed only if no exceptions were raised in the preceding try block. \n",
    "\n",
    "Below is an example to use it in a situation."
   ]
  },
  {
   "cell_type": "code",
   "execution_count": 8,
   "id": "846ee0b6",
   "metadata": {},
   "outputs": [
    {
     "name": "stdout",
     "output_type": "stream",
     "text": [
      "Enter a number: 50\n",
      "Result: 2.0\n"
     ]
    }
   ],
   "source": [
    "try:\n",
    "    num = int(input(\"Enter a number: \"))\n",
    "    result = 100 / num\n",
    "except ZeroDivisionError:\n",
    "    print(\"Error: Cannot divide by zero.\")\n",
    "except ValueError:\n",
    "    print(\"Error: Invalid input. Please enter a valid number.\")\n",
    "else:\n",
    "    print(f\"Result: {result}\")\n",
    "\n",
    "# In this example, if the user enters a valid number and no exceptions occur during the execution of the try block, \n",
    "# the else block is executed, and the result is printed."
   ]
  },
  {
   "cell_type": "markdown",
   "id": "68a1a088",
   "metadata": {},
   "source": [
    "2. Yes, a try-except block can be nested inside another try-except block. This allows us to handle exceptions at different levels of your code.\n",
    "\n",
    "Below is an example to use it in a situation."
   ]
  },
  {
   "cell_type": "code",
   "execution_count": 6,
   "id": "b12f9f3c",
   "metadata": {},
   "outputs": [
    {
     "name": "stdout",
     "output_type": "stream",
     "text": [
      "Enter a number: 0\n",
      "Error: Cannot divide by zero in the inner try block.\n"
     ]
    }
   ],
   "source": [
    "try:\n",
    "    num_new = input(\"Enter a number: \")\n",
    "    \n",
    "    try:\n",
    "        num = int(num_new)\n",
    "        result = 2 / num\n",
    "        print(\"Result:\", result)\n",
    "    except ZeroDivisionError:\n",
    "        print(\"Error: Cannot divide by zero in the inner try block.\")\n",
    "    except ValueError:\n",
    "        print(\"Error: Invalid input in the inner try block.\")\n",
    "except ValueError:\n",
    "    print(\"Error: Invalid input in the outer try block.\")\n"
   ]
  },
  {
   "cell_type": "code",
   "execution_count": 9,
   "id": "223c01e5",
   "metadata": {},
   "outputs": [
    {
     "name": "stdout",
     "output_type": "stream",
     "text": [
      "Enter a number: 0\n",
      "Error: Cannot divide by zero.\n"
     ]
    }
   ],
   "source": [
    "# 3\n",
    "# Here's an example of how to create a custom exception class and use it.\n",
    "\n",
    "class CustomError(Exception):\n",
    "    def __init__(self, message):\n",
    "        self.message = message\n",
    "\n",
    "try:\n",
    "    num = int(input(\"Enter a number: \"))\n",
    "    if num < 0:\n",
    "        raise CustomError(\"Negative numbers are not allowed.\")\n",
    "    result = 10 / num\n",
    "    print(\"Result:\", result)\n",
    "except CustomError as ce:\n",
    "    print(\"Custom Error:\", ce.message)\n",
    "except ZeroDivisionError:\n",
    "    print(\"Error: Cannot divide by zero.\")\n",
    "except ValueError:\n",
    "    print(\"Error: Invalid input. Please enter a valid number.\")\n"
   ]
  },
  {
   "cell_type": "markdown",
   "id": "ad7ac7a8",
   "metadata": {},
   "source": [
    "4. There are a lot of exceptions in python but some of them which are common are :\n",
    "\n",
    "-> SyntaxError: Raised when there is a syntax error in the code.\n",
    "\n",
    "-> IndentationError: Subclass of SyntaxError, raised when there is an indentation-related error.\n",
    "\n",
    "-> TypeError: Raised when an operation or function is applied to an object of inappropriate type.\n",
    "\n",
    "-> RuntimeError: Generic runtime error not covered by other exceptions.\n",
    "\n",
    "-> NameError: Raised when a local or global name is not found.\n"
   ]
  },
  {
   "cell_type": "markdown",
   "id": "6cf767b4",
   "metadata": {},
   "source": [
    "5. Logging in Python refers to the process of recording messages, events, and information during the execution of a program. It involves using the built-in logging module to capture and store various types of messages, such as debugging information, warnings, errors, and other relevant details, for the purpose of monitoring, debugging, and analyzing the behavior of a software application.\n",
    "\n",
    "Logging is important in software development for several reasons:\n",
    "\n",
    "-> Debugging and Troubleshooting - Logging allows developers to record detailed information about the flow of the program, the values of variables, and the execution paths. This information is invaluable for identifying and fixing bugs and issues during development and testing.\n",
    "\n",
    "-> Monitoring and Analysis - In production environments, logging provides insights into the behavior of an application while it's running. It helps developers and system administrators monitor the application's health, diagnose problems, and optimize performance.\n",
    "\n",
    "-> Error Tracking - When errors occur, detailed log messages can provide essential context to understand the cause of the error, the sequence of events leading up to it, and potentially the environment in which it occurred."
   ]
  },
  {
   "cell_type": "markdown",
   "id": "4fd5166c",
   "metadata": {},
   "source": [
    "6. Log levels in Python logging provide a way to categorize and prioritize log messages based on their significance and importance. The built-in log levels in Python's logging module are as follows :\n",
    "\n"
   ]
  },
  {
   "cell_type": "code",
   "execution_count": 10,
   "id": "db385c1e",
   "metadata": {},
   "outputs": [
    {
     "name": "stderr",
     "output_type": "stream",
     "text": [
      "DEBUG:root:This is a debug message\n"
     ]
    }
   ],
   "source": [
    "# -> DEBUG: Lowest log level. Used for detailed debugging information. Typically not needed in production environments. \n",
    "# Example: Printing variable values for troubleshooting.\n",
    "\n",
    "import logging\n",
    "\n",
    "logging.basicConfig(level=logging.DEBUG)\n",
    "logging.debug(\"This is a debug message\")\n"
   ]
  },
  {
   "cell_type": "code",
   "execution_count": 11,
   "id": "618433f7",
   "metadata": {},
   "outputs": [
    {
     "name": "stderr",
     "output_type": "stream",
     "text": [
      "INFO:root:Application started\n"
     ]
    }
   ],
   "source": [
    "# -> INFO: Informational messages that indicate the general flow of the application. Useful for tracking the execution \n",
    "# of major components. Example: Startup messages, major configuration changes.\n",
    "\n",
    "import logging\n",
    "\n",
    "logging.basicConfig(level=logging.INFO)\n",
    "logging.info(\"Application started\")\n"
   ]
  },
  {
   "cell_type": "code",
   "execution_count": 12,
   "id": "6877c740",
   "metadata": {},
   "outputs": [
    {
     "name": "stderr",
     "output_type": "stream",
     "text": [
      "WARNING:root:Disk space is running low\n"
     ]
    }
   ],
   "source": [
    "# ->  WARNING: Indicate potential problems or unexpected situations that don't prevent the program from continuing. \n",
    "# Example: Deprecated API usage, resource exhaustion nearing a critical level.\n",
    "\n",
    "\n",
    "import logging\n",
    "\n",
    "logging.basicConfig(level=logging.WARNING)\n",
    "logging.warning(\"Disk space is running low\")\n"
   ]
  },
  {
   "cell_type": "code",
   "execution_count": 14,
   "id": "2f5ad137",
   "metadata": {},
   "outputs": [],
   "source": [
    "# -> ERROR: Indicate errors that cause the program to terminate some part of its functionality, but the application can \n",
    "# still continue. Example: Failed database connection, missing required files.\n",
    "\n",
    "\n",
    "import logging\n",
    "\n",
    "logging.basicConfig(level=logging.ERROR)\n",
    "try:\n",
    "    # Some operation that raises an exception\n",
    "    ...\n",
    "except Exception as e:\n",
    "    logging.error(\"An error occurred: %s\", e)"
   ]
  },
  {
   "cell_type": "code",
   "execution_count": 15,
   "id": "393e03ea",
   "metadata": {},
   "outputs": [
    {
     "name": "stderr",
     "output_type": "stream",
     "text": [
      "CRITICAL:root:System is shutting down due to a critical error\n"
     ]
    }
   ],
   "source": [
    "# -> CRITICAL: Highest log level. Indicate severe errors or unhandled exceptions that cause the application to crash or \n",
    "# terminate. Example: Unrecoverable system failures, critical security issues. \n",
    "\n",
    "import logging\n",
    "\n",
    "logging.basicConfig(level=logging.CRITICAL)\n",
    "logging.critical(\"System is shutting down due to a critical error\")\n"
   ]
  },
  {
   "cell_type": "markdown",
   "id": "8ebfac37",
   "metadata": {},
   "source": [
    "7. Log formatters in Python logging are responsible for specifying the format of log messages that are emitted by the logging system. They allow you to customize how log messages are structured and presented in the log output. Formatters determine the order and content of various components within a log message, such as timestamp, log level, module name, and the actual log message.\n",
    "         Python's logging module provides the Formatter class for creating log formatters. We can customize the log message format by creating an instance of the Formatter class and configuring it with desired formatting options."
   ]
  },
  {
   "cell_type": "markdown",
   "id": "6b9f0636",
   "metadata": {},
   "source": [
    "8. To set up logging to capture log messages from multiple modules or classes in a Python application, we can follow these steps:\n",
    "\n",
    "-> Create a Centralized Logging Configuration:  Create a centralized configuration for logging settings, such as log level, log format, and log output handlers. This configuration can be stored in a separate module or in the main script of your application.\n",
    "\n",
    "-> Import the Logging Configuration: In each module or class that requires logging, import the centralized logging configuration.\n",
    "\n",
    "-> Create Loggers: For each module or class, create a logger object using logging.getLogger(__name__). This ensures that log messages are tagged with the name of the module or class where the logger is created. The __name__ attribute dynamically takes the name of the current module."
   ]
  },
  {
   "cell_type": "markdown",
   "id": "8175e25b",
   "metadata": {},
   "source": [
    "9. Both logging and print statements are used to display information in Python programs, but they serve different purposes and have distinct advantages. The key differences between logging and print statements are:\n",
    "\n",
    "-> Output Destination:\n",
    "Print Statements: Print statements output directly to the standard output (usually the console).\n",
    "Logging: Logging provides more flexibility by allowing you to specify multiple output destinations such as console, files, email, databases, etc.\n",
    "\n",
    "-> Level of Detail:\n",
    "Print Statements: Print statements are often used for quick debugging and displaying immediate values.\n",
    "Logging: Logging offers different log levels (DEBUG, INFO, WARNING, ERROR, CRITICAL), allowing you to control the level of detail in your messages. This is useful for distinguishing between different levels of importance in your application's logs.\n",
    "\n",
    "-> Performance Impact:\n",
    "Print Statements: Extensive use of print statements can impact performance, especially in large applications.\n",
    "Logging: Logging is optimized for performance, and log messages can be controlled by adjusting log levels.\n",
    "\n",
    "\n",
    "\n",
    "\n",
    "In a real-world application, you should use logging over print statements for several reasons:\n",
    "\n",
    "-> Structured Information: Logging provides structured and organized information that can be categorized and filtered.\n",
    "\n",
    "-> Debugging and Maintenance: Logs are more useful during debugging and maintaining an application. They remain in the codebase and can be enabled or disabled as needed.\n",
    "\n",
    "-> Granular Control: You can control the level of detail in logs using different log levels, making it easier to diagnose issues."
   ]
  },
  {
   "cell_type": "code",
   "execution_count": 18,
   "id": "bb45f666",
   "metadata": {},
   "outputs": [
    {
     "name": "stderr",
     "output_type": "stream",
     "text": [
      "INFO:root:Hello, World!\n"
     ]
    }
   ],
   "source": [
    "# 10. We used the logging module to configure and write log messages to a file named \"app.log\". \n",
    "\n",
    "import logging\n",
    "\n",
    "# Configure logging to write to a file named \"app.log\"\n",
    "logging.basicConfig(filename='app.log', level=logging.INFO, format='%(asctime)s - %(levelname)s - %(message)s')\n",
    "\n",
    "# Log the message \"Hello, World!\" with INFO log level\n",
    "logging.info(\"Hello, World!\")\n"
   ]
  }
 ],
 "metadata": {
  "kernelspec": {
   "display_name": "Python 3 (ipykernel)",
   "language": "python",
   "name": "python3"
  },
  "language_info": {
   "codemirror_mode": {
    "name": "ipython",
    "version": 3
   },
   "file_extension": ".py",
   "mimetype": "text/x-python",
   "name": "python",
   "nbconvert_exporter": "python",
   "pygments_lexer": "ipython3",
   "version": "3.9.13"
  }
 },
 "nbformat": 4,
 "nbformat_minor": 5
}
