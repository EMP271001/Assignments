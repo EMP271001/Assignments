{
 "cells": [
  {
   "cell_type": "markdown",
   "id": "dfcbf2fa",
   "metadata": {},
   "source": [
    "1. In python, '[]' is used to create an empty list i.e a type of data structure that can store a lot of items which are ordered and mutable."
   ]
  },
  {
   "cell_type": "markdown",
   "id": "12edde47",
   "metadata": {},
   "source": [
    "2. To assign the value 'hello' as the third value in a list stored in a variable called spam, we can use indexing to access the element at the desired position and then assign the new value to it. Below is the code to simplify with my statement.\n",
    "( Since indexing starts with 0 in python we used spam[2] )"
   ]
  },
  {
   "cell_type": "code",
   "execution_count": 1,
   "id": "66aa008a",
   "metadata": {},
   "outputs": [
    {
     "name": "stdout",
     "output_type": "stream",
     "text": [
      "[2, 4, 'hello', 8, 10]\n"
     ]
    }
   ],
   "source": [
    "spam = [2, 4, 6, 8, 10]   # original list\n",
    "spam[2] = 'hello'  # entering a value using indexing\n",
    "print(spam)  # This will print: [2, 4, 'hello', 8, 10]"
   ]
  },
  {
   "cell_type": "markdown",
   "id": "20d9714a",
   "metadata": {},
   "source": [
    "3. value of spam[int(int('3'*2)/11)] is 8."
   ]
  },
  {
   "cell_type": "code",
   "execution_count": 4,
   "id": "b029358a",
   "metadata": {},
   "outputs": [
    {
     "data": {
      "text/plain": [
       "8"
      ]
     },
     "execution_count": 4,
     "metadata": {},
     "output_type": "execute_result"
    }
   ],
   "source": [
    "spam[int(int('3'*2)/11)]"
   ]
  },
  {
   "cell_type": "markdown",
   "id": "86ccf06d",
   "metadata": {},
   "source": [
    "4. value of spam[-1] is 10"
   ]
  },
  {
   "cell_type": "code",
   "execution_count": 5,
   "id": "c0caf47e",
   "metadata": {},
   "outputs": [
    {
     "data": {
      "text/plain": [
       "10"
      ]
     },
     "execution_count": 5,
     "metadata": {},
     "output_type": "execute_result"
    }
   ],
   "source": [
    "spam[-1]"
   ]
  },
  {
   "cell_type": "markdown",
   "id": "2c71657b",
   "metadata": {},
   "source": [
    "5. value of spam[:2] is [2,4]"
   ]
  },
  {
   "cell_type": "code",
   "execution_count": 6,
   "id": "513d4092",
   "metadata": {},
   "outputs": [
    {
     "data": {
      "text/plain": [
       "[2, 4]"
      ]
     },
     "execution_count": 6,
     "metadata": {},
     "output_type": "execute_result"
    }
   ],
   "source": [
    "spam[:2]"
   ]
  },
  {
   "cell_type": "markdown",
   "id": "77192c3f",
   "metadata": {},
   "source": [
    "6. value of bacon.index('cat') is 1."
   ]
  },
  {
   "cell_type": "code",
   "execution_count": 9,
   "id": "3d8b8929",
   "metadata": {},
   "outputs": [
    {
     "data": {
      "text/plain": [
       "1"
      ]
     },
     "execution_count": 9,
     "metadata": {},
     "output_type": "execute_result"
    }
   ],
   "source": [
    "bacon = [3.14,'cat',11,'cat',True]\n",
    "bacon.index('cat')"
   ]
  },
  {
   "cell_type": "markdown",
   "id": "b0566ffe",
   "metadata": {},
   "source": [
    "7. bacon.append(99) changes the whole list to [3.14, 'cat', 11, 'cat', True, 99] "
   ]
  },
  {
   "cell_type": "code",
   "execution_count": 15,
   "id": "27e6e1b3",
   "metadata": {},
   "outputs": [
    {
     "name": "stdout",
     "output_type": "stream",
     "text": [
      "[3.14, 'cat', 11, 'cat', True, 99]\n"
     ]
    }
   ],
   "source": [
    "bacon = [3.14,'cat',11,'cat',True]\n",
    "bacon.append(99)\n",
    "\n",
    "print(bacon)"
   ]
  },
  {
   "cell_type": "markdown",
   "id": "7170ca2a",
   "metadata": {},
   "source": [
    "8. bacon.remove('cat') changes the whole list to [3.14, 11, 'cat', True]."
   ]
  },
  {
   "cell_type": "code",
   "execution_count": 18,
   "id": "cf3849b9",
   "metadata": {},
   "outputs": [
    {
     "name": "stdout",
     "output_type": "stream",
     "text": [
      "[3.14, 11, 'cat', True]\n"
     ]
    }
   ],
   "source": [
    "bacon = [3.14,'cat',11,'cat',True]\n",
    "bacon.remove('cat')\n",
    "print(bacon)"
   ]
  },
  {
   "cell_type": "markdown",
   "id": "70c47565",
   "metadata": {},
   "source": [
    "9.\n",
    "\n",
    "-> List Concatenation Operator ('+'):\n",
    "The '+' operator is used to concatenate or combine two or more lists into a single list. It creates a new list containing the elements of the original lists in the order they appear.\n",
    "\n",
    "\n",
    "-> List Replication Operator ('*'):\n",
    "The '*' operator, when used with a list and an integer, replicates the list by creating a new list that contains multiple copies of the original list's elements. The order of the replicated elements remains the same\n",
    "\n",
    "Below are some of the examples."
   ]
  },
  {
   "cell_type": "code",
   "execution_count": 22,
   "id": "f920757e",
   "metadata": {},
   "outputs": [
    {
     "name": "stdout",
     "output_type": "stream",
     "text": [
      "After applying concatenation : [1, 2, 3, 4, 5, 6]\n",
      "after applying replication : [0, 1, 0, 1, 0, 1]\n"
     ]
    }
   ],
   "source": [
    "list1 = [1, 2, 3]\n",
    "list2 = [4, 5, 6]\n",
    "final_list = list1 + list2  #------------- applying concatenation operator on two lists\n",
    "print(\"After applying concatenation :\",final_list)  \n",
    "\n",
    "original_list = [0, 1]\n",
    "replicated_list = original_list * 3   #--------------- applying replication operator on 1 list 3 times\n",
    "print(\"After applying replication :\",replicated_list)  \n"
   ]
  },
  {
   "cell_type": "markdown",
   "id": "de87fd26",
   "metadata": {},
   "source": [
    "10. \n",
    "\n",
    "-> append() - this method is used to add an element at the end of the list. It takes an argument i.e the element you want to see at the end of the list.The element is added at the end of the list, regradless of the current contents of the list.\n",
    "\n",
    "-> insert() - this method is used to add an element at a specific index in the list. It takes two arguments i.e the index where we want to insert the element and the element itself.\n",
    "\n",
    "To simplify my statement below are some examples."
   ]
  },
  {
   "cell_type": "code",
   "execution_count": 9,
   "id": "6e9f28e0",
   "metadata": {},
   "outputs": [
    {
     "name": "stdout",
     "output_type": "stream",
     "text": [
      "Original List:  [1, 2, 3]\n",
      "After using append() the new list is :  [1, 2, 3, 4]\n",
      "-------------------------------------------------------\n",
      "Original List:  [1, 2, 3]\n",
      "After using insert() the new list is :  [1, 4, 2, 3]\n"
     ]
    }
   ],
   "source": [
    "my_list = [1, 2, 3]\n",
    "print(\"Original List: \",my_list)\n",
    "my_list.append(4)\n",
    "print(\"After using append() the new list is : \",my_list)  \n",
    "\n",
    "print(\"-\"*55)\n",
    "\n",
    "my_list = [1, 2, 3]\n",
    "print(\"Original List: \",my_list)\n",
    "my_list.insert(1, 4)\n",
    "print(\"After using insert() the new list is : \",my_list)  "
   ]
  },
  {
   "cell_type": "markdown",
   "id": "8bf2241c",
   "metadata": {},
   "source": [
    "11. Two methods for removing items from the list is remove() and pop()."
   ]
  },
  {
   "cell_type": "markdown",
   "id": "4ae74f36",
   "metadata": {},
   "source": [
    "12. List values and string values share some similarities in how they are used in Python, but they are distinct data types with     different characteristics. Here are some ways in which they are similar :-\n",
    "\n",
    "-> Indexing: Both lists and strings can be accessed using indexing. You can access individual elements by specifying their     position (index) within the sequence.\n",
    "\n",
    "\n",
    "-> Slicing: Both lists and string supports slicing, which allows us to extract a portion of the sequence using a range of index.\n",
    "\n",
    "Below are some examples to simplify my statement."
   ]
  },
  {
   "cell_type": "code",
   "execution_count": 12,
   "id": "47858680",
   "metadata": {},
   "outputs": [
    {
     "name": "stdout",
     "output_type": "stream",
     "text": [
      "2\n",
      "l\n",
      "[2, 3, 4]\n",
      "yth\n"
     ]
    }
   ],
   "source": [
    "# ----------------------------------Indexing\n",
    "my_list = [1, 2, 3]\n",
    "my_string = \"hello\"\n",
    "\n",
    "print(my_list[1])    # Accessing the second element of the list (2)\n",
    "print(my_string[2])  # Accessing the third character of the string ('l')\n",
    "\n",
    "\n",
    "\n",
    "#------------------------------------Slicing\n",
    "my_list = [1, 2, 3, 4, 5]\n",
    "my_string = \"python\"\n",
    "\n",
    "sublist = my_list[1:4]      \n",
    "sub_string = my_string[1:4]  \n",
    "print(sublist)               # Extracting elements from index 1 to 3 ([2, 3, 4])\n",
    "print(sub_string)            # Extracting characters from index 1 to 3 ('yth')"
   ]
  },
  {
   "cell_type": "markdown",
   "id": "7f6f2fec",
   "metadata": {},
   "source": [
    "13. Difference  between tuples and lists are :\n",
    "\n",
    "-> mutability\n",
    "Tuples are immutable i.e the elements of the tuples cannot be changed,added or removed after creation whereas \n",
    "Lists are mutable i.e allowing you to modify,add or remove elements even after creation.\n",
    "\n",
    "-> Syntax\n",
    "Tuples are defined using parentheses () or sometimes without any parentheses. Elements are separated by commas whereas\n",
    "Lists are defined using square brackets[]. Elements are also separated by commas."
   ]
  },
  {
   "cell_type": "markdown",
   "id": "f56f40f4",
   "metadata": {},
   "source": [
    "14. We can type a tuple value that only contains the integer 42 by my_tuple = (42,). If we don't put , at the end, python will think it as a simple integer value."
   ]
  },
  {
   "cell_type": "markdown",
   "id": "a40f28c0",
   "metadata": {},
   "source": [
    "15. To get a list into tuple, we can use the built-in tuple() function.\n",
    "\n",
    "To get a tuple into list, we can use the built-in list() function\n",
    "\n",
    "Below are examples of my statements"
   ]
  },
  {
   "cell_type": "code",
   "execution_count": 14,
   "id": "1cdc0542",
   "metadata": {},
   "outputs": [
    {
     "name": "stdout",
     "output_type": "stream",
     "text": [
      "(1, 2, 3, 4)\n",
      "[5, 6, 7, 8]\n"
     ]
    }
   ],
   "source": [
    "my_list = [1, 2, 3, 4]\n",
    "my_tuple = tuple(my_list)\n",
    "print(my_tuple)  # This will print: (1, 2, 3, 4)\n",
    "\n",
    "\n",
    "my_tuple = (5, 6, 7, 8)\n",
    "my_list = list(my_tuple)\n",
    "print(my_list)  # This will print: [1, 2, 3, 4]\n"
   ]
  },
  {
   "cell_type": "markdown",
   "id": "b4fb27c2",
   "metadata": {},
   "source": [
    "16. Variables that \"contain\" list values in Python are actually storing references to the memory locations where the list data \n",
    "is stored. In other words, the variables hold pointers to the list objects in memory. This concept applies to all mutable objects in Python, not just lists.\n",
    "\n"
   ]
  },
  {
   "cell_type": "markdown",
   "id": "dd6ce179",
   "metadata": {},
   "source": [
    "17. In Python, the copy module provides two functions, copy() and deepcopy(), for creating copies of objects. \n",
    "\n",
    "-> The copy() function creates a shallow copy of an object. A shallow copy creates a new object that is a copy of the original object, but it doesn't recursively copy nested objects. Instead, it copies references to the nested objects, which means changes made to the nested objects in the copy will affect the original, and vice versa.\n",
    "\n",
    "-> The deepcopy() function, as the name suggests, creates a deep copy of an object. A deep copy creates a new object and recursively duplicates all objects within the original object, including any nested objects. This means changes to nested objects in the copy do not affect the original.\n",
    "\n",
    "Below are the examples to simplify my statements"
   ]
  },
  {
   "cell_type": "code",
   "execution_count": 15,
   "id": "89fc3162",
   "metadata": {},
   "outputs": [
    {
     "name": "stdout",
     "output_type": "stream",
     "text": [
      "[1, [2, 3, 4]]\n",
      "[1, [2, 3, 4]]\n"
     ]
    }
   ],
   "source": [
    "import copy\n",
    "\n",
    "original_list = [1, [2, 3]]\n",
    "shallow_copy = copy.copy(original_list)\n",
    "\n",
    "shallow_copy[1].append(4)\n",
    "\n",
    "print(original_list)  \n",
    "print(shallow_copy)   "
   ]
  },
  {
   "cell_type": "code",
   "execution_count": 17,
   "id": "bea753cd",
   "metadata": {},
   "outputs": [
    {
     "name": "stdout",
     "output_type": "stream",
     "text": [
      "[1, [2, 3]]\n",
      "[1, [2, 3, 4]]\n"
     ]
    }
   ],
   "source": [
    "import copy\n",
    "\n",
    "original_list = [1, [2, 3]]\n",
    "deep_copy = copy.deepcopy(original_list)\n",
    "\n",
    "deep_copy[1].append(4)\n",
    "\n",
    "print(original_list)  \n",
    "print(deep_copy)      "
   ]
  }
 ],
 "metadata": {
  "kernelspec": {
   "display_name": "Python 3 (ipykernel)",
   "language": "python",
   "name": "python3"
  },
  "language_info": {
   "codemirror_mode": {
    "name": "ipython",
    "version": 3
   },
   "file_extension": ".py",
   "mimetype": "text/x-python",
   "name": "python",
   "nbconvert_exporter": "python",
   "pygments_lexer": "ipython3",
   "version": "3.9.13"
  }
 },
 "nbformat": 4,
 "nbformat_minor": 5
}
